{
 "cells": [
  {
   "cell_type": "markdown",
   "id": "e9a8af46-5f3b-4ad1-8641-ff0a8d4c4d52",
   "metadata": {},
   "source": [
    "# **Ⅰ 필요한 라이브러리**"
   ]
  },
  {
   "cell_type": "code",
   "execution_count": 1,
   "id": "c6933fb3-4f70-435b-b8bb-42c9c8fe9c6f",
   "metadata": {
    "tags": []
   },
   "outputs": [],
   "source": [
    "import pandas as pd\n",
    "import numpy as np\n",
    "from tqdm import tqdm\n",
    "from sklearn.preprocessing import RobustScaler\n",
    "from sklearn.preprocessing import LabelEncoder\n",
    "import lightgbm as lgb\n",
    "from sklearn.model_selection import GridSearchCV\n",
    "from sklearn.model_selection import StratifiedKFold\n",
    "from sklearn.model_selection import train_test_split\n",
    "from sklearn.metrics import f1_score, accuracy_score, roc_auc_score, roc_curve, recall_score, precision_score\n",
    "from sklearn.utils import resample\n",
    "import matplotlib.pyplot as plt\n",
    "import seaborn as sns"
   ]
  },
  {
   "cell_type": "markdown",
   "id": "b31dc79e-d9f6-4904-9ade-a7bcf964c28a",
   "metadata": {},
   "source": [
    "## ▪︎ open ai 연결"
   ]
  },
  {
   "cell_type": "code",
   "execution_count": null,
   "id": "3956279b-feef-4c0f-a4b8-8787e3f387d7",
   "metadata": {},
   "outputs": [],
   "source": [
    "import openai\n",
    "import getpass\n",
    "\n",
    "\n",
    "openai.api_key = getpass.getpass(\"OPENAI_TOKEN\")"
   ]
  },
  {
   "cell_type": "markdown",
   "id": "e2704560-ee7a-4f6d-9e6d-1a0a31bd5291",
   "metadata": {},
   "source": [
    "## ▪︎ bigquery 연결"
   ]
  },
  {
   "cell_type": "code",
   "execution_count": 2,
   "id": "12bc6018-422e-4b7f-86a7-773fd0f7fd2c",
   "metadata": {},
   "outputs": [],
   "source": [
    "import glob\n",
    "from google.cloud import bigquery\n",
    "from google.oauth2 import service_account\n",
    "\n",
    "# 서비스 계정 키 JSON 파일 경로\n",
    "key_path = glob.glob(\"./config/ai-project-398100-90a624ca2d0f.json\")[0]\n",
    "\n",
    "# Credentials 객체 생성\n",
    "credentials = service_account.Credentials.from_service_account_file(key_path)"
   ]
  },
  {
   "cell_type": "code",
   "execution_count": 3,
   "id": "ab514b68-0ee5-4517-8e54-d7c883a98c70",
   "metadata": {},
   "outputs": [],
   "source": [
    "# GCP 클라이언트 객체 생성\n",
    "client = bigquery.Client(credentials = credentials, \n",
    "                         project = credentials.project_id)"
   ]
  },
  {
   "cell_type": "code",
   "execution_count": null,
   "id": "06a3e1be-2eff-4edc-951e-f2cfe795e3b8",
   "metadata": {},
   "outputs": [],
   "source": [
    "# 데이터 조회 쿼리\n",
    "sql = f\"\"\"\n",
    "SELECT *\n",
    "FROM `ai-project-398100.ai_df.u_l_train`\n",
    "\"\"\"\n",
    "\n",
    "# 데이터 조회 쿼리 실행 결과\n",
    "loan_query = client.query(sql)\n",
    "\n",
    "# 데이터프레임 변환\n",
    "l_y_df = loan_query.to_dataframe()\n",
    "l_y_df.head()"
   ]
  },
  {
   "cell_type": "markdown",
   "id": "4777d656-bcec-4a87-bdd8-77b699ba71a0",
   "metadata": {},
   "source": [
    "# 데이터 로드"
   ]
  },
  {
   "cell_type": "code",
   "execution_count": 4,
   "id": "6a6653fe-0282-406e-8549-5a9f7eb77592",
   "metadata": {},
   "outputs": [],
   "source": [
    "user_spec_df = pd.read_csv(\"./user_spec.csv\", encoding=\"utf-8-sig\")\n",
    "loan_result_df = pd.read_csv(\"./loan_result.csv\", encoding=\"utf-8-sig\")\n",
    "log_df = pd.read_csv(\"./log_data.csv\", encoding=\"utf-8-sig\")"
   ]
  },
  {
   "cell_type": "markdown",
   "id": "cf0fcd37-dc27-4777-8bc4-0ec425ad957f",
   "metadata": {},
   "source": [
    "# **Ⅱ 1차 전처리**"
   ]
  },
  {
   "cell_type": "markdown",
   "id": "ebcf38b1-854f-4043-94cc-dc2221ed7b56",
   "metadata": {},
   "source": [
    "## ▪︎ user_spec 전처리"
   ]
  },
  {
   "cell_type": "code",
   "execution_count": 3,
   "id": "f6902058-5958-46c7-973c-3ac593d94925",
   "metadata": {
    "tags": []
   },
   "outputs": [
    {
     "ename": "NameError",
     "evalue": "name 'user_spec_df' is not defined",
     "output_type": "error",
     "traceback": [
      "\u001b[1;31m---------------------------------------------------------------------------\u001b[0m",
      "\u001b[1;31mNameError\u001b[0m                                 Traceback (most recent call last)",
      "Cell \u001b[1;32mIn[3], line 1\u001b[0m\n\u001b[1;32m----> 1\u001b[0m user_spec_df \u001b[38;5;241m=\u001b[39m \u001b[43muser_spec_df\u001b[49m\u001b[38;5;241m.\u001b[39mreplace(\u001b[38;5;124m'\u001b[39m\u001b[38;5;124mnan\u001b[39m\u001b[38;5;124m'\u001b[39m, np\u001b[38;5;241m.\u001b[39mnan)\n",
      "\u001b[1;31mNameError\u001b[0m: name 'user_spec_df' is not defined"
     ]
    }
   ],
   "source": [
    "# NaN이 문자열로 되어 있어서 처리\n",
    "\n",
    "user_spec_df = user_spec_df.replace('nan', np.nan)"
   ]
  },
  {
   "cell_type": "code",
   "execution_count": null,
   "id": "edca8a54-2f47-416b-9463-a849eecf622e",
   "metadata": {},
   "outputs": [],
   "source": [
    "# null 값을 0으로 대체하고 'birth_year' 컬럼의 값을 정수로 변경\n",
    "\n",
    "user_spec_df['birth_year'] = user_spec_df['birth_year'].fillna(0).astype(int)"
   ]
  },
  {
   "cell_type": "code",
   "execution_count": null,
   "id": "24840819-2e48-4f59-86a2-cda711ccfc61",
   "metadata": {},
   "outputs": [],
   "source": [
    "# insert_time 컬럼을 datetime 형태로 변환\n",
    "\n",
    "user_spec_df['insert_time'] = pd.to_datetime(user_spec_df['insert_time'])\n",
    "\n",
    "# 날짜와 시간을 분리\n",
    "user_spec_df['insert_date'] = user_spec_df['insert_time'].dt.date\n",
    "user_spec_df['insert_time'] = user_spec_df['insert_time'].dt.time"
   ]
  },
  {
   "cell_type": "code",
   "execution_count": null,
   "id": "4489995c-004b-423e-8e26-d347f6fb596b",
   "metadata": {},
   "outputs": [],
   "source": [
    "# 'purpose' 컬럼값 통일\n",
    "\n",
    "user_spec_df['purpose'] = user_spec_df['purpose'].replace('LIVING', '생활비')\n",
    "user_spec_df['purpose'] = user_spec_df['purpose'].replace('SWITCHLOAN', '대환대출')\n",
    "user_spec_df['purpose'] = user_spec_df['purpose'].replace('ETC', '기타')\n",
    "user_spec_df['purpose'] = user_spec_df['purpose'].replace('INVEST', '투자')\n",
    "user_spec_df['purpose'] = user_spec_df['purpose'].replace('BUSINESS', '사업자금')\n",
    "user_spec_df['purpose'] = user_spec_df['purpose'].replace('BUYCAR', '자동차구입')\n",
    "user_spec_df['purpose'] = user_spec_df['purpose'].replace('BUSINESS', '사업자금')\n",
    "user_spec_df['purpose'] = user_spec_df['purpose'].replace('HOUSEDEPOSIT', '전월세보증금')\n",
    "user_spec_df['purpose'] = user_spec_df['purpose'].replace('BUYHOUSE', '주택구입')"
   ]
  },
  {
   "cell_type": "code",
   "execution_count": null,
   "id": "41f86878-2e18-44c6-b524-44176dd22589",
   "metadata": {},
   "outputs": [],
   "source": [
    "# 'existing_loan_cnt' 컬럼의 널값을 0으로 바꾸기\n",
    "\n",
    "user_spec_df['existing_loan_cnt'].fillna(0, inplace=True)"
   ]
  },
  {
   "cell_type": "code",
   "execution_count": null,
   "id": "c2485ec2-8c3a-43ce-ab39-b2b96b40d826",
   "metadata": {},
   "outputs": [],
   "source": [
    "# 'existing_loan_cnt'가 0인 경우 'existing_loan_amt'를 0으로 변경\n",
    "\n",
    "user_spec_df.loc[user_spec_df['existing_loan_cnt'] == 0, 'existing_loan_amt'] = 0"
   ]
  },
  {
   "cell_type": "code",
   "execution_count": null,
   "id": "05f5de88-d875-4177-aebe-de444c7acf6e",
   "metadata": {},
   "outputs": [],
   "source": [
    "# 중복된 user_id를 가진 행들을 그룹화하고, 해당 그룹 내에서 birth_year와 gender 값을 동일하게 채움\n",
    "\n",
    "user_spec_df[['birth_year', 'gender']] = user_spec_df.groupby('user_id')[['birth_year', 'gender']].transform('first')"
   ]
  },
  {
   "cell_type": "code",
   "execution_count": null,
   "id": "14837a83-87b8-4249-9c6a-74aa130b34cc",
   "metadata": {},
   "outputs": [],
   "source": [
    "# existing_loan_amt이 0인 경우를 찾아 1000000으로 대체\n",
    "user_spec_df.loc[user_spec_df[\"existing_loan_amt\"] == 0, \"existing_loan_amt\"] = 1000000\n",
    "\n",
    "# existing_loan_amt이 0인 경우를 찾아 1000000으로 대체\n",
    "user_spec_df.loc[user_spec_df[\"desired_amount\"] == 0, \"desired_amount\"] = 1000000"
   ]
  },
  {
   "cell_type": "markdown",
   "id": "f5f50d11-84fa-4767-9bbc-b9346dc20206",
   "metadata": {},
   "source": [
    "#### ▫︎ company_enter_month 값 대체 (income_type이OTHERINCOME인 경우)"
   ]
  },
  {
   "cell_type": "code",
   "execution_count": null,
   "id": "7260ba17-3f7d-4f47-bd61-9857f3359e82",
   "metadata": {},
   "outputs": [],
   "source": [
    "# income_type이 OTHERINCOME인 경우 company_enter_month를 999999로 대체\n",
    "\n",
    "user_spec_df.loc[user_spec_df[\"income_type\"] == \"OTHERINCOME\", \"company_enter_month\"] = 999999"
   ]
  },
  {
   "cell_type": "markdown",
   "id": "bdae4ea4-5913-4da2-ae41-9ce501678ad7",
   "metadata": {},
   "source": [
    "#### ▫︎ yearly_income 값 대체 (income_type이 OTHERINCOME, FREELANCER가 아닌 경우)\n",
    "- income_type과 career를 기준으로 그룹화하여 해당 그룹의 평균으로 0원 값을 대체"
   ]
  },
  {
   "cell_type": "code",
   "execution_count": null,
   "id": "fb8290c5-f1d6-4c2b-9fa9-81cc38c36daf",
   "metadata": {},
   "outputs": [],
   "source": [
    "# 'income_type'이 주어진 값 중 하나인 행 필터링\n",
    "valid_income_types = ['EARNEDINCOME', 'EARNEDINCOME2', 'PRIVATEBUSINESS', 'PRACTITIONER']\n",
    "filtered_df = user_spec_df[user_spec_df['income_type'].isin(valid_income_types)]\n",
    "\n",
    "# 'yearly_income'이 0이면 해당 그룹의 평균으로 대체\n",
    "filtered_df['yearly_income'] = filtered_df.groupby(['income_type', 'career_group'])['yearly_income'].transform(\n",
    "    lambda x: x.replace(0, x[x != 0].mean()) if (x == 0).any() else x)"
   ]
  },
  {
   "cell_type": "markdown",
   "id": "1ad1ef4a-43ca-407f-a507-5e941d0d33bb",
   "metadata": {
    "tags": []
   },
   "source": [
    "### ▪︎ 파생 변수 생성"
   ]
  },
  {
   "cell_type": "code",
   "execution_count": null,
   "id": "8ad77711-cc06-4fea-adc5-835c2376a8c8",
   "metadata": {},
   "outputs": [],
   "source": [
    "# 기존 컬럼 값에서 연월까지만 추출하여 새로운 컬럼 생성\n",
    "\n",
    "user_spec_df['company_enter_month'] = user_spec_df['company_enter_month'].astype(str).str[:6]"
   ]
  },
  {
   "cell_type": "markdown",
   "id": "0977cec4-1fd7-4952-93d0-2da4eae5cdf7",
   "metadata": {},
   "source": [
    "#### ▫︎ career, career_group 생성"
   ]
  },
  {
   "cell_type": "code",
   "execution_count": null,
   "id": "b9322e0d-5844-4236-a56a-787e13990e18",
   "metadata": {},
   "outputs": [],
   "source": [
    "# 'insert_date'와 'company_enter_month' 컬럼을 datetime 형식으로 변환\n",
    "user_spec_df['insert_date'] = pd.to_datetime(user_spec_df['insert_date'])\n",
    "\n",
    "# 'birth_year' 컬럼에서 0 값을 NaN으로 대체\n",
    "user_spec_df['birth_year'] = user_spec_df['birth_year'].replace(0, np.nan)\n",
    "\n",
    "# 'company_enter_month' 컬럼을 datetime 형식으로 변환\n",
    "user_spec_df['company_enter_month'] = pd.to_datetime(user_spec_df['company_enter_month'], format='%Y%m')\n",
    "\n",
    "# 이제 'birth_year' 컬럼을 datetime 형식으로 변환\n",
    "user_spec_df['birth_year'] = pd.to_datetime(user_spec_df['birth_year'], format='%Y')\n",
    "\n",
    "# 'company_enter_month'가 'birth_year'보다 이른 경우 해당 값을 null로 처리\n",
    "user_spec_df.loc[user_spec_df['company_enter_month'] < user_spec_df['birth_year'], 'company_enter_month'] = np.nan\n",
    "\n",
    "# 'company_enter_month' 컬럼을 datetime 형식으로 변환 후 연도 정보 추출\n",
    "user_spec_df['company_enter_month'] = pd.to_datetime(user_spec_df['company_enter_month'], format='%Y%m')\n",
    "user_spec_df['company_enter_year'] = user_spec_df['company_enter_month'].dt.year\n",
    "\n",
    "# 'insert_date' 연도에서 'company_enter_year'를 뺀 값을 'career' 컬럼에 저장\n",
    "user_spec_df['career'] = user_spec_df['insert_date'].dt.year - user_spec_df['company_enter_year']\n",
    "\n",
    "# 'company_enter_year' 컬럼 삭제\n",
    "user_spec_df.drop(columns=['company_enter_year'], inplace=True)\n",
    "\n",
    "# 'company_enter_month' 컬럼을 datetime 형식으로 변환\n",
    "user_spec_df['company_enter_month'] = pd.to_datetime(user_spec_df['company_enter_month'], format='%Y%m')\n",
    "\n",
    "# 'birth_year' 컬럼을 datetime 형식으로 변환 (연도만 있는 형태로 변환)\n",
    "user_spec_df['insert_date'] = pd.to_datetime(user_spec_df['insert_date'], format='%Y')\n",
    "\n",
    "# 'career' 컬럼 생성 (연 수로 계산)\n",
    "user_spec_df['career'] = user_spec_df['insert_date'].dt.year - user_spec_df['company_enter_month'].dt.year\n",
    "\n",
    "# 'company_enter_month'나 'birth_year'가 null인 경우 'career' 컬럼 값을 null로 설정\n",
    "user_spec_df['career'] = np.where(user_spec_df['company_enter_month'].isnull() | user_spec_df['insert_date'].isnull(), np.nan, user_spec_df['career'])"
   ]
  },
  {
   "cell_type": "code",
   "execution_count": null,
   "id": "8db1e8b4-7656-4dd0-bba0-439cf6526955",
   "metadata": {},
   "outputs": [],
   "source": [
    "# null 값을 0으로 대체\n",
    "user_spec_df['career'] = user_spec_df['career'].fillna(0).astype(int)\n",
    "\n",
    "# null 값을 포함한 행을 삭제하고 \"career\" 컬럼의 데이터 타입을 정수로 변환\n",
    "user_spec_df = user_spec_df.dropna(subset=['career'])\n",
    "user_spec_df['career'] = user_spec_df['career'].astype(int)\n",
    "\n",
    "# 'birth_year' 컬럼에서 연도만 추출\n",
    "user_spec_df['birth_year'] = user_spec_df['birth_year'].dt.year\n",
    "\n",
    "# 'company_enter_month' 컬럼에서 연도와 월만 추출\n",
    "user_spec_df['company_enter_month'] = user_spec_df['company_enter_month'].dt.strftime('%Y-%m')"
   ]
  },
  {
   "cell_type": "code",
   "execution_count": null,
   "id": "bfd91853-dbbf-4b61-93de-d26d64b2fa45",
   "metadata": {},
   "outputs": [],
   "source": [
    "# 경력 범위 정의\n",
    "bins = [-1, 1, 3, 5, 10, float('inf')]  # 연 단위\n",
    "labels = ['1년 미만', '1년 이상 3년 미만', '3년 이상 5년 미만', '5년 이상 10년 미만', '10년 이상']\n",
    "\n",
    "# 'career' 컬럼을 주어진 범위로 그룹화\n",
    "user_spec_df['career_group'] = pd.cut(user_spec_df['career'], bins=bins, labels=labels, right=False)"
   ]
  },
  {
   "cell_type": "markdown",
   "id": "3c9779be-4f5d-4feb-a7c5-6893a3fb69f4",
   "metadata": {},
   "source": [
    "#### ▫︎ age_group 생성"
   ]
  },
  {
   "cell_type": "code",
   "execution_count": null,
   "id": "3ab3af20-ff36-49f1-a7e7-b399091a00d3",
   "metadata": {},
   "outputs": [],
   "source": [
    "# 'birth_year' 컬럼에서 null 값을 0으로 대체\n",
    "user_spec_df['birth_year'].fillna(0, inplace=True)\n",
    "\n",
    "# 무한대 값을 9999로 대체\n",
    "user_spec_df['birth_year'].replace([np.inf, -np.inf], 9999, inplace=True)\n",
    "\n",
    "# 'birth_year' 컬럼을 정수로 변환\n",
    "user_spec_df['birth_year'] = user_spec_df['birth_year'].astype(int)\n",
    "\n",
    "# 'insert_date'에서 연도 추출\n",
    "user_spec_df['insert_year'] = user_spec_df['insert_date'].dt.year\n",
    "\n",
    "# 'age' 컬럼에 연령 계산\n",
    "user_spec_df['age'] = user_spec_df['insert_year'] - user_spec_df['birth_year']\n",
    "\n",
    "# 'insert_year' 컬럼은 더 이상 필요하지 않다면 삭제\n",
    "user_spec_df.drop(['insert_year'], axis=1, inplace=True)\n",
    "\n",
    "user_spec_df['age_group'] = pd.cut(user_spec_df['age'], bins=[0, 10, 20, 30, 40, 50, 60, 70, 80, 90, 100, 110],\n",
    "                                   labels=['0', '10', '20', '30', '40', '50', '60', '70', '80', '90', '100'],\n",
    "                                   right=False)\n",
    "\n",
    "user_spec_df = user_spec_df.drop(['age'], axis=1)"
   ]
  },
  {
   "cell_type": "markdown",
   "id": "e9038412-428d-4182-9798-574a61342e4f",
   "metadata": {},
   "source": [
    "### ▪︎ scaling, encoding"
   ]
  },
  {
   "cell_type": "markdown",
   "id": "7f638d1b-afde-40b2-b96b-07d5e9d2ebd7",
   "metadata": {},
   "source": [
    "#### ▫︎ 연속형 변수\n",
    "- 정규 분포를 따르지 않으므로 RobustScaler 선택"
   ]
  },
  {
   "cell_type": "code",
   "execution_count": null,
   "id": "9308d54c-9569-4533-adb6-4273ff8d8e56",
   "metadata": {},
   "outputs": [],
   "source": [
    "# 연속형 변수 열 선택\n",
    "continuous_features = ['credit_score', 'yearly_income', 'desired_amount', 'existing_loan_amt']\n",
    "\n",
    "# 로버스트 스케일러 설정\n",
    "scaler = RobustScaler()\n",
    "\n",
    "# 선택한 연속형 변수를 스케일링\n",
    "for feature in continuous_features:\n",
    "    user_spec_df[feature + '_scaled'] = scaler.fit_transform(user_spec_df[[feature]])\n",
    "\n",
    "# 스케일링된 열을 생성한 후, 원본 열 삭제\n",
    "user_spec_df.drop(continuous_features, axis=1, inplace=True)"
   ]
  },
  {
   "cell_type": "markdown",
   "id": "e9b2b134-8a75-4ae3-8202-d1e5d82eb0c7",
   "metadata": {},
   "source": [
    "#### ▫︎ 범주형 변수"
   ]
  },
  {
   "cell_type": "code",
   "execution_count": null,
   "id": "7d15daec-7e47-4a8c-a579-710b837d7383",
   "metadata": {},
   "outputs": [],
   "source": [
    "# 'career' 컬럼 값을 순차적인 숫자로 변경\n",
    "career_mapping = {\n",
    "    '1년 미만': 0,\n",
    "    '1년 이상 3년 미만': 1,\n",
    "    '3년 이상 5년 미만': 2,\n",
    "    '5년 이상 10년 미만': 3,\n",
    "    '10년 이상': 4\n",
    "}\n",
    "\n",
    "user_spec_df['career_group'] = user_spec_df['career_group'].map(career_mapping)"
   ]
  },
  {
   "cell_type": "code",
   "execution_count": null,
   "id": "334aafe4-d5e4-49b3-97f0-ab051145ac99",
   "metadata": {},
   "outputs": [],
   "source": [
    "# LabelEncoder 초기화\n",
    "label_encoder = LabelEncoder()\n",
    "\n",
    "# 범주형 열 리스트\n",
    "categorical_columns = ['income_type', 'employment_type', 'houseown_type', 'purpose', 'career_group']\n",
    "\n",
    "# 각 범주형 열에 대해 레이블 인코딩 수행하고 새로운 컬럼에 추가한 후 원본 컬럼 삭제\n",
    "for column in categorical_columns:\n",
    "    encoded_values = label_encoder.fit_transform(user_spec_df[column])\n",
    "    user_spec_df[column + '_encoded'] = encoded_values\n",
    "    user_spec_df.drop(column, axis=1, inplace=True)  # 원본 컬럼 삭제\n",
    "\n",
    "# 결과 확인\n",
    "user_spec_df.head"
   ]
  },
  {
   "cell_type": "markdown",
   "id": "898bd7ef-fb8a-4c01-ab0c-06481ffdacf1",
   "metadata": {},
   "source": [
    "## ▪︎ loan_result 전처리"
   ]
  },
  {
   "cell_type": "code",
   "execution_count": null,
   "id": "be5f4a32-5935-44d2-87b3-301fa6805c0e",
   "metadata": {},
   "outputs": [],
   "source": [
    "# NaN이 문자열로 되어 있어서 처리\n",
    "\n",
    "loan_result_df = loan_result_df.replace(\"nan\", np.nan)"
   ]
  },
  {
   "cell_type": "code",
   "execution_count": null,
   "id": "c2db197f-015f-40b5-9f6b-ba732fa77c5d",
   "metadata": {},
   "outputs": [],
   "source": [
    "# 'user_spec_df'에 없는 'application_id'를 가진 행 삭제\n",
    "\n",
    "application_ids_to_keep = user_spec_df['application_id']\n",
    "loan_result_df = loan_result_df[loan_result_df['application_id'].isin(application_ids_to_keep)]"
   ]
  },
  {
   "cell_type": "code",
   "execution_count": null,
   "id": "c40388d1-78b5-427f-97f8-b60c873e0740",
   "metadata": {},
   "outputs": [],
   "source": [
    "# 'loanapply_insert_time' 연월 구분\n",
    "# insert_time 컬럼을 datetime 형태로 변환\n",
    "\n",
    "loan_result_df['loanapply_insert_time'] = pd.to_datetime(loan_result_df['loanapply_insert_time'])\n",
    "\n",
    "# 날짜와 시간을 분리\n",
    "\n",
    "loan_result_df['loanapply_insert_date'] = loan_result_df['loanapply_insert_time'].dt.date\n",
    "loan_result_df['loanapply_insert_time'] = loan_result_df['loanapply_insert_time'].dt.time"
   ]
  },
  {
   "cell_type": "markdown",
   "id": "3102228d-037c-4e1d-a3bf-ef3601eb5d3b",
   "metadata": {},
   "source": [
    "### 연속형 변수 scaling\n",
    "- 정규 분포를 따르지 않으므로 RobustScaler 선택"
   ]
  },
  {
   "cell_type": "code",
   "execution_count": null,
   "id": "11a73bc6-0cd1-4f8a-b844-aa5e84c3492c",
   "metadata": {},
   "outputs": [],
   "source": [
    "# 연속형 변수 열 선택\n",
    "continuous_features = ['loan_limit', 'loan_rate']\n",
    "\n",
    "# 로버스트 스케일러 초기화\n",
    "scaler = RobustScaler()\n",
    "\n",
    "# 스케일링할 컬럼을 따로 저장\n",
    "scaled_features = [feature + '_scaled' for feature in continuous_features]\n",
    "\n",
    "# 선택한 연속형 변수를 스케일링하고 새로운 컬럼 추가\n",
    "for feature in continuous_features:\n",
    "    loan_result_df[feature + '_scaled'] = scaler.fit_transform(loan_result_df[[feature]])\n",
    "    \n",
    "# 원본 컬럼 삭제\n",
    "loan_result_df.drop(continuous_features, axis=1, inplace=True)"
   ]
  },
  {
   "cell_type": "markdown",
   "id": "66a10ae2-fe3e-482d-97e0-eeef3c786e1b",
   "metadata": {},
   "source": [
    "## ▪︎ log_data 전처리"
   ]
  },
  {
   "cell_type": "markdown",
   "id": "02b20290-20d9-473b-845e-9b75d8f09fcb",
   "metadata": {},
   "source": [
    "### 파생변수 생성"
   ]
  },
  {
   "cell_type": "code",
   "execution_count": null,
   "id": "f1ecc242-951b-4598-aa4d-05487cb9de6f",
   "metadata": {},
   "outputs": [],
   "source": [
    "# 날짜와 시간을 분리\n",
    "\n",
    "log_df['date_cd'] = log_df['timestamp'].dt.date"
   ]
  },
  {
   "cell_type": "code",
   "execution_count": null,
   "id": "926c02b2-3ff4-4208-b791-e3984e995536",
   "metadata": {},
   "outputs": [],
   "source": [
    "# loan_apply_cnt 컬럼 형성\n",
    "\n",
    "loan_event = [\"ViewLoanApplyIntro\", \"StartLoanApply\", \"CompleteIDCertification\", \"EndLoanApply”]\n",
    "loan_event_cnt = 0\n",
    "              \n",
    "for events in log_df[\"event\"]:\n",
    "    if events in loan_event:\n",
    "        loan_event_cnt += 1\n",
    "\n",
    "log_df[\"loan_apply_cnt\"] = loan_event_cnt\n",
    "\n",
    "# null 값을 0으로 대체\n",
    "              \n",
    "log_df[\"loan_apply_cnt\"] = log_df[\"loan_apply_cnt\"].fillna(0).astype(int)"
   ]
  },
  {
   "cell_type": "code",
   "execution_count": null,
   "id": "3c589f02-da05-4958-9e56-986fceb6270e",
   "metadata": {},
   "outputs": [],
   "source": [
    "# other_service_cnt 컬럼 형성\n",
    "\n",
    "other_event = [\"UseLoanManage\", \"UsePrepayCalc\", \"UseDSRCalc\", \"GetCreditInfo”]\n",
    "other_event_cnt = 0\n",
    "              \n",
    "for events in log_df[\"event\"]:\n",
    "    if events in other_event:\n",
    "        other_event_cnt += 1\n",
    "\n",
    "log_df[\"other_service_cnt\"] = other_event_cnt\n",
    "\n",
    "# null 값을 0으로 대체\n",
    "              \n",
    "log_df[\"other_service_cnt\"] = log_df[\"other_service_cnt\"].fillna(0).astype(int)"
   ]
  },
  {
   "cell_type": "code",
   "execution_count": null,
   "id": "38e15c7f-5924-4258-b63c-cce11980ea29",
   "metadata": {},
   "outputs": [],
   "source": [
    "# user_id가 중복되는 경우 최근 날짜만 남기기\n",
    "\n",
    "log_df = log_df.sort_values(by=['user_id', 'date_cd'], ascending=[True, False])\n",
    "log_df.drop_duplicates(subset='user_id', keep='first', inplace=True)"
   ]
  },
  {
   "cell_type": "code",
   "execution_count": 4,
   "id": "9428e86b-ff6b-45f2-84a7-996bd2261f5f",
   "metadata": {
    "tags": []
   },
   "outputs": [
    {
     "ename": "NameError",
     "evalue": "name 'log_df' is not defined",
     "output_type": "error",
     "traceback": [
      "\u001b[1;31m---------------------------------------------------------------------------\u001b[0m",
      "\u001b[1;31mNameError\u001b[0m                                 Traceback (most recent call last)",
      "Cell \u001b[1;32mIn[4], line 3\u001b[0m\n\u001b[0;32m      1\u001b[0m \u001b[38;5;66;03m# timestamp, event, mp_os, mp_app_version 컬럼 drop\u001b[39;00m\n\u001b[1;32m----> 3\u001b[0m log_df \u001b[38;5;241m=\u001b[39m \u001b[43mlog_df\u001b[49m\u001b[38;5;241m.\u001b[39mdrop([\u001b[38;5;124m\"\u001b[39m\u001b[38;5;124mtimestamp\u001b[39m\u001b[38;5;124m\"\u001b[39m, \u001b[38;5;124m\"\u001b[39m\u001b[38;5;124mevent\u001b[39m\u001b[38;5;124m\"\u001b[39m, \u001b[38;5;124m\"\u001b[39m\u001b[38;5;124mmp_os\u001b[39m\u001b[38;5;124m\"\u001b[39m, \u001b[38;5;124m\"\u001b[39m\u001b[38;5;124mmp_app_version\u001b[39m\u001b[38;5;124m\"\u001b[39m], axis\u001b[38;5;241m=\u001b[39m\u001b[38;5;241m1\u001b[39m)\n",
      "\u001b[1;31mNameError\u001b[0m: name 'log_df' is not defined"
     ]
    }
   ],
   "source": [
    "# timestamp, event, mp_os, mp_app_version 컬럼 drop\n",
    "\n",
    "log_df = log_df.drop([\"timestamp\", \"event\", \"mp_os\", \"mp_app_version\"], axis=1)"
   ]
  },
  {
   "cell_type": "code",
   "execution_count": null,
   "id": "7335fae5-b3e6-4b94-8877-ce8511ab82ac",
   "metadata": {},
   "outputs": [],
   "source": [
    "# user_id 기준으로 date_cd 상관없이 cnt 합침\n",
    "\n",
    "# 데이터 조회 쿼리\n",
    "sql = f\"\"\"\n",
    "SELECT\n",
    "    user_id,\n",
    "    date_cd,\n",
    "    SUM(loan_apply_cnt) AS loan_apply_cnt,\n",
    "    SUM(other_service_cnt) AS other_service_cnt\n",
    "FROM `ai-project-398100.original_df.log_data`\n",
    "GROUP BY user_id\n",
    "\"\"\"\n",
    "\n",
    "# 데이터 조회 쿼리 실행 결과\n",
    "loan_query = client.query(sql)\n",
    "\n",
    "# 데이터프레임 변환\n",
    "loan_df = loan_query.to_dataframe()\n",
    "loan_df.head()"
   ]
  },
  {
   "cell_type": "markdown",
   "id": "9721a30f-8967-4e2a-8b2b-2d09eba3d8db",
   "metadata": {},
   "source": [
    "# Ⅱ-Ⅰ 추가 전처리"
   ]
  },
  {
   "cell_type": "code",
   "execution_count": null,
   "id": "93697fcf-f021-4adc-8ca6-cc05e0208980",
   "metadata": {},
   "outputs": [],
   "source": [
    "# income_type이 OTHERINCOME인 경우 company_enter_month를 999999로 대체\n",
    "\n",
    "user_spec_df.loc[user_spec_df[\"income_type\"] == \"OTHERINCOME\", \"company_enter_month\"] = 999999\n",
    "\n",
    "# income_type이 OTHERINCOME 또는 FREELANCER가 아니면서 yearly_income이 0인 값을 50만원으로 대체\n",
    "\n",
    "condition = (user_spec_df[\"income_type\"] != \"OTHERINCOME\") & (user_spec_df[\"income_type\"] != \"FREELANCER\") & (user_spec_df[\"yearly_income\"] == 0)\n",
    "user_spec_df.loc[condition, \"yearly_income\"] = 1000000\n",
    "\n",
    "# existing_loan_amt이 0인 경우를 찾아 500000으로 대체\n",
    "\n",
    "user_spec_df.loc[user_spec_df[\"existing_loan_amt\"] == 0, \"existing_loan_amt\"] = 1000000\n",
    "\n",
    "# existing_loan_amt이 0인 경우를 찾아 500000으로 대체\n",
    "\n",
    "user_spec_df.loc[user_spec_df[\"desired_amount\"] == 0, \"desired_amount\"] = 1000000"
   ]
  },
  {
   "cell_type": "markdown",
   "id": "578116a5-53f0-4217-977f-90ef92736a3c",
   "metadata": {},
   "source": [
    "# **Ⅲ Join query**\n",
    "### ➜ user_id 생성 후 활동 없는 이탈 user를 거르면서 join"
   ]
  },
  {
   "cell_type": "markdown",
   "id": "a19f24dc-e92e-4e88-bc5f-d916024c4719",
   "metadata": {},
   "source": [
    "## ▪︎ user_spec, log_data join\n",
    "### - `user_id` 기준으로 join"
   ]
  },
  {
   "cell_type": "code",
   "execution_count": null,
   "id": "1bba864d-7c6b-4024-923c-6c2931dd8683",
   "metadata": {},
   "outputs": [],
   "source": [
    "# 데이터 조회 쿼리\n",
    "sql = f\"\"\"\n",
    "SELECT DISTINCT\n",
    "    user.application_id, user.user_id, log.date_cd, user.purpose_encoded as purpose, user.credit_score_scaled as credit_score, \n",
    "    user.income_type_encoded as income_type, user.employment_type_encoded as employment_type, user.houseown_type_encoded as houseown_type, \n",
    "    user.personal_rehabilitation_yn, user.desired_amount_scaled as desired_amount,user.existing_loan_cnt, user.yearly_income_scaled as yearly_income,\n",
    "    user.age_group, user.career_group_mapped as career_group, log.loan_apply_cnt, log.other_service_cnt, log.apply_cnt\n",
    "FROM `ai-project-398100.pre_data.user_career` as user\n",
    "JOIN `ai-project-398100.pre_data.f_total_log` as log\n",
    "ON user.user_id = log.user_id\n",
    "\"\"\"\n",
    "\n",
    "# 데이터 조회 쿼리 실행 결과\n",
    "user_log_join_query = client.query(sql)\n",
    "\n",
    "# 데이터프레임 변환\n",
    "user_log_join_df = user_log_join_query.to_dataframe()\n",
    "user_log_join_df.head()"
   ]
  },
  {
   "cell_type": "markdown",
   "id": "3a47754f-1316-4d88-9ad7-0f269b9cb0fb",
   "metadata": {},
   "source": [
    "## ▪︎ user_spec & log_data join data와 loan_result join\n",
    "### - `application_id` 기준으로 join"
   ]
  },
  {
   "cell_type": "code",
   "execution_count": null,
   "id": "b0a029a9-c0aa-49a0-b70d-097501c64717",
   "metadata": {},
   "outputs": [],
   "source": [
    "# 데이터 조회 쿼리\n",
    "sql = f\"\"\"\n",
    "SELECT DISTINCT\n",
    "    user.user_id, user.date_cd, loan.bank_id, user.purpose, loan.loan_limit_scaled as loan_limit, loan.loan_rate_scaled as loan_rate, \n",
    "    user.credit_score, user.income_type, user.employment_type, user.houseown_type, loan.product_id, user.personal_rehabilitation_yn,\n",
    "    user.desired_amount, user.existing_loan_cnt, user.yearly_income, user.age_group, user.career_group, loan.loan_limit_rank, \n",
    "    loan.loan_rate_rank, user.loan_apply_cnt, user.other_service_cnt, user.apply_cnt, loan.is_applied\n",
    "FROM `ai-project-398100.join_data.user_apply_log` as user\n",
    "JOIN `ai-project-398100.pre_data.loan_result` as loan\n",
    "ON user.application_id = loan.application_id\n",
    "\"\"\"\n",
    "\n",
    "# 데이터 조회 쿼리 실행 결과\n",
    "total_join_query = client.query(sql)\n",
    "\n",
    "# 데이터프레임 변환\n",
    "total_join_df = total_join_query.to_dataframe()\n",
    "total_join_df.head()"
   ]
  },
  {
   "cell_type": "markdown",
   "id": "979d56c8-0068-4b2e-8c62-74e099647557",
   "metadata": {},
   "source": [
    "### - `cate_credit(신용 등급)` 컬럼 형성"
   ]
  },
  {
   "cell_type": "code",
   "execution_count": 5,
   "id": "acd21fbb-9d2c-4202-b77d-881c4e62621e",
   "metadata": {
    "collapsed": true,
    "jupyter": {
     "outputs_hidden": true
    },
    "tags": []
   },
   "outputs": [
    {
     "ename": "NameError",
     "evalue": "name 'total_join_df' is not defined",
     "output_type": "error",
     "traceback": [
      "\u001b[1;31m---------------------------------------------------------------------------\u001b[0m",
      "\u001b[1;31mNameError\u001b[0m                                 Traceback (most recent call last)",
      "Cell \u001b[1;32mIn[5], line 25\u001b[0m\n\u001b[0;32m     21\u001b[0m         \u001b[38;5;28;01mreturn\u001b[39;00m \u001b[38;5;241m10\u001b[39m\n\u001b[0;32m     23\u001b[0m \u001b[38;5;66;03m# apply 함수를 사용하여 \"cate_credit\" 컬럼에 등급 할당\u001b[39;00m\n\u001b[1;32m---> 25\u001b[0m total_join_df[\u001b[38;5;124m'\u001b[39m\u001b[38;5;124mcate_credit\u001b[39m\u001b[38;5;124m'\u001b[39m] \u001b[38;5;241m=\u001b[39m \u001b[43mtotal_join_df\u001b[49m[\u001b[38;5;124m'\u001b[39m\u001b[38;5;124mcredit_score\u001b[39m\u001b[38;5;124m'\u001b[39m]\u001b[38;5;241m.\u001b[39mapply(assign_credit_category)\n",
      "\u001b[1;31mNameError\u001b[0m: name 'total_join_df' is not defined"
     ]
    }
   ],
   "source": [
    "def assign_credit_category(score):\n",
    "    if 942 <= score <= 1000:\n",
    "        return 1\n",
    "    elif 891 <= score <= 941:\n",
    "        return 2\n",
    "    elif 832 <= score <= 890:\n",
    "        return 3\n",
    "    elif 768 <= score <= 831:\n",
    "        return 4\n",
    "    elif 698 <= score <= 767:\n",
    "        return 5\n",
    "    elif 630 <= score <= 697:\n",
    "        return 6\n",
    "    elif 530 <= score <= 629:\n",
    "        return 7\n",
    "    elif 454 <= score <= 529:\n",
    "        return 8\n",
    "    elif 335 <= score <= 453:\n",
    "        return 9\n",
    "    else:\n",
    "        return 10\n",
    "\n",
    "# apply 함수를 사용하여 \"cate_credit\" 컬럼에 등급 할당\n",
    "\n",
    "total_join_df['cate_credit'] = total_join_df['credit_score'].apply(assign_credit_category)"
   ]
  },
  {
   "cell_type": "markdown",
   "id": "e4eba3c0-203f-4939-a543-5a25b2be1dd7",
   "metadata": {
    "tags": []
   },
   "source": [
    "# **Ⅳ 모델 훈련을 위해 train_data, test_data 분리**\n",
    "### - `is_applied`는 target 컬럼\n",
    "### - `is_applied`의 **null값** 데이터 : test_data\n",
    "### - `is_applied`의 **null값 제외 데이터** : train_data"
   ]
  },
  {
   "cell_type": "code",
   "execution_count": null,
   "id": "b64cfc74-72a8-4e8b-9056-6d3a51ddb296",
   "metadata": {},
   "outputs": [],
   "source": [
    "test_df = total_join_df[total_join_df['is_applied'].isnull()]\n",
    "train_df = total_join_df[total_join_df['is_applied'].notnull()]"
   ]
  },
  {
   "cell_type": "markdown",
   "id": "8d5df095-f7e4-4a43-bb27-8b0427171991",
   "metadata": {},
   "source": [
    "## ▪︎ train_data, test_data 전처리"
   ]
  },
  {
   "cell_type": "code",
   "execution_count": 5,
   "id": "460cea16-cb25-4a33-ac17-1b1f713bc1c7",
   "metadata": {},
   "outputs": [],
   "source": [
    "# train_data : 평균값으로 전부 대체\n",
    "\n",
    "mean_loan_limit = train_df[\"loan_limit\"].mean()\n",
    "train_df[\"loan_limit\"].fillna(mean_loan_limit, inplace=True)\n",
    "\n",
    "mean_loan_rate = train_df[\"loan_rate\"].mean()\n",
    "train_df[\"loan_rate\"].fillna(mean_loan_rate, inplace=True)\n",
    "\n",
    "mean_loan_credit_score = train_df[\"credit_score\"].mean()\n",
    "train_df[\"credit_score\"].fillna(mean_loan_credit_score, inplace=True)\n",
    "\n",
    "\n",
    "# test_data : 평균값으로 전부 대체\n",
    "\n",
    "mean_loan_limit_test = test_df[\"loan_limit\"].mean()\n",
    "test_df[\"loan_limit\"].fillna(mean_loan_limit_test, inplace=True)\n",
    "\n",
    "mean_loan_rate_test = test_df[\"loan_rate\"].mean()\n",
    "test_df[\"loan_rate\"].fillna(mean_loan_rate_test, inplace=True)\n",
    "\n",
    "mean_loan_credit_score_test = test_df[\"credit_score\"].mean()\n",
    "test_df[\"credit_score\"].fillna(mean_loan_credit_score_test, inplace=True)"
   ]
  },
  {
   "cell_type": "code",
   "execution_count": 7,
   "id": "656edaa1-c91b-4509-ab87-82b02da6da12",
   "metadata": {},
   "outputs": [
    {
     "ename": "KeyError",
     "evalue": "'company_enter_month'",
     "output_type": "error",
     "traceback": [
      "\u001b[1;31m---------------------------------------------------------------------------\u001b[0m",
      "\u001b[1;31mKeyError\u001b[0m                                  Traceback (most recent call last)",
      "File \u001b[1;32m~\\AppData\\Roaming\\Python\\Python311\\site-packages\\pandas\\core\\indexes\\base.py:3802\u001b[0m, in \u001b[0;36mIndex.get_loc\u001b[1;34m(self, key, method, tolerance)\u001b[0m\n\u001b[0;32m   3801\u001b[0m \u001b[38;5;28;01mtry\u001b[39;00m:\n\u001b[1;32m-> 3802\u001b[0m     \u001b[38;5;28;01mreturn\u001b[39;00m \u001b[38;5;28;43mself\u001b[39;49m\u001b[38;5;241;43m.\u001b[39;49m\u001b[43m_engine\u001b[49m\u001b[38;5;241;43m.\u001b[39;49m\u001b[43mget_loc\u001b[49m\u001b[43m(\u001b[49m\u001b[43mcasted_key\u001b[49m\u001b[43m)\u001b[49m\n\u001b[0;32m   3803\u001b[0m \u001b[38;5;28;01mexcept\u001b[39;00m \u001b[38;5;167;01mKeyError\u001b[39;00m \u001b[38;5;28;01mas\u001b[39;00m err:\n",
      "File \u001b[1;32m~\\AppData\\Roaming\\Python\\Python311\\site-packages\\pandas\\_libs\\index.pyx:138\u001b[0m, in \u001b[0;36mpandas._libs.index.IndexEngine.get_loc\u001b[1;34m()\u001b[0m\n",
      "File \u001b[1;32m~\\AppData\\Roaming\\Python\\Python311\\site-packages\\pandas\\_libs\\index.pyx:165\u001b[0m, in \u001b[0;36mpandas._libs.index.IndexEngine.get_loc\u001b[1;34m()\u001b[0m\n",
      "File \u001b[1;32mpandas\\_libs\\hashtable_class_helper.pxi:5745\u001b[0m, in \u001b[0;36mpandas._libs.hashtable.PyObjectHashTable.get_item\u001b[1;34m()\u001b[0m\n",
      "File \u001b[1;32mpandas\\_libs\\hashtable_class_helper.pxi:5753\u001b[0m, in \u001b[0;36mpandas._libs.hashtable.PyObjectHashTable.get_item\u001b[1;34m()\u001b[0m\n",
      "\u001b[1;31mKeyError\u001b[0m: 'company_enter_month'",
      "\nThe above exception was the direct cause of the following exception:\n",
      "\u001b[1;31mKeyError\u001b[0m                                  Traceback (most recent call last)",
      "Cell \u001b[1;32mIn[7], line 4\u001b[0m\n\u001b[0;32m      1\u001b[0m \u001b[38;5;66;03m# \"personal_rehabilitation_yn\" 열의 최빈값 계산\u001b[39;00m\n\u001b[0;32m      3\u001b[0m mode_value \u001b[38;5;241m=\u001b[39m train_df[\u001b[38;5;124m\"\u001b[39m\u001b[38;5;124mpersonal_rehabilitation_yn\u001b[39m\u001b[38;5;124m\"\u001b[39m]\u001b[38;5;241m.\u001b[39mmode()[\u001b[38;5;241m0\u001b[39m]\n\u001b[1;32m----> 4\u001b[0m mode_value_company \u001b[38;5;241m=\u001b[39m \u001b[43mtrain_df\u001b[49m\u001b[43m[\u001b[49m\u001b[38;5;124;43m\"\u001b[39;49m\u001b[38;5;124;43mcompany_enter_month\u001b[39;49m\u001b[38;5;124;43m\"\u001b[39;49m\u001b[43m]\u001b[49m\u001b[38;5;241m.\u001b[39mmode()[\u001b[38;5;241m0\u001b[39m]\n\u001b[0;32m      6\u001b[0m mode_value_test \u001b[38;5;241m=\u001b[39m test_df[\u001b[38;5;124m\"\u001b[39m\u001b[38;5;124mpersonal_rehabilitation_yn\u001b[39m\u001b[38;5;124m\"\u001b[39m]\u001b[38;5;241m.\u001b[39mmode()[\u001b[38;5;241m0\u001b[39m]\n\u001b[0;32m      7\u001b[0m mode_value_company_test \u001b[38;5;241m=\u001b[39m test_df[\u001b[38;5;124m\"\u001b[39m\u001b[38;5;124mcompany_enter_month\u001b[39m\u001b[38;5;124m\"\u001b[39m]\u001b[38;5;241m.\u001b[39mmode()[\u001b[38;5;241m0\u001b[39m]\n",
      "File \u001b[1;32m~\\AppData\\Roaming\\Python\\Python311\\site-packages\\pandas\\core\\frame.py:3807\u001b[0m, in \u001b[0;36mDataFrame.__getitem__\u001b[1;34m(self, key)\u001b[0m\n\u001b[0;32m   3805\u001b[0m \u001b[38;5;28;01mif\u001b[39;00m \u001b[38;5;28mself\u001b[39m\u001b[38;5;241m.\u001b[39mcolumns\u001b[38;5;241m.\u001b[39mnlevels \u001b[38;5;241m>\u001b[39m \u001b[38;5;241m1\u001b[39m:\n\u001b[0;32m   3806\u001b[0m     \u001b[38;5;28;01mreturn\u001b[39;00m \u001b[38;5;28mself\u001b[39m\u001b[38;5;241m.\u001b[39m_getitem_multilevel(key)\n\u001b[1;32m-> 3807\u001b[0m indexer \u001b[38;5;241m=\u001b[39m \u001b[38;5;28;43mself\u001b[39;49m\u001b[38;5;241;43m.\u001b[39;49m\u001b[43mcolumns\u001b[49m\u001b[38;5;241;43m.\u001b[39;49m\u001b[43mget_loc\u001b[49m\u001b[43m(\u001b[49m\u001b[43mkey\u001b[49m\u001b[43m)\u001b[49m\n\u001b[0;32m   3808\u001b[0m \u001b[38;5;28;01mif\u001b[39;00m is_integer(indexer):\n\u001b[0;32m   3809\u001b[0m     indexer \u001b[38;5;241m=\u001b[39m [indexer]\n",
      "File \u001b[1;32m~\\AppData\\Roaming\\Python\\Python311\\site-packages\\pandas\\core\\indexes\\base.py:3804\u001b[0m, in \u001b[0;36mIndex.get_loc\u001b[1;34m(self, key, method, tolerance)\u001b[0m\n\u001b[0;32m   3802\u001b[0m     \u001b[38;5;28;01mreturn\u001b[39;00m \u001b[38;5;28mself\u001b[39m\u001b[38;5;241m.\u001b[39m_engine\u001b[38;5;241m.\u001b[39mget_loc(casted_key)\n\u001b[0;32m   3803\u001b[0m \u001b[38;5;28;01mexcept\u001b[39;00m \u001b[38;5;167;01mKeyError\u001b[39;00m \u001b[38;5;28;01mas\u001b[39;00m err:\n\u001b[1;32m-> 3804\u001b[0m     \u001b[38;5;28;01mraise\u001b[39;00m \u001b[38;5;167;01mKeyError\u001b[39;00m(key) \u001b[38;5;28;01mfrom\u001b[39;00m \u001b[38;5;21;01merr\u001b[39;00m\n\u001b[0;32m   3805\u001b[0m \u001b[38;5;28;01mexcept\u001b[39;00m \u001b[38;5;167;01mTypeError\u001b[39;00m:\n\u001b[0;32m   3806\u001b[0m     \u001b[38;5;66;03m# If we have a listlike key, _check_indexing_error will raise\u001b[39;00m\n\u001b[0;32m   3807\u001b[0m     \u001b[38;5;66;03m#  InvalidIndexError. Otherwise we fall through and re-raise\u001b[39;00m\n\u001b[0;32m   3808\u001b[0m     \u001b[38;5;66;03m#  the TypeError.\u001b[39;00m\n\u001b[0;32m   3809\u001b[0m     \u001b[38;5;28mself\u001b[39m\u001b[38;5;241m.\u001b[39m_check_indexing_error(key)\n",
      "\u001b[1;31mKeyError\u001b[0m: 'company_enter_month'"
     ]
    }
   ],
   "source": [
    "# \"personal_rehabilitation_yn\" 열의 최빈값 계산\n",
    "\n",
    "mode_value = train_df[\"personal_rehabilitation_yn\"].mode()[0]\n",
    "mode_value_company = train_df[\"company_enter_month\"].mode()[0]\n",
    "\n",
    "mode_value_test = test_df[\"personal_rehabilitation_yn\"].mode()[0]\n",
    "mode_value_company_test = test_df[\"company_enter_month\"].mode()[0]\n",
    "\n",
    "\n",
    "\n",
    "# 결측치에 최빈값 채우기\n",
    "\n",
    "train_df[\"personal_rehabilitation_yn\"].fillna(mode_value, inplace=True)\n",
    "train_df[\"company_enter_month\"].fillna(mode_value_company, inplace=True)\n",
    "\n",
    "test_df[\"personal_rehabilitation_yn\"].fillna(mode_value_test, inplace=True)\n",
    "test_df[\"company_enter_month\"].fillna(mode_value_company_test, inplace=True)"
   ]
  },
  {
   "cell_type": "code",
   "execution_count": 8,
   "id": "31e65306-4c61-4161-a8dc-8eb5ff050d9d",
   "metadata": {},
   "outputs": [],
   "source": [
    "# 'loan_limit_rank' 및 'loan_rate_rank' 컬럼을 추가하여 rank 메기기\n",
    "\n",
    "train_df['loan_limit_rank'] = train_df['loan_limit'].rank(ascending=False, method='min').astype(int)\n",
    "train_df['loan_rate_rank'] = train_df['loan_rate'].rank(ascending=False, method='min').astype(int)\n",
    "test_df['loan_limit_rank'] = test_df['loan_limit'].rank(ascending=False, method='min').astype(int)\n",
    "test_df['loan_rate_rank'] = test_df['loan_rate'].rank(ascending=False, method='min').astype(int)"
   ]
  },
  {
   "cell_type": "markdown",
   "id": "57d81f52-cbf5-4cdb-8743-ffdc4562482d",
   "metadata": {},
   "source": [
    "## ▫︎ scaling, encoding\n",
    "### - 연속형 변수 : RobustScaler 적용\n",
    "### - 범주형 변수 : LabelEncoder 적용"
   ]
  },
  {
   "cell_type": "code",
   "execution_count": 9,
   "id": "e7d2f00e-b2bf-4a0c-8513-fe2cb8eaea53",
   "metadata": {},
   "outputs": [
    {
     "ename": "KeyError",
     "evalue": "\"['existing_loan_amt'] not in index\"",
     "output_type": "error",
     "traceback": [
      "\u001b[1;31m---------------------------------------------------------------------------\u001b[0m",
      "\u001b[1;31mKeyError\u001b[0m                                  Traceback (most recent call last)",
      "Cell \u001b[1;32mIn[9], line 7\u001b[0m\n\u001b[0;32m      4\u001b[0m continuous_columns \u001b[38;5;241m=\u001b[39m [\u001b[38;5;124m'\u001b[39m\u001b[38;5;124mloan_limit\u001b[39m\u001b[38;5;124m'\u001b[39m, \u001b[38;5;124m'\u001b[39m\u001b[38;5;124mloan_rate\u001b[39m\u001b[38;5;124m'\u001b[39m, \u001b[38;5;124m'\u001b[39m\u001b[38;5;124mcredit_score\u001b[39m\u001b[38;5;124m'\u001b[39m, \u001b[38;5;124m'\u001b[39m\u001b[38;5;124mdesired_amount\u001b[39m\u001b[38;5;124m'\u001b[39m, \u001b[38;5;124m'\u001b[39m\u001b[38;5;124myearly_income\u001b[39m\u001b[38;5;124m'\u001b[39m, \u001b[38;5;124m'\u001b[39m\u001b[38;5;124mexisting_loan_amt\u001b[39m\u001b[38;5;124m'\u001b[39m]\n\u001b[0;32m      6\u001b[0m \u001b[38;5;66;03m# Robust Scaler를 사용하여 변수 변환\u001b[39;00m\n\u001b[1;32m----> 7\u001b[0m train_df[continuous_columns] \u001b[38;5;241m=\u001b[39m scaler\u001b[38;5;241m.\u001b[39mfit_transform(\u001b[43mtrain_df\u001b[49m\u001b[43m[\u001b[49m\u001b[43mcontinuous_columns\u001b[49m\u001b[43m]\u001b[49m)\n\u001b[0;32m      8\u001b[0m test_df[continuous_columns] \u001b[38;5;241m=\u001b[39m scaler\u001b[38;5;241m.\u001b[39mfit_transform(test_df[continuous_columns])\n",
      "File \u001b[1;32m~\\AppData\\Roaming\\Python\\Python311\\site-packages\\pandas\\core\\frame.py:3813\u001b[0m, in \u001b[0;36mDataFrame.__getitem__\u001b[1;34m(self, key)\u001b[0m\n\u001b[0;32m   3811\u001b[0m     \u001b[38;5;28;01mif\u001b[39;00m is_iterator(key):\n\u001b[0;32m   3812\u001b[0m         key \u001b[38;5;241m=\u001b[39m \u001b[38;5;28mlist\u001b[39m(key)\n\u001b[1;32m-> 3813\u001b[0m     indexer \u001b[38;5;241m=\u001b[39m \u001b[38;5;28;43mself\u001b[39;49m\u001b[38;5;241;43m.\u001b[39;49m\u001b[43mcolumns\u001b[49m\u001b[38;5;241;43m.\u001b[39;49m\u001b[43m_get_indexer_strict\u001b[49m\u001b[43m(\u001b[49m\u001b[43mkey\u001b[49m\u001b[43m,\u001b[49m\u001b[43m \u001b[49m\u001b[38;5;124;43m\"\u001b[39;49m\u001b[38;5;124;43mcolumns\u001b[39;49m\u001b[38;5;124;43m\"\u001b[39;49m\u001b[43m)\u001b[49m[\u001b[38;5;241m1\u001b[39m]\n\u001b[0;32m   3815\u001b[0m \u001b[38;5;66;03m# take() does not accept boolean indexers\u001b[39;00m\n\u001b[0;32m   3816\u001b[0m \u001b[38;5;28;01mif\u001b[39;00m \u001b[38;5;28mgetattr\u001b[39m(indexer, \u001b[38;5;124m\"\u001b[39m\u001b[38;5;124mdtype\u001b[39m\u001b[38;5;124m\"\u001b[39m, \u001b[38;5;28;01mNone\u001b[39;00m) \u001b[38;5;241m==\u001b[39m \u001b[38;5;28mbool\u001b[39m:\n",
      "File \u001b[1;32m~\\AppData\\Roaming\\Python\\Python311\\site-packages\\pandas\\core\\indexes\\base.py:6070\u001b[0m, in \u001b[0;36mIndex._get_indexer_strict\u001b[1;34m(self, key, axis_name)\u001b[0m\n\u001b[0;32m   6067\u001b[0m \u001b[38;5;28;01melse\u001b[39;00m:\n\u001b[0;32m   6068\u001b[0m     keyarr, indexer, new_indexer \u001b[38;5;241m=\u001b[39m \u001b[38;5;28mself\u001b[39m\u001b[38;5;241m.\u001b[39m_reindex_non_unique(keyarr)\n\u001b[1;32m-> 6070\u001b[0m \u001b[38;5;28;43mself\u001b[39;49m\u001b[38;5;241;43m.\u001b[39;49m\u001b[43m_raise_if_missing\u001b[49m\u001b[43m(\u001b[49m\u001b[43mkeyarr\u001b[49m\u001b[43m,\u001b[49m\u001b[43m \u001b[49m\u001b[43mindexer\u001b[49m\u001b[43m,\u001b[49m\u001b[43m \u001b[49m\u001b[43maxis_name\u001b[49m\u001b[43m)\u001b[49m\n\u001b[0;32m   6072\u001b[0m keyarr \u001b[38;5;241m=\u001b[39m \u001b[38;5;28mself\u001b[39m\u001b[38;5;241m.\u001b[39mtake(indexer)\n\u001b[0;32m   6073\u001b[0m \u001b[38;5;28;01mif\u001b[39;00m \u001b[38;5;28misinstance\u001b[39m(key, Index):\n\u001b[0;32m   6074\u001b[0m     \u001b[38;5;66;03m# GH 42790 - Preserve name from an Index\u001b[39;00m\n",
      "File \u001b[1;32m~\\AppData\\Roaming\\Python\\Python311\\site-packages\\pandas\\core\\indexes\\base.py:6133\u001b[0m, in \u001b[0;36mIndex._raise_if_missing\u001b[1;34m(self, key, indexer, axis_name)\u001b[0m\n\u001b[0;32m   6130\u001b[0m     \u001b[38;5;28;01mraise\u001b[39;00m \u001b[38;5;167;01mKeyError\u001b[39;00m(\u001b[38;5;124mf\u001b[39m\u001b[38;5;124m\"\u001b[39m\u001b[38;5;124mNone of [\u001b[39m\u001b[38;5;132;01m{\u001b[39;00mkey\u001b[38;5;132;01m}\u001b[39;00m\u001b[38;5;124m] are in the [\u001b[39m\u001b[38;5;132;01m{\u001b[39;00maxis_name\u001b[38;5;132;01m}\u001b[39;00m\u001b[38;5;124m]\u001b[39m\u001b[38;5;124m\"\u001b[39m)\n\u001b[0;32m   6132\u001b[0m not_found \u001b[38;5;241m=\u001b[39m \u001b[38;5;28mlist\u001b[39m(ensure_index(key)[missing_mask\u001b[38;5;241m.\u001b[39mnonzero()[\u001b[38;5;241m0\u001b[39m]]\u001b[38;5;241m.\u001b[39munique())\n\u001b[1;32m-> 6133\u001b[0m \u001b[38;5;28;01mraise\u001b[39;00m \u001b[38;5;167;01mKeyError\u001b[39;00m(\u001b[38;5;124mf\u001b[39m\u001b[38;5;124m\"\u001b[39m\u001b[38;5;132;01m{\u001b[39;00mnot_found\u001b[38;5;132;01m}\u001b[39;00m\u001b[38;5;124m not in index\u001b[39m\u001b[38;5;124m\"\u001b[39m)\n",
      "\u001b[1;31mKeyError\u001b[0m: \"['existing_loan_amt'] not in index\""
     ]
    }
   ],
   "source": [
    "scaler = RobustScaler()\n",
    "\n",
    "# 연속형 변수만 선택\n",
    "continuous_columns = ['loan_limit', 'loan_rate', 'credit_score', 'desired_amount', 'yearly_income', 'existing_loan_amt']\n",
    "\n",
    "# Robust Scaler를 사용하여 변수 변환\n",
    "train_df[continuous_columns] = scaler.fit_transform(train_df[continuous_columns])\n",
    "test_df[continuous_columns] = scaler.fit_transform(test_df[continuous_columns])"
   ]
  },
  {
   "cell_type": "code",
   "execution_count": 10,
   "id": "96427769-6f12-4de4-b38e-9b1480627dfc",
   "metadata": {},
   "outputs": [],
   "source": [
    "label_encoder = LabelEncoder()\n",
    "\n",
    "train_df['purpose'] = label_encoder.fit_transform(train_df['purpose'])\n",
    "train_df['employment_type'] = label_encoder.fit_transform(train_df['employment_type'])\n",
    "train_df['houseown_type'] = label_encoder.fit_transform(train_df['houseown_type'])\n",
    "train_df['income_type'] = label_encoder.fit_transform(train_df['income_type'])\n",
    "test_df['purpose'] = label_encoder.fit_transform(test_df['purpose'])\n",
    "test_df['employment_type'] = label_encoder.fit_transform(test_df['employment_type'])\n",
    "test_df['houseown_type'] = label_encoder.fit_transform(test_df['houseown_type'])\n",
    "test_df['income_type'] = label_encoder.fit_transform(test_df['income_type'])"
   ]
  },
  {
   "cell_type": "markdown",
   "id": "a2d8663b-b420-4577-8078-b49d0778a231",
   "metadata": {
    "tags": []
   },
   "source": [
    "# **Ⅴ LightGBM 예측 모델 생성**\n",
    "### ➜ 신청 / 미신청 데이터 불균형이 심함 ( weight 적용 기법 / undersampling 적용 기법 )"
   ]
  },
  {
   "cell_type": "code",
   "execution_count": 159,
   "id": "2fbe96bf-5920-4938-8a3b-efc2ab313028",
   "metadata": {
    "tags": []
   },
   "outputs": [],
   "source": [
    "train_df = pd.read_csv(\"./train_df.csv\", encoding=\"utf-8-sig\")\n",
    "test_df = pd.read_csv(\"./test_df.csv\", encoding=\"utf-8-sig\")"
   ]
  },
  {
   "cell_type": "code",
   "execution_count": 162,
   "id": "da931d95-234e-4505-bba3-999edbfb3734",
   "metadata": {
    "tags": []
   },
   "outputs": [
    {
     "data": {
      "text/plain": [
       "count    8.130663e+06\n",
       "mean     4.398527e+05\n",
       "std      2.535321e+05\n",
       "min      1.100000e+01\n",
       "25%      2.215880e+05\n",
       "50%      4.398960e+05\n",
       "75%      6.602270e+05\n",
       "max      8.796960e+05\n",
       "Name: user_id, dtype: float64"
      ]
     },
     "execution_count": 162,
     "metadata": {},
     "output_type": "execute_result"
    }
   ],
   "source": [
    "train_df[\"user_id\"].describe()"
   ]
  },
  {
   "cell_type": "code",
   "execution_count": 182,
   "id": "17092e47-5d79-42e5-83a8-8649ad6361d7",
   "metadata": {
    "tags": []
   },
   "outputs": [
    {
     "data": {
      "text/plain": [
       "user_id                       0\n",
       "date_cd                       0\n",
       "bank_id                       0\n",
       "purpose                       0\n",
       "loan_limit                    0\n",
       "loan_rate                     0\n",
       "credit_score                  0\n",
       "income_type                   0\n",
       "employment_type               0\n",
       "houseown_type                 0\n",
       "product_id                    0\n",
       "personal_rehabilitation_yn    0\n",
       "desired_amount                0\n",
       "existing_loan_cnt             0\n",
       "yearly_income                 0\n",
       "age_group                     0\n",
       "career_group                  0\n",
       "loan_limit_rank               0\n",
       "loan_rate_rank                0\n",
       "loan_apply_cnt                0\n",
       "other_service_cnt             0\n",
       "apply_cnt                     0\n",
       "is_applied                    0\n",
       "ori_credit_score              0\n",
       "cate_credit                   0\n",
       "dtype: int64"
      ]
     },
     "execution_count": 182,
     "metadata": {},
     "output_type": "execute_result"
    }
   ],
   "source": [
    "train_df.isnull().sum()"
   ]
  },
  {
   "cell_type": "code",
   "execution_count": 183,
   "id": "1bbfde95-631c-4e0b-badb-171097cb92ab",
   "metadata": {
    "tags": []
   },
   "outputs": [
    {
     "data": {
      "text/plain": [
       "user_id                             0\n",
       "date_cd                             0\n",
       "bank_id                             0\n",
       "purpose                             0\n",
       "loan_limit                          0\n",
       "loan_rate                           0\n",
       "credit_score                        0\n",
       "income_type                         0\n",
       "employment_type                     0\n",
       "houseown_type                       0\n",
       "product_id                          0\n",
       "personal_rehabilitation_yn          0\n",
       "desired_amount                      0\n",
       "existing_loan_cnt                   0\n",
       "yearly_income                       0\n",
       "age_group                           0\n",
       "career_group                        0\n",
       "loan_limit_rank                     0\n",
       "loan_rate_rank                      0\n",
       "loan_apply_cnt                      0\n",
       "other_service_cnt                   0\n",
       "apply_cnt                           0\n",
       "is_applied                    2425887\n",
       "ori_credit_score                    0\n",
       "cate_credit                         0\n",
       "dtype: int64"
      ]
     },
     "execution_count": 183,
     "metadata": {},
     "output_type": "execute_result"
    }
   ],
   "source": [
    "test_df.isnull().sum()"
   ]
  },
  {
   "cell_type": "markdown",
   "id": "9e6760cb-26ad-45f5-a5b7-9fad6036ae9b",
   "metadata": {},
   "source": [
    "## ▪︎ 전처리 (동일)"
   ]
  },
  {
   "cell_type": "code",
   "execution_count": 166,
   "id": "8d647b83-e3d0-48bc-9832-851e0bcec42e",
   "metadata": {},
   "outputs": [],
   "source": [
    "train_df['other_service_cnt'].fillna(0, inplace=True)\n",
    "train_df['apply_cnt'].fillna(0, inplace=True)\n",
    "test_df['other_service_cnt'].fillna(0, inplace=True)\n",
    "test_df['apply_cnt'].fillna(0, inplace=True)"
   ]
  },
  {
   "cell_type": "code",
   "execution_count": 184,
   "id": "76f3ac97-19a9-443a-9a0a-c5e344225cf5",
   "metadata": {},
   "outputs": [],
   "source": [
    "train_df = train_df.drop([\"date_cd\",\"ori_credit_score\"], axis=1)\n",
    "test_df = test_df.drop([\"date_cd\",\"ori_credit_score\"], axis=1)"
   ]
  },
  {
   "cell_type": "code",
   "execution_count": 150,
   "id": "17509289-2118-4be4-b853-2ecf82de2fab",
   "metadata": {},
   "outputs": [],
   "source": [
    "test_df = test_df.dropna(subset=['credit_score'])\n",
    "test_df = test_df.dropna(subset=['personal_rehabilitation_yn'])\n",
    "test_df = test_df.dropna(subset=['age_group'])\n",
    "test_df = test_df.dropna(subset=['loan_limit'])\n",
    "test_df = test_df.dropna(subset=['yearly_income'])"
   ]
  },
  {
   "cell_type": "code",
   "execution_count": 151,
   "id": "203e4f57-296f-46ba-bc55-1bbbb151c7ef",
   "metadata": {},
   "outputs": [],
   "source": [
    "train_df = train_df.dropna(subset=['credit_score'])\n",
    "train_df = train_df.dropna(subset=['personal_rehabilitation_yn'])\n",
    "train_df = train_df.dropna(subset=['age_group'])\n",
    "train_df = train_df.dropna(subset=['loan_limit'])\n",
    "train_df = train_df.dropna(subset=['yearly_income'])"
   ]
  },
  {
   "cell_type": "code",
   "execution_count": 186,
   "id": "5411050c-0fe2-4ed2-afa7-63a111c2e3bd",
   "metadata": {},
   "outputs": [
    {
     "name": "stdout",
     "output_type": "stream",
     "text": [
      "3066159\n",
      "179388\n",
      "0.059\n"
     ]
    }
   ],
   "source": [
    "# 신청/미신청 비율 확인\n",
    "\n",
    "train_apply_n = train_df[train_df[\"is_applied\"]==0][\"user_id\"].count()\n",
    "train_apply_y = train_df[train_df[\"is_applied\"]==1][\"user_id\"].count()\n",
    "\n",
    "print(train_apply_n)\n",
    "print(train_apply_y)\n",
    "print(round((train_apply_y / train_apply_n), 3))"
   ]
  },
  {
   "cell_type": "code",
   "execution_count": 187,
   "id": "8637c5f6-a2ea-4ad4-aa48-ad6a0fe2f898",
   "metadata": {},
   "outputs": [],
   "source": [
    "# 추후 확인 위함\n",
    "\n",
    "train_user_id = train_df[\"user_id\"]\n",
    "test_user_id = test_df[\"user_id\"]\n",
    "train_df = train_df.drop([\"user_id\"], axis=1)\n",
    "test_df = test_df.drop([\"user_id\"], axis=1)"
   ]
  },
  {
   "cell_type": "code",
   "execution_count": 188,
   "id": "32d145f0-9ac1-4c71-82a4-f23a9daf3c3d",
   "metadata": {},
   "outputs": [],
   "source": [
    "train_user_id_df = pd.DataFrame(train_user_id, columns=[\"user_id\"])\n",
    "train_user_id_df = train_user_id_df.reset_index(drop=True)\n",
    "test_user_id_df = pd.DataFrame(test_user_id, columns=[\"user_id\"])\n",
    "test_user_id_df = test_user_id_df.reset_index(drop=True)"
   ]
  },
  {
   "cell_type": "markdown",
   "id": "d979550c-778f-4433-ad2c-7c3a479cc488",
   "metadata": {
    "tags": []
   },
   "source": [
    "### **①** weight(가중치) 적용\n",
    "#### ▪︎ 모델 학습"
   ]
  },
  {
   "cell_type": "code",
   "execution_count": 189,
   "id": "7de76b92-00f4-49bd-a82f-413c7e8ece1b",
   "metadata": {},
   "outputs": [],
   "source": [
    "target_col = 'is_applied'\n",
    "features = [col for col in train_df.columns if col != target_col]\n",
    "\n",
    "# X_train, y_train 데이터 분할\n",
    "(X_train, X_val, y_train, y_val) = train_test_split(\n",
    "    train_df[features],  # 특성 열 선택\n",
    "    train_df[target_col],  # 타겟 열 선택\n",
    "    test_size=0.3,  # 검증 데이터 비율\n",
    "    random_state=89  # 랜덤 시드 설정 (재현성을 위해)\n",
    ")\n",
    "\n",
    "# X_test 데이터는 이전과 동일하게 처리\n",
    "X_test = test_df[features]"
   ]
  },
  {
   "cell_type": "code",
   "execution_count": 190,
   "id": "91f3e8fb-068a-4cc3-bb89-7048c2f5036f",
   "metadata": {},
   "outputs": [],
   "source": [
    "# 신청자 훈련 샘플에 대한 가중치\n",
    "\n",
    "sample_weights = np.array([1.0 if label == 0 else 5.0 for label in y_train])\n",
    "train_data = lgb.Dataset(X_train, label=y_train, weight=sample_weights)\n",
    "valid_data = lgb.Dataset(X_val, label=y_val, reference=train_data)"
   ]
  },
  {
   "cell_type": "code",
   "execution_count": 120,
   "id": "ad9d5ae4-f214-478a-a208-10a6a4be4663",
   "metadata": {},
   "outputs": [],
   "source": [
    "params = {\n",
    "    \"objective\": \"binary\",\n",
    "    \"boosting_type\": \"gbdt\",\n",
    "    \"metric\": \"binary_logloss\",\n",
    "    \"learning_rate\": 0.1,\n",
    "    \"num_leaves\": 63,\n",
    "    \"verbose\":10\n",
    "}"
   ]
  },
  {
   "cell_type": "code",
   "execution_count": 192,
   "id": "c13b6878-ab42-4287-9b1d-5c17de38958d",
   "metadata": {
    "collapsed": true,
    "jupyter": {
     "outputs_hidden": true
    },
    "tags": []
   },
   "outputs": [
    {
     "name": "stderr",
     "output_type": "stream",
     "text": [
      "C:\\Users\\USER\\AppData\\Local\\Programs\\Python\\Python311\\Lib\\site-packages\\lightgbm\\engine.py:239: UserWarning: 'verbose_eval' argument is deprecated and will be removed in a future release of LightGBM. Pass 'log_evaluation()' callback via 'callbacks' argument instead.\n",
      "  _log_warning(\"'verbose_eval' argument is deprecated and will be removed in a future release of LightGBM. \"\n"
     ]
    },
    {
     "name": "stdout",
     "output_type": "stream",
     "text": [
      "[LightGBM] [Info] Number of positive: 125773, number of negative: 2146109\n",
      "[LightGBM] [Debug] Dataset::GetMultiBinFromSparseFeatures: sparse rate 0.918377\n",
      "[LightGBM] [Debug] Dataset::GetMultiBinFromAllFeatures: sparse rate 0.181686\n",
      "[LightGBM] [Debug] init for col-wise cost 0.023643 seconds, init for row-wise cost 0.112947 seconds\n",
      "[LightGBM] [Warning] Auto-choosing row-wise multi-threading, the overhead of testing was 0.073401 seconds.\n",
      "You can set `force_row_wise=true` to remove the overhead.\n",
      "And if memory is not enough, you can set `force_col_wise=true`.\n",
      "[LightGBM] [Debug] Using Dense Multi-Val Bin\n",
      "[LightGBM] [Info] Total Bins 1549\n",
      "[LightGBM] [Info] Number of data points in the train set: 2271882, number of used features: 21\n",
      "[LightGBM] [Info] [binary:BoostFromScore]: pavg=0.226620 -> initscore=-1.227495\n",
      "[LightGBM] [Info] Start training from score -1.227495\n",
      "[LightGBM] [Debug] Trained a tree with leaves = 63 and depth = 8\n",
      "[LightGBM] [Debug] Trained a tree with leaves = 63 and depth = 8\n",
      "[LightGBM] [Debug] Trained a tree with leaves = 63 and depth = 9\n",
      "[LightGBM] [Debug] Trained a tree with leaves = 63 and depth = 8\n",
      "[LightGBM] [Debug] Trained a tree with leaves = 63 and depth = 9\n",
      "[LightGBM] [Debug] Trained a tree with leaves = 63 and depth = 9\n",
      "[LightGBM] [Debug] Trained a tree with leaves = 63 and depth = 8\n",
      "[LightGBM] [Debug] Trained a tree with leaves = 63 and depth = 10\n",
      "[LightGBM] [Debug] Trained a tree with leaves = 63 and depth = 8\n",
      "[LightGBM] [Debug] Trained a tree with leaves = 63 and depth = 9\n",
      "[LightGBM] [Debug] Trained a tree with leaves = 63 and depth = 8\n",
      "[LightGBM] [Debug] Trained a tree with leaves = 63 and depth = 8\n",
      "[LightGBM] [Debug] Trained a tree with leaves = 63 and depth = 10\n",
      "[LightGBM] [Debug] Trained a tree with leaves = 63 and depth = 8\n",
      "[LightGBM] [Debug] Trained a tree with leaves = 63 and depth = 10\n",
      "[LightGBM] [Debug] Trained a tree with leaves = 63 and depth = 9\n",
      "[LightGBM] [Debug] Trained a tree with leaves = 63 and depth = 9\n",
      "[LightGBM] [Debug] Trained a tree with leaves = 63 and depth = 9\n",
      "[LightGBM] [Debug] Trained a tree with leaves = 63 and depth = 9\n",
      "[LightGBM] [Debug] Trained a tree with leaves = 63 and depth = 9\n",
      "[LightGBM] [Debug] Trained a tree with leaves = 63 and depth = 9\n",
      "[LightGBM] [Debug] Trained a tree with leaves = 63 and depth = 9\n",
      "[LightGBM] [Debug] Trained a tree with leaves = 63 and depth = 9\n",
      "[LightGBM] [Debug] Trained a tree with leaves = 63 and depth = 9\n",
      "[LightGBM] [Debug] Trained a tree with leaves = 63 and depth = 9\n",
      "[LightGBM] [Debug] Trained a tree with leaves = 63 and depth = 10\n",
      "[LightGBM] [Debug] Trained a tree with leaves = 63 and depth = 9\n",
      "[LightGBM] [Debug] Trained a tree with leaves = 63 and depth = 9\n",
      "[LightGBM] [Debug] Trained a tree with leaves = 63 and depth = 9\n",
      "[LightGBM] [Debug] Trained a tree with leaves = 63 and depth = 9\n",
      "[LightGBM] [Debug] Trained a tree with leaves = 63 and depth = 10\n",
      "[LightGBM] [Debug] Trained a tree with leaves = 63 and depth = 9\n",
      "[LightGBM] [Debug] Trained a tree with leaves = 63 and depth = 9\n",
      "[LightGBM] [Debug] Trained a tree with leaves = 63 and depth = 9\n",
      "[LightGBM] [Debug] Trained a tree with leaves = 63 and depth = 10\n",
      "[LightGBM] [Debug] Trained a tree with leaves = 63 and depth = 9\n",
      "[LightGBM] [Debug] Trained a tree with leaves = 63 and depth = 9\n",
      "[LightGBM] [Debug] Trained a tree with leaves = 63 and depth = 9\n",
      "[LightGBM] [Debug] Trained a tree with leaves = 63 and depth = 9\n",
      "[LightGBM] [Debug] Trained a tree with leaves = 63 and depth = 10\n",
      "[LightGBM] [Debug] Trained a tree with leaves = 63 and depth = 9\n",
      "[LightGBM] [Debug] Trained a tree with leaves = 63 and depth = 9\n",
      "[LightGBM] [Debug] Trained a tree with leaves = 63 and depth = 10\n",
      "[LightGBM] [Debug] Trained a tree with leaves = 63 and depth = 9\n",
      "[LightGBM] [Debug] Trained a tree with leaves = 63 and depth = 10\n",
      "[LightGBM] [Debug] Trained a tree with leaves = 63 and depth = 10\n",
      "[LightGBM] [Debug] Trained a tree with leaves = 63 and depth = 9\n",
      "[LightGBM] [Debug] Trained a tree with leaves = 63 and depth = 9\n",
      "[LightGBM] [Debug] Trained a tree with leaves = 63 and depth = 10\n",
      "[LightGBM] [Debug] Trained a tree with leaves = 63 and depth = 9\n",
      "[50]\ttraining's binary_logloss: 0.456462\tvalid_1's binary_logloss: 0.286549\n",
      "[LightGBM] [Debug] Trained a tree with leaves = 63 and depth = 11\n",
      "[LightGBM] [Debug] Trained a tree with leaves = 63 and depth = 9\n",
      "[LightGBM] [Debug] Trained a tree with leaves = 63 and depth = 9\n",
      "[LightGBM] [Debug] Trained a tree with leaves = 63 and depth = 10\n",
      "[LightGBM] [Debug] Trained a tree with leaves = 63 and depth = 9\n",
      "[LightGBM] [Debug] Trained a tree with leaves = 63 and depth = 11\n",
      "[LightGBM] [Debug] Trained a tree with leaves = 63 and depth = 10\n",
      "[LightGBM] [Debug] Trained a tree with leaves = 63 and depth = 10\n",
      "[LightGBM] [Debug] Trained a tree with leaves = 63 and depth = 9\n",
      "[LightGBM] [Debug] Trained a tree with leaves = 63 and depth = 10\n",
      "[LightGBM] [Debug] Trained a tree with leaves = 63 and depth = 10\n",
      "[LightGBM] [Debug] Trained a tree with leaves = 63 and depth = 10\n",
      "[LightGBM] [Debug] Trained a tree with leaves = 63 and depth = 11\n",
      "[LightGBM] [Debug] Trained a tree with leaves = 63 and depth = 13\n",
      "[LightGBM] [Debug] Trained a tree with leaves = 63 and depth = 9\n",
      "[LightGBM] [Debug] Trained a tree with leaves = 63 and depth = 13\n",
      "[LightGBM] [Debug] Trained a tree with leaves = 63 and depth = 11\n",
      "[LightGBM] [Debug] Trained a tree with leaves = 63 and depth = 12\n",
      "[LightGBM] [Debug] Trained a tree with leaves = 63 and depth = 9\n",
      "[LightGBM] [Debug] Trained a tree with leaves = 63 and depth = 9\n",
      "[LightGBM] [Debug] Trained a tree with leaves = 63 and depth = 11\n",
      "[LightGBM] [Debug] Trained a tree with leaves = 63 and depth = 14\n",
      "[LightGBM] [Debug] Trained a tree with leaves = 63 and depth = 13\n",
      "[LightGBM] [Debug] Trained a tree with leaves = 63 and depth = 11\n",
      "[LightGBM] [Debug] Trained a tree with leaves = 63 and depth = 10\n",
      "[LightGBM] [Debug] Trained a tree with leaves = 63 and depth = 11\n",
      "[LightGBM] [Debug] Trained a tree with leaves = 63 and depth = 13\n",
      "[LightGBM] [Debug] Trained a tree with leaves = 63 and depth = 10\n",
      "[LightGBM] [Debug] Trained a tree with leaves = 63 and depth = 12\n",
      "[LightGBM] [Debug] Trained a tree with leaves = 63 and depth = 11\n",
      "[LightGBM] [Debug] Trained a tree with leaves = 63 and depth = 11\n",
      "[LightGBM] [Debug] Trained a tree with leaves = 63 and depth = 11\n",
      "[LightGBM] [Debug] Trained a tree with leaves = 63 and depth = 10\n",
      "[LightGBM] [Debug] Trained a tree with leaves = 63 and depth = 11\n",
      "[LightGBM] [Debug] Trained a tree with leaves = 63 and depth = 13\n",
      "[LightGBM] [Debug] Trained a tree with leaves = 63 and depth = 9\n",
      "[LightGBM] [Debug] Trained a tree with leaves = 63 and depth = 12\n",
      "[LightGBM] [Debug] Trained a tree with leaves = 63 and depth = 11\n",
      "[LightGBM] [Debug] Trained a tree with leaves = 63 and depth = 10\n",
      "[LightGBM] [Debug] Trained a tree with leaves = 63 and depth = 12\n",
      "[LightGBM] [Debug] Trained a tree with leaves = 63 and depth = 11\n",
      "[LightGBM] [Debug] Trained a tree with leaves = 63 and depth = 11\n",
      "[LightGBM] [Debug] Trained a tree with leaves = 63 and depth = 12\n",
      "[LightGBM] [Debug] Trained a tree with leaves = 63 and depth = 11\n",
      "[LightGBM] [Debug] Trained a tree with leaves = 63 and depth = 12\n",
      "[LightGBM] [Debug] Trained a tree with leaves = 63 and depth = 12\n",
      "[LightGBM] [Debug] Trained a tree with leaves = 63 and depth = 10\n",
      "[LightGBM] [Debug] Trained a tree with leaves = 63 and depth = 12\n",
      "[LightGBM] [Debug] Trained a tree with leaves = 63 and depth = 10\n",
      "[LightGBM] [Debug] Trained a tree with leaves = 63 and depth = 10\n",
      "[100]\ttraining's binary_logloss: 0.419136\tvalid_1's binary_logloss: 0.267782\n",
      "[LightGBM] [Debug] Trained a tree with leaves = 63 and depth = 10\n",
      "[LightGBM] [Debug] Trained a tree with leaves = 63 and depth = 12\n",
      "[LightGBM] [Debug] Trained a tree with leaves = 63 and depth = 13\n",
      "[LightGBM] [Debug] Trained a tree with leaves = 63 and depth = 12\n",
      "[LightGBM] [Debug] Trained a tree with leaves = 63 and depth = 13\n",
      "[LightGBM] [Debug] Trained a tree with leaves = 63 and depth = 11\n",
      "[LightGBM] [Debug] Trained a tree with leaves = 63 and depth = 11\n",
      "[LightGBM] [Debug] Trained a tree with leaves = 63 and depth = 13\n",
      "[LightGBM] [Debug] Trained a tree with leaves = 63 and depth = 11\n",
      "[LightGBM] [Debug] Trained a tree with leaves = 63 and depth = 10\n",
      "[LightGBM] [Debug] Trained a tree with leaves = 63 and depth = 11\n",
      "[LightGBM] [Debug] Trained a tree with leaves = 63 and depth = 12\n",
      "[LightGBM] [Debug] Trained a tree with leaves = 63 and depth = 11\n",
      "[LightGBM] [Debug] Trained a tree with leaves = 63 and depth = 11\n",
      "[LightGBM] [Debug] Trained a tree with leaves = 63 and depth = 10\n",
      "[LightGBM] [Debug] Trained a tree with leaves = 63 and depth = 10\n",
      "[LightGBM] [Debug] Trained a tree with leaves = 63 and depth = 11\n",
      "[LightGBM] [Debug] Trained a tree with leaves = 63 and depth = 13\n",
      "[LightGBM] [Debug] Trained a tree with leaves = 63 and depth = 11\n",
      "[LightGBM] [Debug] Trained a tree with leaves = 63 and depth = 11\n",
      "[LightGBM] [Debug] Trained a tree with leaves = 63 and depth = 12\n",
      "[LightGBM] [Debug] Trained a tree with leaves = 63 and depth = 11\n",
      "[LightGBM] [Debug] Trained a tree with leaves = 63 and depth = 11\n",
      "[LightGBM] [Debug] Trained a tree with leaves = 63 and depth = 14\n",
      "[LightGBM] [Debug] Trained a tree with leaves = 63 and depth = 11\n",
      "[LightGBM] [Debug] Trained a tree with leaves = 63 and depth = 11\n",
      "[LightGBM] [Debug] Trained a tree with leaves = 63 and depth = 10\n",
      "[LightGBM] [Debug] Trained a tree with leaves = 63 and depth = 10\n",
      "[LightGBM] [Debug] Trained a tree with leaves = 63 and depth = 11\n",
      "[LightGBM] [Debug] Trained a tree with leaves = 63 and depth = 11\n",
      "[LightGBM] [Debug] Trained a tree with leaves = 63 and depth = 11\n",
      "[LightGBM] [Debug] Trained a tree with leaves = 63 and depth = 12\n",
      "[LightGBM] [Debug] Trained a tree with leaves = 63 and depth = 12\n",
      "[LightGBM] [Debug] Trained a tree with leaves = 63 and depth = 11\n",
      "[LightGBM] [Debug] Trained a tree with leaves = 63 and depth = 11\n",
      "[LightGBM] [Debug] Trained a tree with leaves = 63 and depth = 12\n",
      "[LightGBM] [Debug] Trained a tree with leaves = 63 and depth = 10\n",
      "[LightGBM] [Debug] Trained a tree with leaves = 63 and depth = 12\n",
      "[LightGBM] [Debug] Trained a tree with leaves = 63 and depth = 11\n",
      "[LightGBM] [Debug] Trained a tree with leaves = 63 and depth = 11\n",
      "[LightGBM] [Debug] Trained a tree with leaves = 63 and depth = 11\n",
      "[LightGBM] [Debug] Trained a tree with leaves = 63 and depth = 12\n",
      "[LightGBM] [Debug] Trained a tree with leaves = 63 and depth = 11\n",
      "[LightGBM] [Debug] Trained a tree with leaves = 63 and depth = 11\n",
      "[LightGBM] [Debug] Trained a tree with leaves = 63 and depth = 10\n",
      "[LightGBM] [Debug] Trained a tree with leaves = 63 and depth = 12\n",
      "[LightGBM] [Debug] Trained a tree with leaves = 63 and depth = 10\n",
      "[LightGBM] [Debug] Trained a tree with leaves = 63 and depth = 11\n",
      "[LightGBM] [Debug] Trained a tree with leaves = 63 and depth = 11\n",
      "[LightGBM] [Debug] Trained a tree with leaves = 63 and depth = 11\n",
      "[150]\ttraining's binary_logloss: 0.397289\tvalid_1's binary_logloss: 0.256656\n",
      "[LightGBM] [Debug] Trained a tree with leaves = 63 and depth = 10\n",
      "[LightGBM] [Debug] Trained a tree with leaves = 63 and depth = 11\n",
      "[LightGBM] [Debug] Trained a tree with leaves = 63 and depth = 11\n",
      "[LightGBM] [Debug] Trained a tree with leaves = 63 and depth = 11\n",
      "[LightGBM] [Debug] Trained a tree with leaves = 63 and depth = 11\n",
      "[LightGBM] [Debug] Trained a tree with leaves = 63 and depth = 10\n",
      "[LightGBM] [Debug] Trained a tree with leaves = 63 and depth = 12\n",
      "[LightGBM] [Debug] Trained a tree with leaves = 63 and depth = 12\n",
      "[LightGBM] [Debug] Trained a tree with leaves = 63 and depth = 11\n",
      "[LightGBM] [Debug] Trained a tree with leaves = 63 and depth = 12\n",
      "[LightGBM] [Debug] Trained a tree with leaves = 63 and depth = 11\n",
      "[LightGBM] [Debug] Trained a tree with leaves = 63 and depth = 10\n",
      "[LightGBM] [Debug] Trained a tree with leaves = 63 and depth = 15\n",
      "[LightGBM] [Debug] Trained a tree with leaves = 63 and depth = 12\n",
      "[LightGBM] [Debug] Trained a tree with leaves = 63 and depth = 14\n",
      "[LightGBM] [Debug] Trained a tree with leaves = 63 and depth = 11\n",
      "[LightGBM] [Debug] Trained a tree with leaves = 63 and depth = 12\n",
      "[LightGBM] [Debug] Trained a tree with leaves = 63 and depth = 12\n",
      "[LightGBM] [Debug] Trained a tree with leaves = 63 and depth = 11\n",
      "[LightGBM] [Debug] Trained a tree with leaves = 63 and depth = 14\n",
      "[LightGBM] [Debug] Trained a tree with leaves = 63 and depth = 13\n",
      "[LightGBM] [Debug] Trained a tree with leaves = 63 and depth = 10\n",
      "[LightGBM] [Debug] Trained a tree with leaves = 63 and depth = 12\n",
      "[LightGBM] [Debug] Trained a tree with leaves = 63 and depth = 14\n",
      "[LightGBM] [Debug] Trained a tree with leaves = 63 and depth = 12\n",
      "[LightGBM] [Debug] Trained a tree with leaves = 63 and depth = 12\n",
      "[LightGBM] [Debug] Trained a tree with leaves = 63 and depth = 13\n",
      "[LightGBM] [Debug] Trained a tree with leaves = 63 and depth = 11\n",
      "[LightGBM] [Debug] Trained a tree with leaves = 63 and depth = 12\n",
      "[LightGBM] [Debug] Trained a tree with leaves = 63 and depth = 12\n",
      "[LightGBM] [Debug] Trained a tree with leaves = 63 and depth = 12\n",
      "[LightGBM] [Debug] Trained a tree with leaves = 63 and depth = 13\n",
      "[LightGBM] [Debug] Trained a tree with leaves = 63 and depth = 11\n",
      "[LightGBM] [Debug] Trained a tree with leaves = 63 and depth = 12\n",
      "[LightGBM] [Debug] Trained a tree with leaves = 63 and depth = 13\n",
      "[LightGBM] [Debug] Trained a tree with leaves = 63 and depth = 10\n",
      "[LightGBM] [Debug] Trained a tree with leaves = 63 and depth = 11\n",
      "[LightGBM] [Debug] Trained a tree with leaves = 63 and depth = 12\n",
      "[LightGBM] [Debug] Trained a tree with leaves = 63 and depth = 14\n",
      "[LightGBM] [Debug] Trained a tree with leaves = 63 and depth = 11\n",
      "[LightGBM] [Debug] Trained a tree with leaves = 63 and depth = 11\n",
      "[LightGBM] [Debug] Trained a tree with leaves = 63 and depth = 12\n",
      "[LightGBM] [Debug] Trained a tree with leaves = 63 and depth = 12\n",
      "[LightGBM] [Debug] Trained a tree with leaves = 63 and depth = 13\n",
      "[LightGBM] [Debug] Trained a tree with leaves = 63 and depth = 13\n",
      "[LightGBM] [Debug] Trained a tree with leaves = 63 and depth = 15\n",
      "[LightGBM] [Debug] Trained a tree with leaves = 63 and depth = 13\n",
      "[LightGBM] [Debug] Trained a tree with leaves = 63 and depth = 13\n",
      "[LightGBM] [Debug] Trained a tree with leaves = 63 and depth = 15\n",
      "[LightGBM] [Debug] Trained a tree with leaves = 63 and depth = 14\n",
      "[200]\ttraining's binary_logloss: 0.382989\tvalid_1's binary_logloss: 0.249299\n",
      "[LightGBM] [Debug] Trained a tree with leaves = 63 and depth = 13\n",
      "[LightGBM] [Debug] Trained a tree with leaves = 63 and depth = 11\n",
      "[LightGBM] [Debug] Trained a tree with leaves = 63 and depth = 14\n",
      "[LightGBM] [Debug] Trained a tree with leaves = 63 and depth = 12\n",
      "[LightGBM] [Debug] Trained a tree with leaves = 63 and depth = 13\n",
      "[LightGBM] [Debug] Trained a tree with leaves = 63 and depth = 11\n",
      "[LightGBM] [Debug] Trained a tree with leaves = 63 and depth = 13\n",
      "[LightGBM] [Debug] Trained a tree with leaves = 63 and depth = 14\n",
      "[LightGBM] [Debug] Trained a tree with leaves = 63 and depth = 11\n",
      "[LightGBM] [Debug] Trained a tree with leaves = 63 and depth = 14\n",
      "[LightGBM] [Debug] Trained a tree with leaves = 63 and depth = 11\n",
      "[LightGBM] [Debug] Trained a tree with leaves = 63 and depth = 13\n",
      "[LightGBM] [Debug] Trained a tree with leaves = 63 and depth = 12\n",
      "[LightGBM] [Debug] Trained a tree with leaves = 63 and depth = 12\n",
      "[LightGBM] [Debug] Trained a tree with leaves = 63 and depth = 13\n",
      "[LightGBM] [Debug] Trained a tree with leaves = 63 and depth = 14\n",
      "[LightGBM] [Debug] Trained a tree with leaves = 63 and depth = 11\n",
      "[LightGBM] [Debug] Trained a tree with leaves = 63 and depth = 14\n",
      "[LightGBM] [Debug] Trained a tree with leaves = 63 and depth = 10\n",
      "[LightGBM] [Debug] Trained a tree with leaves = 63 and depth = 14\n",
      "[LightGBM] [Debug] Trained a tree with leaves = 63 and depth = 13\n",
      "[LightGBM] [Debug] Trained a tree with leaves = 63 and depth = 13\n",
      "[LightGBM] [Debug] Trained a tree with leaves = 63 and depth = 12\n",
      "[LightGBM] [Debug] Trained a tree with leaves = 63 and depth = 13\n",
      "[LightGBM] [Debug] Trained a tree with leaves = 63 and depth = 13\n",
      "[LightGBM] [Debug] Trained a tree with leaves = 63 and depth = 12\n",
      "[LightGBM] [Debug] Trained a tree with leaves = 63 and depth = 15\n",
      "[LightGBM] [Debug] Trained a tree with leaves = 63 and depth = 11\n",
      "[LightGBM] [Debug] Trained a tree with leaves = 63 and depth = 14\n",
      "[LightGBM] [Debug] Trained a tree with leaves = 63 and depth = 12\n",
      "[LightGBM] [Debug] Trained a tree with leaves = 63 and depth = 13\n",
      "[LightGBM] [Debug] Trained a tree with leaves = 63 and depth = 11\n",
      "[LightGBM] [Debug] Trained a tree with leaves = 63 and depth = 15\n",
      "[LightGBM] [Debug] Trained a tree with leaves = 63 and depth = 13\n",
      "[LightGBM] [Debug] Trained a tree with leaves = 63 and depth = 16\n",
      "[LightGBM] [Debug] Trained a tree with leaves = 63 and depth = 12\n",
      "[LightGBM] [Debug] Trained a tree with leaves = 63 and depth = 14\n",
      "[LightGBM] [Debug] Trained a tree with leaves = 63 and depth = 14\n",
      "[LightGBM] [Debug] Trained a tree with leaves = 63 and depth = 13\n",
      "[LightGBM] [Debug] Trained a tree with leaves = 63 and depth = 11\n",
      "[LightGBM] [Debug] Trained a tree with leaves = 63 and depth = 14\n",
      "[LightGBM] [Debug] Trained a tree with leaves = 63 and depth = 11\n",
      "[LightGBM] [Debug] Trained a tree with leaves = 63 and depth = 12\n",
      "[LightGBM] [Debug] Trained a tree with leaves = 63 and depth = 15\n",
      "[LightGBM] [Debug] Trained a tree with leaves = 63 and depth = 13\n",
      "[LightGBM] [Debug] Trained a tree with leaves = 63 and depth = 14\n",
      "[LightGBM] [Debug] Trained a tree with leaves = 63 and depth = 16\n",
      "[LightGBM] [Debug] Trained a tree with leaves = 63 and depth = 12\n",
      "[LightGBM] [Debug] Trained a tree with leaves = 63 and depth = 13\n",
      "[LightGBM] [Debug] Trained a tree with leaves = 63 and depth = 13\n",
      "[250]\ttraining's binary_logloss: 0.373347\tvalid_1's binary_logloss: 0.244343\n",
      "[LightGBM] [Debug] Trained a tree with leaves = 63 and depth = 13\n",
      "[LightGBM] [Debug] Trained a tree with leaves = 63 and depth = 13\n",
      "[LightGBM] [Debug] Trained a tree with leaves = 63 and depth = 13\n",
      "[LightGBM] [Debug] Trained a tree with leaves = 63 and depth = 16\n",
      "[LightGBM] [Debug] Trained a tree with leaves = 63 and depth = 14\n",
      "[LightGBM] [Debug] Trained a tree with leaves = 63 and depth = 13\n",
      "[LightGBM] [Debug] Trained a tree with leaves = 63 and depth = 13\n",
      "[LightGBM] [Debug] Trained a tree with leaves = 63 and depth = 16\n",
      "[LightGBM] [Debug] Trained a tree with leaves = 63 and depth = 15\n",
      "[LightGBM] [Debug] Trained a tree with leaves = 63 and depth = 17\n",
      "[LightGBM] [Debug] Trained a tree with leaves = 63 and depth = 14\n",
      "[LightGBM] [Debug] Trained a tree with leaves = 63 and depth = 16\n",
      "[LightGBM] [Debug] Trained a tree with leaves = 63 and depth = 13\n",
      "[LightGBM] [Debug] Trained a tree with leaves = 63 and depth = 14\n",
      "[LightGBM] [Debug] Trained a tree with leaves = 63 and depth = 13\n",
      "[LightGBM] [Debug] Trained a tree with leaves = 63 and depth = 17\n",
      "[LightGBM] [Debug] Trained a tree with leaves = 63 and depth = 13\n",
      "[LightGBM] [Debug] Trained a tree with leaves = 63 and depth = 15\n",
      "[LightGBM] [Debug] Trained a tree with leaves = 63 and depth = 13\n",
      "[LightGBM] [Debug] Trained a tree with leaves = 63 and depth = 13\n",
      "[LightGBM] [Debug] Trained a tree with leaves = 63 and depth = 16\n",
      "[LightGBM] [Debug] Trained a tree with leaves = 63 and depth = 14\n",
      "[LightGBM] [Debug] Trained a tree with leaves = 63 and depth = 17\n",
      "[LightGBM] [Debug] Trained a tree with leaves = 63 and depth = 14\n",
      "[LightGBM] [Debug] Trained a tree with leaves = 63 and depth = 13\n",
      "[LightGBM] [Debug] Trained a tree with leaves = 63 and depth = 13\n",
      "[LightGBM] [Debug] Trained a tree with leaves = 63 and depth = 20\n",
      "[LightGBM] [Debug] Trained a tree with leaves = 63 and depth = 15\n",
      "[LightGBM] [Debug] Trained a tree with leaves = 63 and depth = 13\n",
      "[LightGBM] [Debug] Trained a tree with leaves = 63 and depth = 14\n",
      "[LightGBM] [Debug] Trained a tree with leaves = 63 and depth = 17\n",
      "[LightGBM] [Debug] Trained a tree with leaves = 63 and depth = 13\n",
      "[LightGBM] [Debug] Trained a tree with leaves = 63 and depth = 13\n",
      "[LightGBM] [Debug] Trained a tree with leaves = 63 and depth = 13\n",
      "[LightGBM] [Debug] Trained a tree with leaves = 63 and depth = 15\n",
      "[LightGBM] [Debug] Trained a tree with leaves = 63 and depth = 17\n",
      "[LightGBM] [Debug] Trained a tree with leaves = 63 and depth = 17\n",
      "[LightGBM] [Debug] Trained a tree with leaves = 63 and depth = 19\n",
      "[LightGBM] [Debug] Trained a tree with leaves = 63 and depth = 13\n",
      "[LightGBM] [Debug] Trained a tree with leaves = 63 and depth = 13\n",
      "[LightGBM] [Debug] Trained a tree with leaves = 63 and depth = 12\n",
      "[LightGBM] [Debug] Trained a tree with leaves = 63 and depth = 17\n",
      "[LightGBM] [Debug] Trained a tree with leaves = 63 and depth = 16\n",
      "[LightGBM] [Debug] Trained a tree with leaves = 63 and depth = 15\n",
      "[LightGBM] [Debug] Trained a tree with leaves = 63 and depth = 15\n",
      "[LightGBM] [Debug] Trained a tree with leaves = 63 and depth = 14\n",
      "[LightGBM] [Debug] Trained a tree with leaves = 63 and depth = 13\n",
      "[LightGBM] [Debug] Trained a tree with leaves = 63 and depth = 14\n",
      "[LightGBM] [Debug] Trained a tree with leaves = 63 and depth = 14\n",
      "[LightGBM] [Debug] Trained a tree with leaves = 63 and depth = 14\n",
      "[300]\ttraining's binary_logloss: 0.366267\tvalid_1's binary_logloss: 0.240684\n",
      "[LightGBM] [Debug] Trained a tree with leaves = 63 and depth = 13\n",
      "[LightGBM] [Debug] Trained a tree with leaves = 63 and depth = 17\n",
      "[LightGBM] [Debug] Trained a tree with leaves = 63 and depth = 13\n",
      "[LightGBM] [Debug] Trained a tree with leaves = 63 and depth = 15\n",
      "[LightGBM] [Debug] Trained a tree with leaves = 63 and depth = 14\n",
      "[LightGBM] [Debug] Trained a tree with leaves = 63 and depth = 16\n",
      "[LightGBM] [Debug] Trained a tree with leaves = 63 and depth = 17\n",
      "[LightGBM] [Debug] Trained a tree with leaves = 63 and depth = 11\n",
      "[LightGBM] [Debug] Trained a tree with leaves = 63 and depth = 15\n",
      "[LightGBM] [Debug] Trained a tree with leaves = 63 and depth = 14\n",
      "[LightGBM] [Debug] Trained a tree with leaves = 63 and depth = 17\n",
      "[LightGBM] [Debug] Trained a tree with leaves = 63 and depth = 16\n",
      "[LightGBM] [Debug] Trained a tree with leaves = 63 and depth = 13\n",
      "[LightGBM] [Debug] Trained a tree with leaves = 63 and depth = 16\n",
      "[LightGBM] [Debug] Trained a tree with leaves = 63 and depth = 14\n",
      "[LightGBM] [Debug] Trained a tree with leaves = 63 and depth = 17\n",
      "[LightGBM] [Debug] Trained a tree with leaves = 63 and depth = 14\n",
      "[LightGBM] [Debug] Trained a tree with leaves = 63 and depth = 15\n",
      "[LightGBM] [Debug] Trained a tree with leaves = 63 and depth = 13\n",
      "[LightGBM] [Debug] Trained a tree with leaves = 63 and depth = 18\n",
      "[LightGBM] [Debug] Trained a tree with leaves = 63 and depth = 16\n",
      "[LightGBM] [Debug] Trained a tree with leaves = 63 and depth = 19\n",
      "[LightGBM] [Debug] Trained a tree with leaves = 63 and depth = 15\n",
      "[LightGBM] [Debug] Trained a tree with leaves = 63 and depth = 14\n",
      "[LightGBM] [Debug] Trained a tree with leaves = 63 and depth = 12\n",
      "[LightGBM] [Debug] Trained a tree with leaves = 63 and depth = 13\n",
      "[LightGBM] [Debug] Trained a tree with leaves = 63 and depth = 12\n",
      "[LightGBM] [Debug] Trained a tree with leaves = 63 and depth = 16\n",
      "[LightGBM] [Debug] Trained a tree with leaves = 63 and depth = 15\n",
      "[LightGBM] [Debug] Trained a tree with leaves = 63 and depth = 12\n",
      "[LightGBM] [Debug] Trained a tree with leaves = 63 and depth = 17\n",
      "[LightGBM] [Debug] Trained a tree with leaves = 63 and depth = 15\n",
      "[LightGBM] [Debug] Trained a tree with leaves = 63 and depth = 16\n",
      "[LightGBM] [Debug] Trained a tree with leaves = 63 and depth = 15\n",
      "[LightGBM] [Debug] Trained a tree with leaves = 63 and depth = 11\n",
      "[LightGBM] [Debug] Trained a tree with leaves = 63 and depth = 13\n",
      "[LightGBM] [Debug] Trained a tree with leaves = 63 and depth = 15\n",
      "[LightGBM] [Debug] Trained a tree with leaves = 63 and depth = 12\n",
      "[LightGBM] [Debug] Trained a tree with leaves = 63 and depth = 14\n",
      "[LightGBM] [Debug] Trained a tree with leaves = 63 and depth = 14\n",
      "[LightGBM] [Debug] Trained a tree with leaves = 63 and depth = 11\n",
      "[LightGBM] [Debug] Trained a tree with leaves = 63 and depth = 15\n",
      "[LightGBM] [Debug] Trained a tree with leaves = 63 and depth = 15\n",
      "[LightGBM] [Debug] Trained a tree with leaves = 63 and depth = 13\n",
      "[LightGBM] [Debug] Trained a tree with leaves = 63 and depth = 14\n",
      "[LightGBM] [Debug] Trained a tree with leaves = 63 and depth = 15\n",
      "[LightGBM] [Debug] Trained a tree with leaves = 63 and depth = 15\n",
      "[LightGBM] [Debug] Trained a tree with leaves = 63 and depth = 15\n",
      "[LightGBM] [Debug] Trained a tree with leaves = 63 and depth = 13\n",
      "[LightGBM] [Debug] Trained a tree with leaves = 63 and depth = 12\n",
      "[350]\ttraining's binary_logloss: 0.360806\tvalid_1's binary_logloss: 0.237887\n",
      "[LightGBM] [Debug] Trained a tree with leaves = 63 and depth = 14\n",
      "[LightGBM] [Debug] Trained a tree with leaves = 63 and depth = 13\n",
      "[LightGBM] [Debug] Trained a tree with leaves = 63 and depth = 14\n",
      "[LightGBM] [Debug] Trained a tree with leaves = 63 and depth = 19\n",
      "[LightGBM] [Debug] Trained a tree with leaves = 63 and depth = 13\n",
      "[LightGBM] [Debug] Trained a tree with leaves = 63 and depth = 15\n",
      "[LightGBM] [Debug] Trained a tree with leaves = 63 and depth = 16\n",
      "[LightGBM] [Debug] Trained a tree with leaves = 63 and depth = 17\n",
      "[LightGBM] [Debug] Trained a tree with leaves = 63 and depth = 13\n",
      "[LightGBM] [Debug] Trained a tree with leaves = 63 and depth = 13\n",
      "[LightGBM] [Debug] Trained a tree with leaves = 63 and depth = 13\n",
      "[LightGBM] [Debug] Trained a tree with leaves = 63 and depth = 13\n",
      "[LightGBM] [Debug] Trained a tree with leaves = 63 and depth = 18\n",
      "[LightGBM] [Debug] Trained a tree with leaves = 63 and depth = 21\n",
      "[LightGBM] [Debug] Trained a tree with leaves = 63 and depth = 15\n",
      "[LightGBM] [Debug] Trained a tree with leaves = 63 and depth = 14\n",
      "[LightGBM] [Debug] Trained a tree with leaves = 63 and depth = 22\n",
      "[LightGBM] [Debug] Trained a tree with leaves = 63 and depth = 16\n",
      "[LightGBM] [Debug] Trained a tree with leaves = 63 and depth = 12\n",
      "[LightGBM] [Debug] Trained a tree with leaves = 63 and depth = 15\n",
      "[LightGBM] [Debug] Trained a tree with leaves = 63 and depth = 16\n",
      "[LightGBM] [Debug] Trained a tree with leaves = 63 and depth = 15\n",
      "[LightGBM] [Debug] Trained a tree with leaves = 63 and depth = 16\n",
      "[LightGBM] [Debug] Trained a tree with leaves = 63 and depth = 13\n",
      "[LightGBM] [Debug] Trained a tree with leaves = 63 and depth = 19\n",
      "[LightGBM] [Debug] Trained a tree with leaves = 63 and depth = 15\n",
      "[LightGBM] [Debug] Trained a tree with leaves = 63 and depth = 15\n",
      "[LightGBM] [Debug] Trained a tree with leaves = 63 and depth = 13\n",
      "[LightGBM] [Debug] Trained a tree with leaves = 63 and depth = 17\n",
      "[LightGBM] [Debug] Trained a tree with leaves = 63 and depth = 15\n",
      "[LightGBM] [Debug] Trained a tree with leaves = 63 and depth = 13\n",
      "[LightGBM] [Debug] Trained a tree with leaves = 63 and depth = 18\n",
      "[LightGBM] [Debug] Trained a tree with leaves = 63 and depth = 12\n",
      "[LightGBM] [Debug] Trained a tree with leaves = 63 and depth = 14\n",
      "[LightGBM] [Debug] Trained a tree with leaves = 63 and depth = 16\n",
      "[LightGBM] [Debug] Trained a tree with leaves = 63 and depth = 15\n",
      "[LightGBM] [Debug] Trained a tree with leaves = 63 and depth = 13\n",
      "[LightGBM] [Debug] Trained a tree with leaves = 63 and depth = 14\n",
      "[LightGBM] [Debug] Trained a tree with leaves = 63 and depth = 17\n",
      "[LightGBM] [Debug] Trained a tree with leaves = 63 and depth = 13\n",
      "[LightGBM] [Debug] Trained a tree with leaves = 63 and depth = 15\n",
      "[LightGBM] [Debug] Trained a tree with leaves = 63 and depth = 13\n",
      "[LightGBM] [Debug] Trained a tree with leaves = 63 and depth = 15\n",
      "[LightGBM] [Debug] Trained a tree with leaves = 63 and depth = 14\n",
      "[LightGBM] [Debug] Trained a tree with leaves = 63 and depth = 13\n",
      "[LightGBM] [Debug] Trained a tree with leaves = 63 and depth = 11\n",
      "[LightGBM] [Debug] Trained a tree with leaves = 63 and depth = 16\n",
      "[LightGBM] [Debug] Trained a tree with leaves = 63 and depth = 14\n",
      "[LightGBM] [Debug] Trained a tree with leaves = 63 and depth = 15\n",
      "[LightGBM] [Debug] Trained a tree with leaves = 63 and depth = 13\n",
      "[400]\ttraining's binary_logloss: 0.356773\tvalid_1's binary_logloss: 0.235865\n",
      "[LightGBM] [Debug] Trained a tree with leaves = 63 and depth = 15\n",
      "[LightGBM] [Debug] Trained a tree with leaves = 63 and depth = 15\n",
      "[LightGBM] [Debug] Trained a tree with leaves = 63 and depth = 13\n",
      "[LightGBM] [Debug] Trained a tree with leaves = 63 and depth = 15\n",
      "[LightGBM] [Debug] Trained a tree with leaves = 63 and depth = 16\n",
      "[LightGBM] [Debug] Trained a tree with leaves = 63 and depth = 11\n",
      "[LightGBM] [Debug] Trained a tree with leaves = 63 and depth = 13\n",
      "[LightGBM] [Debug] Trained a tree with leaves = 63 and depth = 17\n",
      "[LightGBM] [Debug] Trained a tree with leaves = 63 and depth = 13\n",
      "[LightGBM] [Debug] Trained a tree with leaves = 63 and depth = 17\n",
      "[LightGBM] [Debug] Trained a tree with leaves = 63 and depth = 13\n",
      "[LightGBM] [Debug] Trained a tree with leaves = 63 and depth = 22\n",
      "[LightGBM] [Debug] Trained a tree with leaves = 63 and depth = 16\n",
      "[LightGBM] [Debug] Trained a tree with leaves = 63 and depth = 14\n",
      "[LightGBM] [Debug] Trained a tree with leaves = 63 and depth = 13\n",
      "[LightGBM] [Debug] Trained a tree with leaves = 63 and depth = 21\n",
      "[LightGBM] [Debug] Trained a tree with leaves = 63 and depth = 11\n",
      "[LightGBM] [Debug] Trained a tree with leaves = 63 and depth = 12\n",
      "[LightGBM] [Debug] Trained a tree with leaves = 63 and depth = 13\n",
      "[LightGBM] [Debug] Trained a tree with leaves = 63 and depth = 17\n",
      "[LightGBM] [Debug] Trained a tree with leaves = 63 and depth = 15\n",
      "[LightGBM] [Debug] Trained a tree with leaves = 63 and depth = 13\n",
      "[LightGBM] [Debug] Trained a tree with leaves = 63 and depth = 12\n",
      "[LightGBM] [Debug] Trained a tree with leaves = 63 and depth = 14\n",
      "[LightGBM] [Debug] Trained a tree with leaves = 63 and depth = 13\n",
      "[LightGBM] [Debug] Trained a tree with leaves = 63 and depth = 11\n",
      "[LightGBM] [Debug] Trained a tree with leaves = 63 and depth = 18\n",
      "[LightGBM] [Debug] Trained a tree with leaves = 63 and depth = 17\n",
      "[LightGBM] [Debug] Trained a tree with leaves = 63 and depth = 13\n",
      "[LightGBM] [Debug] Trained a tree with leaves = 63 and depth = 16\n",
      "[LightGBM] [Debug] Trained a tree with leaves = 63 and depth = 18\n",
      "[LightGBM] [Debug] Trained a tree with leaves = 63 and depth = 14\n",
      "[LightGBM] [Debug] Trained a tree with leaves = 63 and depth = 12\n",
      "[LightGBM] [Debug] Trained a tree with leaves = 63 and depth = 13\n",
      "[LightGBM] [Debug] Trained a tree with leaves = 63 and depth = 22\n",
      "[LightGBM] [Debug] Trained a tree with leaves = 63 and depth = 14\n",
      "[LightGBM] [Debug] Trained a tree with leaves = 63 and depth = 18\n",
      "[LightGBM] [Debug] Trained a tree with leaves = 63 and depth = 13\n",
      "[LightGBM] [Debug] Trained a tree with leaves = 63 and depth = 13\n",
      "[LightGBM] [Debug] Trained a tree with leaves = 63 and depth = 14\n",
      "[LightGBM] [Debug] Trained a tree with leaves = 63 and depth = 14\n",
      "[LightGBM] [Debug] Trained a tree with leaves = 63 and depth = 16\n",
      "[LightGBM] [Debug] Trained a tree with leaves = 63 and depth = 15\n",
      "[LightGBM] [Debug] Trained a tree with leaves = 63 and depth = 14\n",
      "[LightGBM] [Debug] Trained a tree with leaves = 63 and depth = 15\n",
      "[LightGBM] [Debug] Trained a tree with leaves = 63 and depth = 13\n",
      "[LightGBM] [Debug] Trained a tree with leaves = 63 and depth = 11\n",
      "[LightGBM] [Debug] Trained a tree with leaves = 63 and depth = 13\n",
      "[LightGBM] [Debug] Trained a tree with leaves = 63 and depth = 16\n",
      "[LightGBM] [Debug] Trained a tree with leaves = 63 and depth = 13\n",
      "[450]\ttraining's binary_logloss: 0.353388\tvalid_1's binary_logloss: 0.234164\n",
      "[LightGBM] [Debug] Trained a tree with leaves = 63 and depth = 14\n",
      "[LightGBM] [Debug] Trained a tree with leaves = 63 and depth = 11\n",
      "[LightGBM] [Debug] Trained a tree with leaves = 63 and depth = 16\n",
      "[LightGBM] [Debug] Trained a tree with leaves = 63 and depth = 13\n",
      "[LightGBM] [Debug] Trained a tree with leaves = 63 and depth = 13\n",
      "[LightGBM] [Debug] Trained a tree with leaves = 63 and depth = 15\n",
      "[LightGBM] [Debug] Trained a tree with leaves = 63 and depth = 12\n",
      "[LightGBM] [Debug] Trained a tree with leaves = 63 and depth = 14\n",
      "[LightGBM] [Debug] Trained a tree with leaves = 63 and depth = 13\n",
      "[LightGBM] [Debug] Trained a tree with leaves = 63 and depth = 15\n",
      "[LightGBM] [Debug] Trained a tree with leaves = 63 and depth = 13\n",
      "[LightGBM] [Debug] Trained a tree with leaves = 63 and depth = 12\n",
      "[LightGBM] [Debug] Trained a tree with leaves = 63 and depth = 13\n",
      "[LightGBM] [Debug] Trained a tree with leaves = 63 and depth = 20\n",
      "[LightGBM] [Debug] Trained a tree with leaves = 63 and depth = 15\n",
      "[LightGBM] [Debug] Trained a tree with leaves = 63 and depth = 13\n",
      "[LightGBM] [Debug] Trained a tree with leaves = 63 and depth = 13\n",
      "[LightGBM] [Debug] Trained a tree with leaves = 63 and depth = 14\n",
      "[LightGBM] [Debug] Trained a tree with leaves = 63 and depth = 13\n",
      "[LightGBM] [Debug] Trained a tree with leaves = 63 and depth = 14\n",
      "[LightGBM] [Debug] Trained a tree with leaves = 63 and depth = 14\n",
      "[LightGBM] [Debug] Trained a tree with leaves = 63 and depth = 14\n",
      "[LightGBM] [Debug] Trained a tree with leaves = 63 and depth = 15\n",
      "[LightGBM] [Debug] Trained a tree with leaves = 63 and depth = 14\n",
      "[LightGBM] [Debug] Trained a tree with leaves = 63 and depth = 15\n",
      "[LightGBM] [Debug] Trained a tree with leaves = 63 and depth = 15\n",
      "[LightGBM] [Debug] Trained a tree with leaves = 63 and depth = 20\n",
      "[LightGBM] [Debug] Trained a tree with leaves = 63 and depth = 10\n",
      "[LightGBM] [Debug] Trained a tree with leaves = 63 and depth = 13\n",
      "[LightGBM] [Debug] Trained a tree with leaves = 63 and depth = 15\n",
      "[LightGBM] [Debug] Trained a tree with leaves = 63 and depth = 11\n",
      "[LightGBM] [Debug] Trained a tree with leaves = 63 and depth = 16\n",
      "[LightGBM] [Debug] Trained a tree with leaves = 63 and depth = 19\n",
      "[LightGBM] [Debug] Trained a tree with leaves = 63 and depth = 14\n",
      "[LightGBM] [Debug] Trained a tree with leaves = 63 and depth = 13\n",
      "[LightGBM] [Debug] Trained a tree with leaves = 63 and depth = 14\n",
      "[LightGBM] [Debug] Trained a tree with leaves = 63 and depth = 13\n",
      "[LightGBM] [Debug] Trained a tree with leaves = 63 and depth = 14\n",
      "[LightGBM] [Debug] Trained a tree with leaves = 63 and depth = 17\n",
      "[LightGBM] [Debug] Trained a tree with leaves = 63 and depth = 14\n",
      "[LightGBM] [Debug] Trained a tree with leaves = 63 and depth = 14\n",
      "[LightGBM] [Debug] Trained a tree with leaves = 63 and depth = 15\n",
      "[LightGBM] [Debug] Trained a tree with leaves = 63 and depth = 22\n",
      "[LightGBM] [Debug] Trained a tree with leaves = 63 and depth = 12\n",
      "[LightGBM] [Debug] Trained a tree with leaves = 63 and depth = 15\n",
      "[LightGBM] [Debug] Trained a tree with leaves = 63 and depth = 15\n",
      "[LightGBM] [Debug] Trained a tree with leaves = 63 and depth = 14\n",
      "[LightGBM] [Debug] Trained a tree with leaves = 63 and depth = 13\n",
      "[LightGBM] [Debug] Trained a tree with leaves = 63 and depth = 13\n",
      "[LightGBM] [Debug] Trained a tree with leaves = 63 and depth = 22\n",
      "[500]\ttraining's binary_logloss: 0.350475\tvalid_1's binary_logloss: 0.232728\n",
      "[LightGBM] [Debug] Trained a tree with leaves = 63 and depth = 13\n",
      "[LightGBM] [Debug] Trained a tree with leaves = 63 and depth = 15\n",
      "[LightGBM] [Debug] Trained a tree with leaves = 63 and depth = 15\n",
      "[LightGBM] [Debug] Trained a tree with leaves = 63 and depth = 13\n",
      "[LightGBM] [Debug] Trained a tree with leaves = 63 and depth = 14\n",
      "[LightGBM] [Debug] Trained a tree with leaves = 63 and depth = 19\n",
      "[LightGBM] [Debug] Trained a tree with leaves = 63 and depth = 14\n",
      "[LightGBM] [Debug] Trained a tree with leaves = 63 and depth = 13\n",
      "[LightGBM] [Debug] Trained a tree with leaves = 63 and depth = 16\n",
      "[LightGBM] [Debug] Trained a tree with leaves = 63 and depth = 14\n",
      "[LightGBM] [Debug] Trained a tree with leaves = 63 and depth = 16\n",
      "[LightGBM] [Debug] Trained a tree with leaves = 63 and depth = 14\n",
      "[LightGBM] [Debug] Trained a tree with leaves = 63 and depth = 15\n",
      "[LightGBM] [Debug] Trained a tree with leaves = 63 and depth = 11\n",
      "[LightGBM] [Debug] Trained a tree with leaves = 63 and depth = 16\n",
      "[LightGBM] [Debug] Trained a tree with leaves = 63 and depth = 16\n",
      "[LightGBM] [Debug] Trained a tree with leaves = 63 and depth = 23\n",
      "[LightGBM] [Debug] Trained a tree with leaves = 63 and depth = 15\n",
      "[LightGBM] [Debug] Trained a tree with leaves = 63 and depth = 14\n",
      "[LightGBM] [Debug] Trained a tree with leaves = 63 and depth = 13\n",
      "[LightGBM] [Debug] Trained a tree with leaves = 63 and depth = 21\n",
      "[LightGBM] [Debug] Trained a tree with leaves = 63 and depth = 13\n",
      "[LightGBM] [Debug] Trained a tree with leaves = 63 and depth = 15\n",
      "[LightGBM] [Debug] Trained a tree with leaves = 63 and depth = 15\n",
      "[LightGBM] [Debug] Trained a tree with leaves = 63 and depth = 13\n",
      "[LightGBM] [Debug] Trained a tree with leaves = 63 and depth = 14\n",
      "[LightGBM] [Debug] Trained a tree with leaves = 63 and depth = 15\n",
      "[LightGBM] [Debug] Trained a tree with leaves = 63 and depth = 15\n",
      "[LightGBM] [Debug] Trained a tree with leaves = 63 and depth = 15\n",
      "[LightGBM] [Debug] Trained a tree with leaves = 63 and depth = 12\n",
      "[LightGBM] [Debug] Trained a tree with leaves = 63 and depth = 15\n",
      "[LightGBM] [Debug] Trained a tree with leaves = 63 and depth = 15\n",
      "[LightGBM] [Debug] Trained a tree with leaves = 63 and depth = 16\n",
      "[LightGBM] [Debug] Trained a tree with leaves = 63 and depth = 13\n",
      "[LightGBM] [Debug] Trained a tree with leaves = 63 and depth = 12\n",
      "[LightGBM] [Debug] Trained a tree with leaves = 63 and depth = 14\n",
      "[LightGBM] [Debug] Trained a tree with leaves = 63 and depth = 15\n",
      "[LightGBM] [Debug] Trained a tree with leaves = 63 and depth = 14\n",
      "[LightGBM] [Debug] Trained a tree with leaves = 63 and depth = 17\n",
      "[LightGBM] [Debug] Trained a tree with leaves = 63 and depth = 12\n",
      "[LightGBM] [Debug] Trained a tree with leaves = 63 and depth = 15\n",
      "[LightGBM] [Debug] Trained a tree with leaves = 63 and depth = 14\n",
      "[LightGBM] [Debug] Trained a tree with leaves = 63 and depth = 15\n",
      "[LightGBM] [Debug] Trained a tree with leaves = 63 and depth = 13\n",
      "[LightGBM] [Debug] Trained a tree with leaves = 63 and depth = 18\n",
      "[LightGBM] [Debug] Trained a tree with leaves = 63 and depth = 13\n",
      "[LightGBM] [Debug] Trained a tree with leaves = 63 and depth = 15\n",
      "[LightGBM] [Debug] Trained a tree with leaves = 63 and depth = 13\n",
      "[LightGBM] [Debug] Trained a tree with leaves = 63 and depth = 14\n",
      "[LightGBM] [Debug] Trained a tree with leaves = 63 and depth = 15\n",
      "[550]\ttraining's binary_logloss: 0.348062\tvalid_1's binary_logloss: 0.231546\n",
      "[LightGBM] [Debug] Trained a tree with leaves = 63 and depth = 15\n",
      "[LightGBM] [Debug] Trained a tree with leaves = 63 and depth = 17\n",
      "[LightGBM] [Debug] Trained a tree with leaves = 63 and depth = 16\n",
      "[LightGBM] [Debug] Trained a tree with leaves = 63 and depth = 17\n",
      "[LightGBM] [Debug] Trained a tree with leaves = 63 and depth = 15\n",
      "[LightGBM] [Debug] Trained a tree with leaves = 63 and depth = 16\n",
      "[LightGBM] [Debug] Trained a tree with leaves = 63 and depth = 15\n",
      "[LightGBM] [Debug] Trained a tree with leaves = 63 and depth = 15\n",
      "[LightGBM] [Debug] Trained a tree with leaves = 63 and depth = 18\n",
      "[LightGBM] [Debug] Trained a tree with leaves = 63 and depth = 15\n",
      "[LightGBM] [Debug] Trained a tree with leaves = 63 and depth = 17\n",
      "[LightGBM] [Debug] Trained a tree with leaves = 63 and depth = 12\n",
      "[LightGBM] [Debug] Trained a tree with leaves = 63 and depth = 19\n",
      "[LightGBM] [Debug] Trained a tree with leaves = 63 and depth = 13\n",
      "[LightGBM] [Debug] Trained a tree with leaves = 63 and depth = 17\n",
      "[LightGBM] [Debug] Trained a tree with leaves = 63 and depth = 16\n",
      "[LightGBM] [Debug] Trained a tree with leaves = 63 and depth = 14\n",
      "[LightGBM] [Debug] Trained a tree with leaves = 63 and depth = 15\n",
      "[LightGBM] [Debug] Trained a tree with leaves = 63 and depth = 14\n",
      "[LightGBM] [Debug] Trained a tree with leaves = 63 and depth = 15\n",
      "[LightGBM] [Debug] Trained a tree with leaves = 63 and depth = 12\n",
      "[LightGBM] [Debug] Trained a tree with leaves = 63 and depth = 17\n",
      "[LightGBM] [Debug] Trained a tree with leaves = 63 and depth = 18\n",
      "[LightGBM] [Debug] Trained a tree with leaves = 63 and depth = 14\n",
      "[LightGBM] [Debug] Trained a tree with leaves = 63 and depth = 15\n",
      "[LightGBM] [Debug] Trained a tree with leaves = 63 and depth = 16\n",
      "[LightGBM] [Debug] Trained a tree with leaves = 63 and depth = 12\n",
      "[LightGBM] [Debug] Trained a tree with leaves = 63 and depth = 16\n",
      "[LightGBM] [Debug] Trained a tree with leaves = 63 and depth = 15\n",
      "[LightGBM] [Debug] Trained a tree with leaves = 63 and depth = 19\n",
      "[LightGBM] [Debug] Trained a tree with leaves = 63 and depth = 16\n",
      "[LightGBM] [Debug] Trained a tree with leaves = 63 and depth = 15\n",
      "[LightGBM] [Debug] Trained a tree with leaves = 63 and depth = 14\n",
      "[LightGBM] [Debug] Trained a tree with leaves = 63 and depth = 18\n",
      "[LightGBM] [Debug] Trained a tree with leaves = 63 and depth = 13\n",
      "[LightGBM] [Debug] Trained a tree with leaves = 63 and depth = 16\n",
      "[LightGBM] [Debug] Trained a tree with leaves = 63 and depth = 16\n",
      "[LightGBM] [Debug] Trained a tree with leaves = 63 and depth = 16\n",
      "[LightGBM] [Debug] Trained a tree with leaves = 63 and depth = 16\n",
      "[LightGBM] [Debug] Trained a tree with leaves = 63 and depth = 18\n",
      "[LightGBM] [Debug] Trained a tree with leaves = 63 and depth = 14\n",
      "[LightGBM] [Debug] Trained a tree with leaves = 63 and depth = 18\n",
      "[LightGBM] [Debug] Trained a tree with leaves = 63 and depth = 16\n",
      "[LightGBM] [Debug] Trained a tree with leaves = 63 and depth = 15\n",
      "[LightGBM] [Debug] Trained a tree with leaves = 63 and depth = 14\n",
      "[LightGBM] [Debug] Trained a tree with leaves = 63 and depth = 18\n",
      "[LightGBM] [Debug] Trained a tree with leaves = 63 and depth = 14\n",
      "[LightGBM] [Debug] Trained a tree with leaves = 63 and depth = 14\n",
      "[LightGBM] [Debug] Trained a tree with leaves = 63 and depth = 14\n",
      "[LightGBM] [Debug] Trained a tree with leaves = 63 and depth = 15\n",
      "[600]\ttraining's binary_logloss: 0.346036\tvalid_1's binary_logloss: 0.230557\n",
      "[LightGBM] [Debug] Trained a tree with leaves = 63 and depth = 16\n",
      "[LightGBM] [Debug] Trained a tree with leaves = 63 and depth = 16\n",
      "[LightGBM] [Debug] Trained a tree with leaves = 63 and depth = 13\n",
      "[LightGBM] [Debug] Trained a tree with leaves = 63 and depth = 14\n",
      "[LightGBM] [Debug] Trained a tree with leaves = 63 and depth = 14\n",
      "[LightGBM] [Debug] Trained a tree with leaves = 63 and depth = 17\n",
      "[LightGBM] [Debug] Trained a tree with leaves = 63 and depth = 15\n",
      "[LightGBM] [Debug] Trained a tree with leaves = 63 and depth = 15\n",
      "[LightGBM] [Debug] Trained a tree with leaves = 63 and depth = 13\n",
      "[LightGBM] [Debug] Trained a tree with leaves = 63 and depth = 15\n",
      "[LightGBM] [Debug] Trained a tree with leaves = 63 and depth = 16\n",
      "[LightGBM] [Debug] Trained a tree with leaves = 63 and depth = 21\n",
      "[LightGBM] [Debug] Trained a tree with leaves = 63 and depth = 16\n",
      "[LightGBM] [Debug] Trained a tree with leaves = 63 and depth = 19\n",
      "[LightGBM] [Debug] Trained a tree with leaves = 63 and depth = 16\n",
      "[LightGBM] [Debug] Trained a tree with leaves = 63 and depth = 13\n",
      "[LightGBM] [Debug] Trained a tree with leaves = 63 and depth = 14\n",
      "[LightGBM] [Debug] Trained a tree with leaves = 63 and depth = 16\n",
      "[LightGBM] [Debug] Trained a tree with leaves = 63 and depth = 14\n",
      "[LightGBM] [Debug] Trained a tree with leaves = 63 and depth = 13\n",
      "[LightGBM] [Debug] Trained a tree with leaves = 63 and depth = 21\n",
      "[LightGBM] [Debug] Trained a tree with leaves = 63 and depth = 15\n",
      "[LightGBM] [Debug] Trained a tree with leaves = 63 and depth = 14\n",
      "[LightGBM] [Debug] Trained a tree with leaves = 63 and depth = 14\n",
      "[LightGBM] [Debug] Trained a tree with leaves = 63 and depth = 18\n",
      "[LightGBM] [Debug] Trained a tree with leaves = 63 and depth = 13\n",
      "[LightGBM] [Debug] Trained a tree with leaves = 63 and depth = 20\n",
      "[LightGBM] [Debug] Trained a tree with leaves = 63 and depth = 17\n",
      "[LightGBM] [Debug] Trained a tree with leaves = 63 and depth = 16\n",
      "[LightGBM] [Debug] Trained a tree with leaves = 63 and depth = 18\n",
      "[LightGBM] [Debug] Trained a tree with leaves = 63 and depth = 16\n",
      "[LightGBM] [Debug] Trained a tree with leaves = 63 and depth = 17\n",
      "[LightGBM] [Debug] Trained a tree with leaves = 63 and depth = 13\n",
      "[LightGBM] [Debug] Trained a tree with leaves = 63 and depth = 16\n",
      "[LightGBM] [Debug] Trained a tree with leaves = 63 and depth = 14\n",
      "[LightGBM] [Debug] Trained a tree with leaves = 63 and depth = 16\n",
      "[LightGBM] [Debug] Trained a tree with leaves = 63 and depth = 16\n",
      "[LightGBM] [Debug] Trained a tree with leaves = 63 and depth = 18\n",
      "[LightGBM] [Debug] Trained a tree with leaves = 63 and depth = 18\n",
      "[LightGBM] [Debug] Trained a tree with leaves = 63 and depth = 14\n",
      "[LightGBM] [Debug] Trained a tree with leaves = 63 and depth = 13\n",
      "[LightGBM] [Debug] Trained a tree with leaves = 63 and depth = 22\n",
      "[LightGBM] [Debug] Trained a tree with leaves = 63 and depth = 15\n",
      "[LightGBM] [Debug] Trained a tree with leaves = 63 and depth = 12\n",
      "[LightGBM] [Debug] Trained a tree with leaves = 63 and depth = 15\n",
      "[LightGBM] [Debug] Trained a tree with leaves = 63 and depth = 14\n",
      "[LightGBM] [Debug] Trained a tree with leaves = 63 and depth = 15\n",
      "[LightGBM] [Debug] Trained a tree with leaves = 63 and depth = 16\n",
      "[LightGBM] [Debug] Trained a tree with leaves = 63 and depth = 17\n",
      "[LightGBM] [Debug] Trained a tree with leaves = 63 and depth = 15\n",
      "[650]\ttraining's binary_logloss: 0.344217\tvalid_1's binary_logloss: 0.229674\n",
      "[LightGBM] [Debug] Trained a tree with leaves = 63 and depth = 15\n",
      "[LightGBM] [Debug] Trained a tree with leaves = 63 and depth = 13\n",
      "[LightGBM] [Debug] Trained a tree with leaves = 63 and depth = 15\n",
      "[LightGBM] [Debug] Trained a tree with leaves = 63 and depth = 16\n",
      "[LightGBM] [Debug] Trained a tree with leaves = 63 and depth = 20\n",
      "[LightGBM] [Debug] Trained a tree with leaves = 63 and depth = 16\n",
      "[LightGBM] [Debug] Trained a tree with leaves = 63 and depth = 16\n",
      "[LightGBM] [Debug] Trained a tree with leaves = 63 and depth = 18\n",
      "[LightGBM] [Debug] Trained a tree with leaves = 63 and depth = 11\n",
      "[LightGBM] [Debug] Trained a tree with leaves = 63 and depth = 23\n",
      "[LightGBM] [Debug] Trained a tree with leaves = 63 and depth = 13\n",
      "[LightGBM] [Debug] Trained a tree with leaves = 63 and depth = 13\n",
      "[LightGBM] [Debug] Trained a tree with leaves = 63 and depth = 17\n",
      "[LightGBM] [Debug] Trained a tree with leaves = 63 and depth = 15\n",
      "[LightGBM] [Debug] Trained a tree with leaves = 63 and depth = 15\n",
      "[LightGBM] [Debug] Trained a tree with leaves = 63 and depth = 18\n",
      "[LightGBM] [Debug] Trained a tree with leaves = 63 and depth = 15\n",
      "[LightGBM] [Debug] Trained a tree with leaves = 63 and depth = 16\n",
      "[LightGBM] [Debug] Trained a tree with leaves = 63 and depth = 15\n",
      "[LightGBM] [Debug] Trained a tree with leaves = 63 and depth = 17\n",
      "[LightGBM] [Debug] Trained a tree with leaves = 63 and depth = 16\n",
      "[LightGBM] [Debug] Trained a tree with leaves = 63 and depth = 14\n",
      "[LightGBM] [Debug] Trained a tree with leaves = 63 and depth = 11\n",
      "[LightGBM] [Debug] Trained a tree with leaves = 63 and depth = 17\n",
      "[LightGBM] [Debug] Trained a tree with leaves = 63 and depth = 15\n",
      "[LightGBM] [Debug] Trained a tree with leaves = 63 and depth = 18\n",
      "[LightGBM] [Debug] Trained a tree with leaves = 63 and depth = 14\n",
      "[LightGBM] [Debug] Trained a tree with leaves = 63 and depth = 16\n",
      "[LightGBM] [Debug] Trained a tree with leaves = 63 and depth = 13\n",
      "[LightGBM] [Debug] Trained a tree with leaves = 63 and depth = 18\n",
      "[LightGBM] [Debug] Trained a tree with leaves = 63 and depth = 13\n",
      "[LightGBM] [Debug] Trained a tree with leaves = 63 and depth = 17\n",
      "[LightGBM] [Debug] Trained a tree with leaves = 63 and depth = 14\n",
      "[LightGBM] [Debug] Trained a tree with leaves = 63 and depth = 15\n",
      "[LightGBM] [Debug] Trained a tree with leaves = 63 and depth = 14\n",
      "[LightGBM] [Debug] Trained a tree with leaves = 63 and depth = 14\n",
      "[LightGBM] [Debug] Trained a tree with leaves = 63 and depth = 15\n",
      "[LightGBM] [Debug] Trained a tree with leaves = 63 and depth = 16\n",
      "[LightGBM] [Debug] Trained a tree with leaves = 63 and depth = 17\n",
      "[LightGBM] [Debug] Trained a tree with leaves = 63 and depth = 15\n",
      "[LightGBM] [Debug] Trained a tree with leaves = 63 and depth = 17\n",
      "[LightGBM] [Debug] Trained a tree with leaves = 63 and depth = 16\n",
      "[LightGBM] [Debug] Trained a tree with leaves = 63 and depth = 15\n",
      "[LightGBM] [Debug] Trained a tree with leaves = 63 and depth = 15\n",
      "[LightGBM] [Debug] Trained a tree with leaves = 63 and depth = 21\n",
      "[LightGBM] [Debug] Trained a tree with leaves = 63 and depth = 14\n",
      "[LightGBM] [Debug] Trained a tree with leaves = 63 and depth = 11\n",
      "[LightGBM] [Debug] Trained a tree with leaves = 63 and depth = 16\n",
      "[LightGBM] [Debug] Trained a tree with leaves = 63 and depth = 14\n",
      "[LightGBM] [Debug] Trained a tree with leaves = 63 and depth = 13\n",
      "[700]\ttraining's binary_logloss: 0.34256\tvalid_1's binary_logloss: 0.228889\n",
      "[LightGBM] [Debug] Trained a tree with leaves = 63 and depth = 16\n",
      "[LightGBM] [Debug] Trained a tree with leaves = 63 and depth = 17\n",
      "[LightGBM] [Debug] Trained a tree with leaves = 63 and depth = 16\n",
      "[LightGBM] [Debug] Trained a tree with leaves = 63 and depth = 16\n",
      "[LightGBM] [Debug] Trained a tree with leaves = 63 and depth = 18\n",
      "[LightGBM] [Debug] Trained a tree with leaves = 63 and depth = 13\n",
      "[LightGBM] [Debug] Trained a tree with leaves = 63 and depth = 19\n",
      "[LightGBM] [Debug] Trained a tree with leaves = 63 and depth = 14\n",
      "[LightGBM] [Debug] Trained a tree with leaves = 63 and depth = 16\n",
      "[LightGBM] [Debug] Trained a tree with leaves = 63 and depth = 13\n",
      "[LightGBM] [Debug] Trained a tree with leaves = 63 and depth = 14\n",
      "[LightGBM] [Debug] Trained a tree with leaves = 63 and depth = 21\n",
      "[LightGBM] [Debug] Trained a tree with leaves = 63 and depth = 16\n",
      "[LightGBM] [Debug] Trained a tree with leaves = 63 and depth = 20\n",
      "[LightGBM] [Debug] Trained a tree with leaves = 63 and depth = 12\n",
      "[LightGBM] [Debug] Trained a tree with leaves = 63 and depth = 14\n",
      "[LightGBM] [Debug] Trained a tree with leaves = 63 and depth = 15\n",
      "[LightGBM] [Debug] Trained a tree with leaves = 63 and depth = 16\n",
      "[LightGBM] [Debug] Trained a tree with leaves = 63 and depth = 18\n",
      "[LightGBM] [Debug] Trained a tree with leaves = 63 and depth = 20\n",
      "[LightGBM] [Debug] Trained a tree with leaves = 63 and depth = 14\n",
      "[LightGBM] [Debug] Trained a tree with leaves = 63 and depth = 19\n",
      "[LightGBM] [Debug] Trained a tree with leaves = 63 and depth = 15\n",
      "[LightGBM] [Debug] Trained a tree with leaves = 63 and depth = 19\n",
      "[LightGBM] [Debug] Trained a tree with leaves = 63 and depth = 17\n",
      "[LightGBM] [Debug] Trained a tree with leaves = 63 and depth = 18\n",
      "[LightGBM] [Debug] Trained a tree with leaves = 63 and depth = 12\n",
      "[LightGBM] [Debug] Trained a tree with leaves = 63 and depth = 21\n",
      "[LightGBM] [Debug] Trained a tree with leaves = 63 and depth = 16\n",
      "[LightGBM] [Debug] Trained a tree with leaves = 63 and depth = 14\n",
      "[LightGBM] [Debug] Trained a tree with leaves = 63 and depth = 11\n",
      "[LightGBM] [Debug] Trained a tree with leaves = 63 and depth = 15\n",
      "[LightGBM] [Debug] Trained a tree with leaves = 63 and depth = 16\n",
      "[LightGBM] [Debug] Trained a tree with leaves = 63 and depth = 19\n",
      "[LightGBM] [Debug] Trained a tree with leaves = 63 and depth = 17\n",
      "[LightGBM] [Debug] Trained a tree with leaves = 63 and depth = 20\n",
      "[LightGBM] [Debug] Trained a tree with leaves = 63 and depth = 19\n",
      "[LightGBM] [Debug] Trained a tree with leaves = 63 and depth = 19\n",
      "[LightGBM] [Debug] Trained a tree with leaves = 63 and depth = 18\n",
      "[LightGBM] [Debug] Trained a tree with leaves = 63 and depth = 17\n",
      "[LightGBM] [Debug] Trained a tree with leaves = 63 and depth = 20\n",
      "[LightGBM] [Debug] Trained a tree with leaves = 63 and depth = 20\n",
      "[LightGBM] [Debug] Trained a tree with leaves = 63 and depth = 18\n",
      "[LightGBM] [Debug] Trained a tree with leaves = 63 and depth = 21\n",
      "[LightGBM] [Debug] Trained a tree with leaves = 63 and depth = 20\n",
      "[LightGBM] [Debug] Trained a tree with leaves = 63 and depth = 16\n",
      "[LightGBM] [Debug] Trained a tree with leaves = 63 and depth = 16\n",
      "[LightGBM] [Debug] Trained a tree with leaves = 63 and depth = 22\n",
      "[LightGBM] [Debug] Trained a tree with leaves = 63 and depth = 16\n",
      "[LightGBM] [Debug] Trained a tree with leaves = 63 and depth = 15\n",
      "[750]\ttraining's binary_logloss: 0.34106\tvalid_1's binary_logloss: 0.228181\n",
      "[LightGBM] [Debug] Trained a tree with leaves = 63 and depth = 19\n",
      "[LightGBM] [Debug] Trained a tree with leaves = 63 and depth = 17\n",
      "[LightGBM] [Debug] Trained a tree with leaves = 63 and depth = 16\n",
      "[LightGBM] [Debug] Trained a tree with leaves = 63 and depth = 19\n",
      "[LightGBM] [Debug] Trained a tree with leaves = 63 and depth = 19\n",
      "[LightGBM] [Debug] Trained a tree with leaves = 63 and depth = 12\n",
      "[LightGBM] [Debug] Trained a tree with leaves = 63 and depth = 17\n",
      "[LightGBM] [Debug] Trained a tree with leaves = 63 and depth = 20\n",
      "[LightGBM] [Debug] Trained a tree with leaves = 63 and depth = 17\n",
      "[LightGBM] [Debug] Trained a tree with leaves = 63 and depth = 19\n",
      "[LightGBM] [Debug] Trained a tree with leaves = 63 and depth = 24\n",
      "[LightGBM] [Debug] Trained a tree with leaves = 63 and depth = 14\n",
      "[LightGBM] [Debug] Trained a tree with leaves = 63 and depth = 17\n",
      "[LightGBM] [Debug] Trained a tree with leaves = 63 and depth = 13\n",
      "[LightGBM] [Debug] Trained a tree with leaves = 63 and depth = 24\n",
      "[LightGBM] [Debug] Trained a tree with leaves = 63 and depth = 21\n",
      "[LightGBM] [Debug] Trained a tree with leaves = 63 and depth = 14\n",
      "[LightGBM] [Debug] Trained a tree with leaves = 63 and depth = 15\n",
      "[LightGBM] [Debug] Trained a tree with leaves = 63 and depth = 16\n",
      "[LightGBM] [Debug] Trained a tree with leaves = 63 and depth = 13\n",
      "[LightGBM] [Debug] Trained a tree with leaves = 63 and depth = 19\n",
      "[LightGBM] [Debug] Trained a tree with leaves = 63 and depth = 21\n",
      "[LightGBM] [Debug] Trained a tree with leaves = 63 and depth = 21\n",
      "[LightGBM] [Debug] Trained a tree with leaves = 63 and depth = 18\n",
      "[LightGBM] [Debug] Trained a tree with leaves = 63 and depth = 20\n",
      "[LightGBM] [Debug] Trained a tree with leaves = 63 and depth = 16\n",
      "[LightGBM] [Debug] Trained a tree with leaves = 63 and depth = 14\n",
      "[LightGBM] [Debug] Trained a tree with leaves = 63 and depth = 21\n",
      "[LightGBM] [Debug] Trained a tree with leaves = 63 and depth = 18\n",
      "[LightGBM] [Debug] Trained a tree with leaves = 63 and depth = 17\n",
      "[LightGBM] [Debug] Trained a tree with leaves = 63 and depth = 17\n",
      "[LightGBM] [Debug] Trained a tree with leaves = 63 and depth = 16\n",
      "[LightGBM] [Debug] Trained a tree with leaves = 63 and depth = 21\n",
      "[LightGBM] [Debug] Trained a tree with leaves = 63 and depth = 18\n",
      "[LightGBM] [Debug] Trained a tree with leaves = 63 and depth = 16\n",
      "[LightGBM] [Debug] Trained a tree with leaves = 63 and depth = 17\n",
      "[LightGBM] [Debug] Trained a tree with leaves = 63 and depth = 16\n",
      "[LightGBM] [Debug] Trained a tree with leaves = 63 and depth = 19\n",
      "[LightGBM] [Debug] Trained a tree with leaves = 63 and depth = 18\n",
      "[LightGBM] [Debug] Trained a tree with leaves = 63 and depth = 15\n",
      "[LightGBM] [Debug] Trained a tree with leaves = 63 and depth = 13\n",
      "[LightGBM] [Debug] Trained a tree with leaves = 63 and depth = 14\n",
      "[LightGBM] [Debug] Trained a tree with leaves = 63 and depth = 17\n",
      "[LightGBM] [Debug] Trained a tree with leaves = 63 and depth = 21\n",
      "[LightGBM] [Debug] Trained a tree with leaves = 63 and depth = 17\n",
      "[LightGBM] [Debug] Trained a tree with leaves = 63 and depth = 17\n",
      "[LightGBM] [Debug] Trained a tree with leaves = 63 and depth = 14\n",
      "[LightGBM] [Debug] Trained a tree with leaves = 63 and depth = 20\n",
      "[LightGBM] [Debug] Trained a tree with leaves = 63 and depth = 16\n",
      "[LightGBM] [Debug] Trained a tree with leaves = 63 and depth = 18\n",
      "[800]\ttraining's binary_logloss: 0.339717\tvalid_1's binary_logloss: 0.227541\n",
      "[LightGBM] [Debug] Trained a tree with leaves = 63 and depth = 20\n",
      "[LightGBM] [Debug] Trained a tree with leaves = 63 and depth = 20\n",
      "[LightGBM] [Debug] Trained a tree with leaves = 63 and depth = 17\n",
      "[LightGBM] [Debug] Trained a tree with leaves = 63 and depth = 15\n",
      "[LightGBM] [Debug] Trained a tree with leaves = 63 and depth = 14\n",
      "[LightGBM] [Debug] Trained a tree with leaves = 63 and depth = 21\n",
      "[LightGBM] [Debug] Trained a tree with leaves = 63 and depth = 18\n",
      "[LightGBM] [Debug] Trained a tree with leaves = 63 and depth = 16\n",
      "[LightGBM] [Debug] Trained a tree with leaves = 63 and depth = 24\n",
      "[LightGBM] [Debug] Trained a tree with leaves = 63 and depth = 14\n",
      "[LightGBM] [Debug] Trained a tree with leaves = 63 and depth = 22\n",
      "[LightGBM] [Debug] Trained a tree with leaves = 63 and depth = 22\n",
      "[LightGBM] [Debug] Trained a tree with leaves = 63 and depth = 18\n",
      "[LightGBM] [Debug] Trained a tree with leaves = 63 and depth = 14\n",
      "[LightGBM] [Debug] Trained a tree with leaves = 63 and depth = 20\n",
      "[LightGBM] [Debug] Trained a tree with leaves = 63 and depth = 21\n",
      "[LightGBM] [Debug] Trained a tree with leaves = 63 and depth = 18\n",
      "[LightGBM] [Debug] Trained a tree with leaves = 63 and depth = 17\n",
      "[LightGBM] [Debug] Trained a tree with leaves = 63 and depth = 20\n",
      "[LightGBM] [Debug] Trained a tree with leaves = 63 and depth = 15\n",
      "[LightGBM] [Debug] Trained a tree with leaves = 63 and depth = 21\n",
      "[LightGBM] [Debug] Trained a tree with leaves = 63 and depth = 15\n",
      "[LightGBM] [Debug] Trained a tree with leaves = 63 and depth = 16\n",
      "[LightGBM] [Debug] Trained a tree with leaves = 63 and depth = 19\n",
      "[LightGBM] [Debug] Trained a tree with leaves = 63 and depth = 13\n",
      "[LightGBM] [Debug] Trained a tree with leaves = 63 and depth = 15\n",
      "[LightGBM] [Debug] Trained a tree with leaves = 63 and depth = 16\n",
      "[LightGBM] [Debug] Trained a tree with leaves = 63 and depth = 14\n",
      "[LightGBM] [Debug] Trained a tree with leaves = 63 and depth = 15\n",
      "[LightGBM] [Debug] Trained a tree with leaves = 63 and depth = 14\n",
      "[LightGBM] [Debug] Trained a tree with leaves = 63 and depth = 16\n",
      "[LightGBM] [Debug] Trained a tree with leaves = 63 and depth = 17\n",
      "[LightGBM] [Debug] Trained a tree with leaves = 63 and depth = 19\n",
      "[LightGBM] [Debug] Trained a tree with leaves = 63 and depth = 17\n",
      "[LightGBM] [Debug] Trained a tree with leaves = 63 and depth = 20\n",
      "[LightGBM] [Debug] Trained a tree with leaves = 63 and depth = 22\n",
      "[LightGBM] [Debug] Trained a tree with leaves = 63 and depth = 14\n",
      "[LightGBM] [Debug] Trained a tree with leaves = 63 and depth = 18\n",
      "[LightGBM] [Debug] Trained a tree with leaves = 63 and depth = 15\n",
      "[LightGBM] [Debug] Trained a tree with leaves = 63 and depth = 16\n",
      "[LightGBM] [Debug] Trained a tree with leaves = 63 and depth = 14\n",
      "[LightGBM] [Debug] Trained a tree with leaves = 63 and depth = 16\n",
      "[LightGBM] [Debug] Trained a tree with leaves = 63 and depth = 15\n",
      "[LightGBM] [Debug] Trained a tree with leaves = 63 and depth = 16\n",
      "[LightGBM] [Debug] Trained a tree with leaves = 63 and depth = 22\n",
      "[LightGBM] [Debug] Trained a tree with leaves = 63 and depth = 24\n",
      "[LightGBM] [Debug] Trained a tree with leaves = 63 and depth = 19\n",
      "[LightGBM] [Debug] Trained a tree with leaves = 63 and depth = 20\n",
      "[LightGBM] [Debug] Trained a tree with leaves = 63 and depth = 15\n",
      "[LightGBM] [Debug] Trained a tree with leaves = 63 and depth = 14\n",
      "[850]\ttraining's binary_logloss: 0.338482\tvalid_1's binary_logloss: 0.226967\n",
      "[LightGBM] [Debug] Trained a tree with leaves = 63 and depth = 15\n",
      "[LightGBM] [Debug] Trained a tree with leaves = 63 and depth = 18\n",
      "[LightGBM] [Debug] Trained a tree with leaves = 63 and depth = 17\n",
      "[LightGBM] [Debug] Trained a tree with leaves = 63 and depth = 14\n",
      "[LightGBM] [Debug] Trained a tree with leaves = 63 and depth = 15\n",
      "[LightGBM] [Debug] Trained a tree with leaves = 63 and depth = 16\n",
      "[LightGBM] [Debug] Trained a tree with leaves = 63 and depth = 13\n",
      "[LightGBM] [Debug] Trained a tree with leaves = 63 and depth = 18\n",
      "[LightGBM] [Debug] Trained a tree with leaves = 63 and depth = 16\n",
      "[LightGBM] [Debug] Trained a tree with leaves = 63 and depth = 22\n",
      "[LightGBM] [Debug] Trained a tree with leaves = 63 and depth = 18\n",
      "[LightGBM] [Debug] Trained a tree with leaves = 63 and depth = 18\n",
      "[LightGBM] [Debug] Trained a tree with leaves = 63 and depth = 16\n",
      "[LightGBM] [Debug] Trained a tree with leaves = 63 and depth = 15\n",
      "[LightGBM] [Debug] Trained a tree with leaves = 63 and depth = 18\n",
      "[LightGBM] [Debug] Trained a tree with leaves = 63 and depth = 13\n",
      "[LightGBM] [Debug] Trained a tree with leaves = 63 and depth = 15\n",
      "[LightGBM] [Debug] Trained a tree with leaves = 63 and depth = 17\n",
      "[LightGBM] [Debug] Trained a tree with leaves = 63 and depth = 14\n",
      "[LightGBM] [Debug] Trained a tree with leaves = 63 and depth = 13\n",
      "[LightGBM] [Debug] Trained a tree with leaves = 63 and depth = 19\n",
      "[LightGBM] [Debug] Trained a tree with leaves = 63 and depth = 14\n",
      "[LightGBM] [Debug] Trained a tree with leaves = 63 and depth = 19\n",
      "[LightGBM] [Debug] Trained a tree with leaves = 63 and depth = 16\n",
      "[LightGBM] [Debug] Trained a tree with leaves = 63 and depth = 15\n",
      "[LightGBM] [Debug] Trained a tree with leaves = 63 and depth = 18\n",
      "[LightGBM] [Debug] Trained a tree with leaves = 63 and depth = 16\n",
      "[LightGBM] [Debug] Trained a tree with leaves = 63 and depth = 15\n",
      "[LightGBM] [Debug] Trained a tree with leaves = 63 and depth = 17\n",
      "[LightGBM] [Debug] Trained a tree with leaves = 63 and depth = 16\n",
      "[LightGBM] [Debug] Trained a tree with leaves = 63 and depth = 16\n",
      "[LightGBM] [Debug] Trained a tree with leaves = 63 and depth = 18\n",
      "[LightGBM] [Debug] Trained a tree with leaves = 63 and depth = 15\n",
      "[LightGBM] [Debug] Trained a tree with leaves = 63 and depth = 18\n",
      "[LightGBM] [Debug] Trained a tree with leaves = 63 and depth = 15\n",
      "[LightGBM] [Debug] Trained a tree with leaves = 63 and depth = 16\n",
      "[LightGBM] [Debug] Trained a tree with leaves = 63 and depth = 19\n",
      "[LightGBM] [Debug] Trained a tree with leaves = 63 and depth = 17\n",
      "[LightGBM] [Debug] Trained a tree with leaves = 63 and depth = 21\n",
      "[LightGBM] [Debug] Trained a tree with leaves = 63 and depth = 15\n",
      "[LightGBM] [Debug] Trained a tree with leaves = 63 and depth = 15\n",
      "[LightGBM] [Debug] Trained a tree with leaves = 63 and depth = 17\n",
      "[LightGBM] [Debug] Trained a tree with leaves = 63 and depth = 17\n",
      "[LightGBM] [Debug] Trained a tree with leaves = 63 and depth = 14\n",
      "[LightGBM] [Debug] Trained a tree with leaves = 63 and depth = 14\n",
      "[LightGBM] [Debug] Trained a tree with leaves = 63 and depth = 17\n",
      "[LightGBM] [Debug] Trained a tree with leaves = 63 and depth = 26\n",
      "[LightGBM] [Debug] Trained a tree with leaves = 63 and depth = 14\n",
      "[LightGBM] [Debug] Trained a tree with leaves = 63 and depth = 14\n",
      "[LightGBM] [Debug] Trained a tree with leaves = 63 and depth = 21\n",
      "[900]\ttraining's binary_logloss: 0.337352\tvalid_1's binary_logloss: 0.226434\n",
      "[LightGBM] [Debug] Trained a tree with leaves = 63 and depth = 16\n",
      "[LightGBM] [Debug] Trained a tree with leaves = 63 and depth = 16\n",
      "[LightGBM] [Debug] Trained a tree with leaves = 63 and depth = 16\n",
      "[LightGBM] [Debug] Trained a tree with leaves = 63 and depth = 13\n",
      "[LightGBM] [Debug] Trained a tree with leaves = 63 and depth = 13\n",
      "[LightGBM] [Debug] Trained a tree with leaves = 63 and depth = 17\n",
      "[LightGBM] [Debug] Trained a tree with leaves = 63 and depth = 14\n",
      "[LightGBM] [Debug] Trained a tree with leaves = 63 and depth = 15\n",
      "[LightGBM] [Debug] Trained a tree with leaves = 63 and depth = 13\n",
      "[LightGBM] [Debug] Trained a tree with leaves = 63 and depth = 25\n",
      "[LightGBM] [Debug] Trained a tree with leaves = 63 and depth = 19\n",
      "[LightGBM] [Debug] Trained a tree with leaves = 63 and depth = 19\n",
      "[LightGBM] [Debug] Trained a tree with leaves = 63 and depth = 13\n",
      "[LightGBM] [Debug] Trained a tree with leaves = 63 and depth = 17\n",
      "[LightGBM] [Debug] Trained a tree with leaves = 63 and depth = 13\n",
      "[LightGBM] [Debug] Trained a tree with leaves = 63 and depth = 17\n",
      "[LightGBM] [Debug] Trained a tree with leaves = 63 and depth = 18\n",
      "[LightGBM] [Debug] Trained a tree with leaves = 63 and depth = 13\n",
      "[LightGBM] [Debug] Trained a tree with leaves = 63 and depth = 17\n",
      "[LightGBM] [Debug] Trained a tree with leaves = 63 and depth = 22\n",
      "[LightGBM] [Debug] Trained a tree with leaves = 63 and depth = 19\n",
      "[LightGBM] [Debug] Trained a tree with leaves = 63 and depth = 16\n",
      "[LightGBM] [Debug] Trained a tree with leaves = 63 and depth = 17\n",
      "[LightGBM] [Debug] Trained a tree with leaves = 63 and depth = 14\n",
      "[LightGBM] [Debug] Trained a tree with leaves = 63 and depth = 14\n",
      "[LightGBM] [Debug] Trained a tree with leaves = 63 and depth = 19\n",
      "[LightGBM] [Debug] Trained a tree with leaves = 63 and depth = 15\n",
      "[LightGBM] [Debug] Trained a tree with leaves = 63 and depth = 15\n",
      "[LightGBM] [Debug] Trained a tree with leaves = 63 and depth = 13\n",
      "[LightGBM] [Debug] Trained a tree with leaves = 63 and depth = 17\n",
      "[LightGBM] [Debug] Trained a tree with leaves = 63 and depth = 16\n",
      "[LightGBM] [Debug] Trained a tree with leaves = 63 and depth = 20\n",
      "[LightGBM] [Debug] Trained a tree with leaves = 63 and depth = 16\n",
      "[LightGBM] [Debug] Trained a tree with leaves = 63 and depth = 16\n",
      "[LightGBM] [Debug] Trained a tree with leaves = 63 and depth = 13\n",
      "[LightGBM] [Debug] Trained a tree with leaves = 63 and depth = 15\n",
      "[LightGBM] [Debug] Trained a tree with leaves = 63 and depth = 14\n",
      "[LightGBM] [Debug] Trained a tree with leaves = 63 and depth = 15\n",
      "[LightGBM] [Debug] Trained a tree with leaves = 63 and depth = 15\n",
      "[LightGBM] [Debug] Trained a tree with leaves = 63 and depth = 17\n",
      "[LightGBM] [Debug] Trained a tree with leaves = 63 and depth = 17\n",
      "[LightGBM] [Debug] Trained a tree with leaves = 63 and depth = 16\n",
      "[LightGBM] [Debug] Trained a tree with leaves = 63 and depth = 22\n",
      "[LightGBM] [Debug] Trained a tree with leaves = 63 and depth = 18\n",
      "[LightGBM] [Debug] Trained a tree with leaves = 63 and depth = 17\n",
      "[LightGBM] [Debug] Trained a tree with leaves = 63 and depth = 13\n",
      "[LightGBM] [Debug] Trained a tree with leaves = 63 and depth = 21\n",
      "[LightGBM] [Debug] Trained a tree with leaves = 63 and depth = 14\n",
      "[LightGBM] [Debug] Trained a tree with leaves = 63 and depth = 14\n",
      "[LightGBM] [Debug] Trained a tree with leaves = 63 and depth = 25\n",
      "[950]\ttraining's binary_logloss: 0.336398\tvalid_1's binary_logloss: 0.225994\n",
      "[LightGBM] [Debug] Trained a tree with leaves = 63 and depth = 16\n",
      "[LightGBM] [Debug] Trained a tree with leaves = 63 and depth = 19\n",
      "[LightGBM] [Debug] Trained a tree with leaves = 63 and depth = 17\n",
      "[LightGBM] [Debug] Trained a tree with leaves = 63 and depth = 17\n",
      "[LightGBM] [Debug] Trained a tree with leaves = 63 and depth = 16\n",
      "[LightGBM] [Debug] Trained a tree with leaves = 63 and depth = 21\n",
      "[LightGBM] [Debug] Trained a tree with leaves = 63 and depth = 14\n",
      "[LightGBM] [Debug] Trained a tree with leaves = 63 and depth = 13\n",
      "[LightGBM] [Debug] Trained a tree with leaves = 63 and depth = 17\n",
      "[LightGBM] [Debug] Trained a tree with leaves = 63 and depth = 25\n",
      "[LightGBM] [Debug] Trained a tree with leaves = 63 and depth = 13\n",
      "[LightGBM] [Debug] Trained a tree with leaves = 63 and depth = 14\n",
      "[LightGBM] [Debug] Trained a tree with leaves = 63 and depth = 14\n",
      "[LightGBM] [Debug] Trained a tree with leaves = 63 and depth = 21\n",
      "[LightGBM] [Debug] Trained a tree with leaves = 63 and depth = 16\n",
      "[LightGBM] [Debug] Trained a tree with leaves = 63 and depth = 16\n",
      "[LightGBM] [Debug] Trained a tree with leaves = 63 and depth = 20\n",
      "[LightGBM] [Debug] Trained a tree with leaves = 63 and depth = 13\n",
      "[LightGBM] [Debug] Trained a tree with leaves = 63 and depth = 16\n",
      "[LightGBM] [Debug] Trained a tree with leaves = 63 and depth = 17\n",
      "[LightGBM] [Debug] Trained a tree with leaves = 63 and depth = 15\n",
      "[LightGBM] [Debug] Trained a tree with leaves = 63 and depth = 23\n",
      "[LightGBM] [Debug] Trained a tree with leaves = 63 and depth = 15\n",
      "[LightGBM] [Debug] Trained a tree with leaves = 63 and depth = 17\n",
      "[LightGBM] [Debug] Trained a tree with leaves = 63 and depth = 17\n",
      "[LightGBM] [Debug] Trained a tree with leaves = 63 and depth = 16\n",
      "[LightGBM] [Debug] Trained a tree with leaves = 63 and depth = 20\n",
      "[LightGBM] [Debug] Trained a tree with leaves = 63 and depth = 14\n",
      "[LightGBM] [Debug] Trained a tree with leaves = 63 and depth = 24\n",
      "[LightGBM] [Debug] Trained a tree with leaves = 63 and depth = 14\n",
      "[LightGBM] [Debug] Trained a tree with leaves = 63 and depth = 14\n",
      "[LightGBM] [Debug] Trained a tree with leaves = 63 and depth = 15\n",
      "[LightGBM] [Debug] Trained a tree with leaves = 63 and depth = 14\n",
      "[LightGBM] [Debug] Trained a tree with leaves = 63 and depth = 17\n",
      "[LightGBM] [Debug] Trained a tree with leaves = 63 and depth = 15\n",
      "[LightGBM] [Debug] Trained a tree with leaves = 63 and depth = 17\n",
      "[LightGBM] [Debug] Trained a tree with leaves = 63 and depth = 18\n",
      "[LightGBM] [Debug] Trained a tree with leaves = 63 and depth = 14\n",
      "[LightGBM] [Debug] Trained a tree with leaves = 63 and depth = 13\n",
      "[LightGBM] [Debug] Trained a tree with leaves = 63 and depth = 14\n",
      "[LightGBM] [Debug] Trained a tree with leaves = 63 and depth = 16\n",
      "[LightGBM] [Debug] Trained a tree with leaves = 63 and depth = 17\n",
      "[LightGBM] [Debug] Trained a tree with leaves = 63 and depth = 14\n",
      "[LightGBM] [Debug] Trained a tree with leaves = 63 and depth = 18\n",
      "[LightGBM] [Debug] Trained a tree with leaves = 63 and depth = 12\n",
      "[LightGBM] [Debug] Trained a tree with leaves = 63 and depth = 24\n",
      "[LightGBM] [Debug] Trained a tree with leaves = 63 and depth = 17\n",
      "[LightGBM] [Debug] Trained a tree with leaves = 63 and depth = 18\n",
      "[LightGBM] [Debug] Trained a tree with leaves = 63 and depth = 18\n",
      "[LightGBM] [Debug] Trained a tree with leaves = 63 and depth = 16\n",
      "[1000]\ttraining's binary_logloss: 0.335484\tvalid_1's binary_logloss: 0.2256\n"
     ]
    }
   ],
   "source": [
    "num_round = 1000  # 최대 훈련 라운드 수\n",
    "\n",
    "model = lgb.train(\n",
    "    params,\n",
    "    train_data,\n",
    "    num_round,\n",
    "    valid_sets=[train_data, valid_data],\n",
    "    verbose_eval=50,\n",
    ")"
   ]
  },
  {
   "cell_type": "code",
   "execution_count": 193,
   "id": "086be091-732c-4866-a675-9b1abbb2e74c",
   "metadata": {},
   "outputs": [],
   "source": [
    "y_pred_val = model.predict(X_val, num_iteration=model.best_iteration)\n",
    "y_pred_test = model.predict(X_test, num_iteration=model.best_iteration)"
   ]
  },
  {
   "cell_type": "code",
   "execution_count": 195,
   "id": "d6ade344-6b1c-435b-8c1c-41be5608e812",
   "metadata": {},
   "outputs": [],
   "source": [
    "# 이진 분류 예측 값을 0 또는 1으로 변환\n",
    "\n",
    "y_pred_val_binary = np.where(y_pred_val > 0.5, 1, 0)\n",
    "y_pred_test_binary = np.where(y_pred_test > 0.5, 1, 0)"
   ]
  },
  {
   "cell_type": "code",
   "execution_count": 56,
   "id": "939d1649-5344-449e-a305-5d3564fe0159",
   "metadata": {},
   "outputs": [
    {
     "name": "stdout",
     "output_type": "stream",
     "text": [
      "Validation Metrics:\n",
      "F1 Score: 0.68\n",
      "Accuracy: 0.94\n",
      "ROC AUC: 0.9\n"
     ]
    }
   ],
   "source": [
    "# 평가 메트릭 계산\n",
    "# f1_val, accuracy_val는 0과 1로 나눈걸로 해야함\n",
    "\n",
    "f1_val = f1_score(y_val, y_pred_val_binary, average='macro')\n",
    "accuracy_val = accuracy_score(y_val, y_pred_val_binary)\n",
    "roc_auc_val = roc_auc_score(y_val, y_pred_val)\n",
    "\n",
    "print(\"Validation Metrics:\")\n",
    "print(f\"F1 Score: {round(f1_val, 2)}\")\n",
    "print(f\"Accuracy: {round(accuracy_val, 2)}\")\n",
    "print(f\"ROC AUC: {round(roc_auc_val, 2)}\")"
   ]
  },
  {
   "cell_type": "code",
   "execution_count": 64,
   "id": "f5795b8e-787d-42be-a99b-09ed68b3cde5",
   "metadata": {},
   "outputs": [
    {
     "name": "stdout",
     "output_type": "stream",
     "text": [
      "Recall: 0.37\n"
     ]
    }
   ],
   "source": [
    "# 0.5\n",
    "# Recall(재현율) 계산\n",
    "\n",
    "y_true = y_val\n",
    "recall = recall_score(y_true, y_pred_val_binary)\n",
    "\n",
    "# 결과 출력\n",
    "print(\"Recall:\", round(recall, 2))"
   ]
  },
  {
   "cell_type": "code",
   "execution_count": 65,
   "id": "5210796b-cd7f-47ee-9fef-89ac300dbd9e",
   "metadata": {},
   "outputs": [
    {
     "name": "stdout",
     "output_type": "stream",
     "text": [
      "precision_label_1: 0.43\n",
      "recall_label_1: 0.37\n",
      "precision_label_0: 0.96\n",
      "recall_label_0: 0.97\n"
     ]
    }
   ],
   "source": [
    "# 0.5 일 때\n",
    "\n",
    "# 라벨 1 (신청자)에 대한 정밀도와 재현율 계산\n",
    "\n",
    "precision_label_1 = precision_score(y_true, y_pred_val_binary, pos_label=1)\n",
    "recall_label_1 = recall_score(y_true, y_pred_val_binary, pos_label=1)\n",
    "\n",
    "\n",
    "# 라벨 0 (미신청자)에 대한 정밀도와 재현율 계산\n",
    "\n",
    "precision_label_0 = precision_score(y_true, y_pred_val_binary, pos_label=0)\n",
    "recall_label_0 = recall_score(y_true, y_pred_val_binary, pos_label=0)\n",
    "\n",
    "# 결과 출력\n",
    "print(f\"precision_label_1: {round(precision_label_1, 2)}\")\n",
    "print(f\"recall_label_1: {round(recall_label_1, 2)}\")\n",
    "print(f\"precision_label_0: {round(precision_label_0, 2)}\")\n",
    "print(f\"recall_label_0: {round(recall_label_0, 2)}\")"
   ]
  },
  {
   "cell_type": "code",
   "execution_count": 29,
   "id": "b5f98d42-754c-40a3-b0d8-07e1e0dc9488",
   "metadata": {},
   "outputs": [
    {
     "data": {
      "image/png": "[encoded data removed]",
      "text/plain": [
       "<Figure size 800x600 with 1 Axes>"
      ]
     },
     "metadata": {},
     "output_type": "display_data"
    }
   ],
   "source": [
    "# ROC 곡선 그리기\n",
    "\n",
    "fpr, tpr, thresholds = roc_curve(y_val, y_pred_val)\n",
    "plt.figure(figsize=(8, 6))\n",
    "plt.plot(fpr, tpr, label='ROC curve (area = %0.2f)' % roc_auc_val)\n",
    "plt.plot([0, 1], [0, 1], 'k--')\n",
    "plt.xlim([0.0, 1.0])\n",
    "plt.ylim([0.0, 1.05])\n",
    "plt.xlabel('False Positive Rate')\n",
    "plt.ylabel('True Positive Rate')\n",
    "plt.title('Receiver Operating Characteristic (ROC)')\n",
    "plt.legend(loc=\"lower right\")\n",
    "plt.show()"
   ]
  },
  {
   "cell_type": "code",
   "execution_count": 30,
   "id": "7898c2c9-84e9-4893-a64a-01b0b3acbe5a",
   "metadata": {},
   "outputs": [
    {
     "data": {
      "text/plain": [
       "<Axes: title={'center': 'Feature importance'}, xlabel='Feature importance', ylabel='Features'>"
      ]
     },
     "execution_count": 30,
     "metadata": {},
     "output_type": "execute_result"
    },
    {
     "data": {
      "image/png": "[encoded data removed]",
      "text/plain": [
       "<Figure size 640x480 with 1 Axes>"
      ]
     },
     "metadata": {},
     "output_type": "display_data"
    }
   ],
   "source": [
    "# 모델 학습시 중요 Feature plot\n",
    "\n",
    "lgb.plot_importance(model)"
   ]
  },
  {
   "cell_type": "markdown",
   "id": "31077156-b53d-4795-ba41-fb9ee328df8d",
   "metadata": {},
   "source": [
    "### **②** undersampling 적용 기법\n",
    "### - 신청자 데이터의 신용 등급 비율에 맞게 미신청자 데이터에 비율을 적용하여 랜덤 샘플링\n",
    "#### ▪︎ 모델 학습"
   ]
  },
  {
   "cell_type": "code",
   "execution_count": null,
   "id": "dbd396e6-ac26-43f7-9814-92b6d54981d1",
   "metadata": {},
   "outputs": [],
   "source": [
    "# train_apply_y의 크기\n",
    "y_size = len(train_apply_y)\n",
    "\n",
    "# train_apply_n 데이터프레임에서 각 cate_credit 값에 대한 비율 계산\n",
    "credit_ratios = train_apply_n['cate_credit'].value_counts(normalize=True)\n",
    "\n",
    "# train_apply_y와 비슷한 크기의 데이터프레임을 생성하기 위한 빈 리스트\n",
    "sampled_dfs = []\n",
    "\n",
    "# train_apply_n 데이터프레임에서 각 cate_credit 값에 대해 비슷한 크기의 샘플 추출\n",
    "for credit, ratio in credit_ratios.items():\n",
    "    # train_apply_n 데이터프레임에서 해당 cate_credit 값에 대한 샘플 추출\n",
    "    credit_df = train_apply_n[train_apply_n['cate_credit'] == credit]\n",
    "    \n",
    "    # 해당 비율만큼 샘플 추출 (train_apply_y의 크기에 맞춤)\n",
    "    sampled_credit_df = resample(credit_df, \n",
    "                                 replace=True,  # 복원 추출\n",
    "                                 n_samples=int(y_size * ratio),  # 비율을 train_apply_y의 크기에 맞춤\n",
    "                                 random_state=42)\n",
    "    print(sampled_credit_df.shape)\n",
    "    \n",
    "    sampled_dfs.append(sampled_credit_df)\n",
    "\n",
    "# 추출한 데이터프레임을 하나로 합치기\n",
    "train_balanced = pd.concat([train_apply_y] + sampled_dfs)\n",
    "\n",
    "# train_balanced 데이터프레임을 shuffle (섞기) - 선택적인 단계\n",
    "train_balanced = train_balanced.sample(frac=1, random_state=42).reset_index(drop=True)"
   ]
  },
  {
   "cell_type": "code",
   "execution_count": null,
   "id": "48fd14bd-d4f7-48f8-9f76-9ba49e7a48c1",
   "metadata": {},
   "outputs": [],
   "source": [
    "# 신청자 / 미신청자 비율 확인\n",
    "\n",
    "n = train_balanced[train_balanced[\"is_applied\"] == 0].count()\n",
    "y = train_balanced[train_balanced[\"is_applied\"]==1].count()\n",
    "\n",
    "print(n)\n",
    "print(y)\n",
    "print(round((y / n), 3))"
   ]
  },
  {
   "cell_type": "code",
   "execution_count": 38,
   "id": "cb03355d-9b89-4239-bf48-2f03bfadc8b9",
   "metadata": {},
   "outputs": [
    {
     "ename": "NameError",
     "evalue": "name 'train_balanced' is not defined",
     "output_type": "error",
     "traceback": [
      "\u001b[1;31m---------------------------------------------------------------------------\u001b[0m",
      "\u001b[1;31mNameError\u001b[0m                                 Traceback (most recent call last)",
      "Cell \u001b[1;32mIn[38], line 1\u001b[0m\n\u001b[1;32m----> 1\u001b[0m train_user_id \u001b[38;5;241m=\u001b[39m \u001b[43mtrain_balanced\u001b[49m[\u001b[38;5;124m\"\u001b[39m\u001b[38;5;124muser_id\u001b[39m\u001b[38;5;124m\"\u001b[39m]\n\u001b[0;32m      2\u001b[0m test_user_id \u001b[38;5;241m=\u001b[39m test_df[\u001b[38;5;124m\"\u001b[39m\u001b[38;5;124muser_id\u001b[39m\u001b[38;5;124m\"\u001b[39m]\n\u001b[0;32m      3\u001b[0m train_balanced \u001b[38;5;241m=\u001b[39m train_balanced\u001b[38;5;241m.\u001b[39mdrop([\u001b[38;5;124m\"\u001b[39m\u001b[38;5;124muser_id\u001b[39m\u001b[38;5;124m\"\u001b[39m], axis\u001b[38;5;241m=\u001b[39m\u001b[38;5;241m1\u001b[39m)\n",
      "\u001b[1;31mNameError\u001b[0m: name 'train_balanced' is not defined"
     ]
    }
   ],
   "source": [
    "train_user_id = train_balanced[\"user_id\"]\n",
    "test_user_id = test_df[\"user_id\"]\n",
    "train_balanced = train_balanced.drop([\"user_id\"], axis=1)\n",
    "test_df = test_df.drop([\"user_id\"], axis=1)"
   ]
  },
  {
   "cell_type": "code",
   "execution_count": 47,
   "id": "d809265c-5dda-4e06-8fb7-b1152036815e",
   "metadata": {},
   "outputs": [],
   "source": [
    "target_col = 'is_applied'\n",
    "features = [col for col in train_df.columns if col != target_col]\n",
    "\n",
    "# X_train, y_train 데이터 분할\n",
    "(X_train, X_val, y_train, y_val) = train_test_split(\n",
    "    train_df[features],  # 특성 열 선택\n",
    "    train_df[target_col],  # 타겟 열 선택\n",
    "    test_size=0.2,  # 검증 데이터 비율\n",
    "    random_state=89  # 랜덤 시드 설정 (재현성을 위해)\n",
    ")\n",
    "\n",
    "# X_test 데이터는 이전과 동일하게 처리\n",
    "X_test = test_df[features]"
   ]
  },
  {
   "cell_type": "code",
   "execution_count": 55,
   "id": "b86f2dd3-e737-4a19-b1f3-830145b48758",
   "metadata": {},
   "outputs": [],
   "source": [
    "stratified_kf = StratifiedKFold(n_splits=5, shuffle=True, random_state=1234)"
   ]
  },
  {
   "cell_type": "code",
   "execution_count": 56,
   "id": "1b9782b9-3b31-404b-887a-d1bb634e4dfc",
   "metadata": {},
   "outputs": [],
   "source": [
    "param_grid = {\n",
    "    \"objective\": [\"binary\"],\n",
    "    \"boosting_type\": [\"gbdt\"],\n",
    "    \"metric\": [\"binary_logloss\"],\n",
    "    \"n_estimators\": [50, 100, 500,],\n",
    "    \"learning_rate\": [0.1, 0.01, 0.001],\n",
    "    \"num_leaves\": [10, 20, 63],\n",
    "}"
   ]
  },
  {
   "cell_type": "code",
   "execution_count": 57,
   "id": "6dc03d8d-5a1a-4bf9-ad6b-5293762bc3c1",
   "metadata": {},
   "outputs": [],
   "source": [
    "model = lgb.LGBMClassifier()"
   ]
  },
  {
   "cell_type": "code",
   "execution_count": 58,
   "id": "bca26ffa-0449-47f9-a9bc-fa439a504275",
   "metadata": {},
   "outputs": [
    {
     "data": {
      "text/html": [
       "<style>#sk-container-id-1 {color: black;background-color: white;}#sk-container-id-1 pre{padding: 0;}#sk-container-id-1 div.sk-toggleable {background-color: white;}#sk-container-id-1 label.sk-toggleable__label {cursor: pointer;display: block;width: 100%;margin-bottom: 0;padding: 0.3em;box-sizing: border-box;text-align: center;}#sk-container-id-1 label.sk-toggleable__label-arrow:before {content: \"▸\";float: left;margin-right: 0.25em;color: #696969;}#sk-container-id-1 label.sk-toggleable__label-arrow:hover:before {color: black;}#sk-container-id-1 div.sk-estimator:hover label.sk-toggleable__label-arrow:before {color: black;}#sk-container-id-1 div.sk-toggleable__content {max-height: 0;max-width: 0;overflow: hidden;text-align: left;background-color: #f0f8ff;}#sk-container-id-1 div.sk-toggleable__content pre {margin: 0.2em;color: black;border-radius: 0.25em;background-color: #f0f8ff;}#sk-container-id-1 input.sk-toggleable__control:checked~div.sk-toggleable__content {max-height: 200px;max-width: 100%;overflow: auto;}#sk-container-id-1 input.sk-toggleable__control:checked~label.sk-toggleable__label-arrow:before {content: \"▾\";}#sk-container-id-1 div.sk-estimator input.sk-toggleable__control:checked~label.sk-toggleable__label {background-color: #d4ebff;}#sk-container-id-1 div.sk-label input.sk-toggleable__control:checked~label.sk-toggleable__label {background-color: #d4ebff;}#sk-container-id-1 input.sk-hidden--visually {border: 0;clip: rect(1px 1px 1px 1px);clip: rect(1px, 1px, 1px, 1px);height: 1px;margin: -1px;overflow: hidden;padding: 0;position: absolute;width: 1px;}#sk-container-id-1 div.sk-estimator {font-family: monospace;background-color: #f0f8ff;border: 1px dotted black;border-radius: 0.25em;box-sizing: border-box;margin-bottom: 0.5em;}#sk-container-id-1 div.sk-estimator:hover {background-color: #d4ebff;}#sk-container-id-1 div.sk-parallel-item::after {content: \"\";width: 100%;border-bottom: 1px solid gray;flex-grow: 1;}#sk-container-id-1 div.sk-label:hover label.sk-toggleable__label {background-color: #d4ebff;}#sk-container-id-1 div.sk-serial::before {content: \"\";position: absolute;border-left: 1px solid gray;box-sizing: border-box;top: 0;bottom: 0;left: 50%;z-index: 0;}#sk-container-id-1 div.sk-serial {display: flex;flex-direction: column;align-items: center;background-color: white;padding-right: 0.2em;padding-left: 0.2em;position: relative;}#sk-container-id-1 div.sk-item {position: relative;z-index: 1;}#sk-container-id-1 div.sk-parallel {display: flex;align-items: stretch;justify-content: center;background-color: white;position: relative;}#sk-container-id-1 div.sk-item::before, #sk-container-id-1 div.sk-parallel-item::before {content: \"\";position: absolute;border-left: 1px solid gray;box-sizing: border-box;top: 0;bottom: 0;left: 50%;z-index: -1;}#sk-container-id-1 div.sk-parallel-item {display: flex;flex-direction: column;z-index: 1;position: relative;background-color: white;}#sk-container-id-1 div.sk-parallel-item:first-child::after {align-self: flex-end;width: 50%;}#sk-container-id-1 div.sk-parallel-item:last-child::after {align-self: flex-start;width: 50%;}#sk-container-id-1 div.sk-parallel-item:only-child::after {width: 0;}#sk-container-id-1 div.sk-dashed-wrapped {border: 1px dashed gray;margin: 0 0.4em 0.5em 0.4em;box-sizing: border-box;padding-bottom: 0.4em;background-color: white;}#sk-container-id-1 div.sk-label label {font-family: monospace;font-weight: bold;display: inline-block;line-height: 1.2em;}#sk-container-id-1 div.sk-label-container {text-align: center;}#sk-container-id-1 div.sk-container {/* jupyter's `normalize.less` sets `[hidden] { display: none; }` but bootstrap.min.css set `[hidden] { display: none !important; }` so we also need the `!important` here to be able to override the default hidden behavior on the sphinx rendered scikit-learn.org. See: https://github.com/scikit-learn/scikit-learn/issues/21755 */display: inline-block !important;position: relative;}#sk-container-id-1 div.sk-text-repr-fallback {display: none;}</style><div id=\"sk-container-id-1\" class=\"sk-top-container\"><div class=\"sk-text-repr-fallback\"><pre>GridSearchCV(cv=StratifiedKFold(n_splits=5, random_state=1234, shuffle=True),\n",
       "             estimator=LGBMClassifier(),\n",
       "             param_grid={&#x27;boosting_type&#x27;: [&#x27;gbdt&#x27;],\n",
       "                         &#x27;learning_rate&#x27;: [0.1, 0.01, 0.001],\n",
       "                         &#x27;metric&#x27;: [&#x27;binary_logloss&#x27;],\n",
       "                         &#x27;n_estimators&#x27;: [50, 100, 500],\n",
       "                         &#x27;num_leaves&#x27;: [10, 20, 63], &#x27;objective&#x27;: [&#x27;binary&#x27;]},\n",
       "             scoring=&#x27;accuracy&#x27;)</pre><b>In a Jupyter environment, please rerun this cell to show the HTML representation or trust the notebook. <br />On GitHub, the HTML representation is unable to render, please try loading this page with nbviewer.org.</b></div><div class=\"sk-container\" hidden><div class=\"sk-item sk-dashed-wrapped\"><div class=\"sk-label-container\"><div class=\"sk-label sk-toggleable\"><input class=\"sk-toggleable__control sk-hidden--visually\" id=\"sk-estimator-id-1\" type=\"checkbox\" ><label for=\"sk-estimator-id-1\" class=\"sk-toggleable__label sk-toggleable__label-arrow\">GridSearchCV</label><div class=\"sk-toggleable__content\"><pre>GridSearchCV(cv=StratifiedKFold(n_splits=5, random_state=1234, shuffle=True),\n",
       "             estimator=LGBMClassifier(),\n",
       "             param_grid={&#x27;boosting_type&#x27;: [&#x27;gbdt&#x27;],\n",
       "                         &#x27;learning_rate&#x27;: [0.1, 0.01, 0.001],\n",
       "                         &#x27;metric&#x27;: [&#x27;binary_logloss&#x27;],\n",
       "                         &#x27;n_estimators&#x27;: [50, 100, 500],\n",
       "                         &#x27;num_leaves&#x27;: [10, 20, 63], &#x27;objective&#x27;: [&#x27;binary&#x27;]},\n",
       "             scoring=&#x27;accuracy&#x27;)</pre></div></div></div><div class=\"sk-parallel\"><div class=\"sk-parallel-item\"><div class=\"sk-item\"><div class=\"sk-label-container\"><div class=\"sk-label sk-toggleable\"><input class=\"sk-toggleable__control sk-hidden--visually\" id=\"sk-estimator-id-2\" type=\"checkbox\" ><label for=\"sk-estimator-id-2\" class=\"sk-toggleable__label sk-toggleable__label-arrow\">estimator: LGBMClassifier</label><div class=\"sk-toggleable__content\"><pre>LGBMClassifier()</pre></div></div></div><div class=\"sk-serial\"><div class=\"sk-item\"><div class=\"sk-estimator sk-toggleable\"><input class=\"sk-toggleable__control sk-hidden--visually\" id=\"sk-estimator-id-3\" type=\"checkbox\" ><label for=\"sk-estimator-id-3\" class=\"sk-toggleable__label sk-toggleable__label-arrow\">LGBMClassifier</label><div class=\"sk-toggleable__content\"><pre>LGBMClassifier()</pre></div></div></div></div></div></div></div></div></div></div>"
      ],
      "text/plain": [
       "GridSearchCV(cv=StratifiedKFold(n_splits=5, random_state=1234, shuffle=True),\n",
       "             estimator=LGBMClassifier(),\n",
       "             param_grid={'boosting_type': ['gbdt'],\n",
       "                         'learning_rate': [0.1, 0.01, 0.001],\n",
       "                         'metric': ['binary_logloss'],\n",
       "                         'n_estimators': [50, 100, 500],\n",
       "                         'num_leaves': [10, 20, 63], 'objective': ['binary']},\n",
       "             scoring='accuracy')"
      ]
     },
     "execution_count": 58,
     "metadata": {},
     "output_type": "execute_result"
    }
   ],
   "source": [
    "grid_search = GridSearchCV(\n",
    "    estimator=model,\n",
    "    param_grid=param_grid,\n",
    "    cv=stratified_kf,\n",
    "    scoring=\"accuracy\"\n",
    ")\n",
    "grid_search.fit(X_train, y_train)"
   ]
  },
  {
   "cell_type": "code",
   "execution_count": 59,
   "id": "c4e37913-122d-40a0-b94c-0bb4790185e2",
   "metadata": {},
   "outputs": [
    {
     "data": {
      "text/plain": [
       "{'boosting_type': 'gbdt',\n",
       " 'learning_rate': 0.1,\n",
       " 'metric': 'binary_logloss',\n",
       " 'n_estimators': 500,\n",
       " 'num_leaves': 63,\n",
       " 'objective': 'binary'}"
      ]
     },
     "execution_count": 59,
     "metadata": {},
     "output_type": "execute_result"
    }
   ],
   "source": [
    "grid_search.best_params_"
   ]
  },
  {
   "cell_type": "code",
   "execution_count": 60,
   "id": "b873ae01-487c-4712-9894-2ece51b77fed",
   "metadata": {},
   "outputs": [
    {
     "data": {
      "text/plain": [
       "0.9462973868636343"
      ]
     },
     "execution_count": 60,
     "metadata": {},
     "output_type": "execute_result"
    }
   ],
   "source": [
    "grid_search.best_score_"
   ]
  },
  {
   "cell_type": "code",
   "execution_count": 62,
   "id": "6bb0f1cc-09a9-4b9e-88b1-7254bf331882",
   "metadata": {},
   "outputs": [
    {
     "data": {
      "text/html": [
       "<style>#sk-container-id-2 {color: black;background-color: white;}#sk-container-id-2 pre{padding: 0;}#sk-container-id-2 div.sk-toggleable {background-color: white;}#sk-container-id-2 label.sk-toggleable__label {cursor: pointer;display: block;width: 100%;margin-bottom: 0;padding: 0.3em;box-sizing: border-box;text-align: center;}#sk-container-id-2 label.sk-toggleable__label-arrow:before {content: \"▸\";float: left;margin-right: 0.25em;color: #696969;}#sk-container-id-2 label.sk-toggleable__label-arrow:hover:before {color: black;}#sk-container-id-2 div.sk-estimator:hover label.sk-toggleable__label-arrow:before {color: black;}#sk-container-id-2 div.sk-toggleable__content {max-height: 0;max-width: 0;overflow: hidden;text-align: left;background-color: #f0f8ff;}#sk-container-id-2 div.sk-toggleable__content pre {margin: 0.2em;color: black;border-radius: 0.25em;background-color: #f0f8ff;}#sk-container-id-2 input.sk-toggleable__control:checked~div.sk-toggleable__content {max-height: 200px;max-width: 100%;overflow: auto;}#sk-container-id-2 input.sk-toggleable__control:checked~label.sk-toggleable__label-arrow:before {content: \"▾\";}#sk-container-id-2 div.sk-estimator input.sk-toggleable__control:checked~label.sk-toggleable__label {background-color: #d4ebff;}#sk-container-id-2 div.sk-label input.sk-toggleable__control:checked~label.sk-toggleable__label {background-color: #d4ebff;}#sk-container-id-2 input.sk-hidden--visually {border: 0;clip: rect(1px 1px 1px 1px);clip: rect(1px, 1px, 1px, 1px);height: 1px;margin: -1px;overflow: hidden;padding: 0;position: absolute;width: 1px;}#sk-container-id-2 div.sk-estimator {font-family: monospace;background-color: #f0f8ff;border: 1px dotted black;border-radius: 0.25em;box-sizing: border-box;margin-bottom: 0.5em;}#sk-container-id-2 div.sk-estimator:hover {background-color: #d4ebff;}#sk-container-id-2 div.sk-parallel-item::after {content: \"\";width: 100%;border-bottom: 1px solid gray;flex-grow: 1;}#sk-container-id-2 div.sk-label:hover label.sk-toggleable__label {background-color: #d4ebff;}#sk-container-id-2 div.sk-serial::before {content: \"\";position: absolute;border-left: 1px solid gray;box-sizing: border-box;top: 0;bottom: 0;left: 50%;z-index: 0;}#sk-container-id-2 div.sk-serial {display: flex;flex-direction: column;align-items: center;background-color: white;padding-right: 0.2em;padding-left: 0.2em;position: relative;}#sk-container-id-2 div.sk-item {position: relative;z-index: 1;}#sk-container-id-2 div.sk-parallel {display: flex;align-items: stretch;justify-content: center;background-color: white;position: relative;}#sk-container-id-2 div.sk-item::before, #sk-container-id-2 div.sk-parallel-item::before {content: \"\";position: absolute;border-left: 1px solid gray;box-sizing: border-box;top: 0;bottom: 0;left: 50%;z-index: -1;}#sk-container-id-2 div.sk-parallel-item {display: flex;flex-direction: column;z-index: 1;position: relative;background-color: white;}#sk-container-id-2 div.sk-parallel-item:first-child::after {align-self: flex-end;width: 50%;}#sk-container-id-2 div.sk-parallel-item:last-child::after {align-self: flex-start;width: 50%;}#sk-container-id-2 div.sk-parallel-item:only-child::after {width: 0;}#sk-container-id-2 div.sk-dashed-wrapped {border: 1px dashed gray;margin: 0 0.4em 0.5em 0.4em;box-sizing: border-box;padding-bottom: 0.4em;background-color: white;}#sk-container-id-2 div.sk-label label {font-family: monospace;font-weight: bold;display: inline-block;line-height: 1.2em;}#sk-container-id-2 div.sk-label-container {text-align: center;}#sk-container-id-2 div.sk-container {/* jupyter's `normalize.less` sets `[hidden] { display: none; }` but bootstrap.min.css set `[hidden] { display: none !important; }` so we also need the `!important` here to be able to override the default hidden behavior on the sphinx rendered scikit-learn.org. See: https://github.com/scikit-learn/scikit-learn/issues/21755 */display: inline-block !important;position: relative;}#sk-container-id-2 div.sk-text-repr-fallback {display: none;}</style><div id=\"sk-container-id-2\" class=\"sk-top-container\"><div class=\"sk-text-repr-fallback\"><pre>LGBMClassifier(metric=&#x27;binary_logloss&#x27;, n_estimators=500, num_leaves=63,\n",
       "               objective=&#x27;binary&#x27;)</pre><b>In a Jupyter environment, please rerun this cell to show the HTML representation or trust the notebook. <br />On GitHub, the HTML representation is unable to render, please try loading this page with nbviewer.org.</b></div><div class=\"sk-container\" hidden><div class=\"sk-item\"><div class=\"sk-estimator sk-toggleable\"><input class=\"sk-toggleable__control sk-hidden--visually\" id=\"sk-estimator-id-4\" type=\"checkbox\" checked><label for=\"sk-estimator-id-4\" class=\"sk-toggleable__label sk-toggleable__label-arrow\">LGBMClassifier</label><div class=\"sk-toggleable__content\"><pre>LGBMClassifier(metric=&#x27;binary_logloss&#x27;, n_estimators=500, num_leaves=63,\n",
       "               objective=&#x27;binary&#x27;)</pre></div></div></div></div></div>"
      ],
      "text/plain": [
       "LGBMClassifier(metric='binary_logloss', n_estimators=500, num_leaves=63,\n",
       "               objective='binary')"
      ]
     },
     "execution_count": 62,
     "metadata": {},
     "output_type": "execute_result"
    }
   ],
   "source": [
    "model = lgb.LGBMClassifier(**grid_search.best_params_)\n",
    "model.fit(X_train, y_train)"
   ]
  },
  {
   "cell_type": "code",
   "execution_count": 63,
   "id": "452e7387-ddc4-488f-b823-8c4b4f99b927",
   "metadata": {},
   "outputs": [],
   "source": [
    "# fit 사용했을 때\n",
    "\n",
    "y_pred_val = model.predict_proba(X_val)\n",
    "y_pred_test = model.predict_proba(X_test)"
   ]
  },
  {
   "cell_type": "code",
   "execution_count": 64,
   "id": "32d67344-5e68-461b-85b4-7b8e2ecc325a",
   "metadata": {},
   "outputs": [],
   "source": [
    "# 0, 1로 나누는 것\n",
    "\n",
    "y_pred_val_binary = model.predict(X_val)\n",
    "y_pred_test_binary = model.predict(X_test)"
   ]
  },
  {
   "cell_type": "code",
   "execution_count": null,
   "id": "677d675c-bcb8-4b06-8083-48ff7418a9ea",
   "metadata": {},
   "outputs": [],
   "source": [
    "# y_pred_val_binary를 DataFrame으로 변환\n",
    "y_pred_val_binary_df = pd.DataFrame(y_pred_val_binary, columns=['Predicted_Label'])\n",
    "\n",
    "# X_test와 y_pred_test_binary를 열 방향(axis=1)으로 연결\n",
    "val_predict_df = pd.concat([val_df, y_pred_val_binary], axis=1)"
   ]
  },
  {
   "cell_type": "code",
   "execution_count": null,
   "id": "d5154de4-7fba-45a8-95eb-abefc7476829",
   "metadata": {},
   "outputs": [],
   "source": [
    "# y_pred_test_binary를 DataFrame으로 변환\n",
    "y_pred_test_binary_df = pd.DataFrame(y_pred_test_binary, columns=['Predicted_Label'])\n",
    "\n",
    "# X_test와 y_pred_test_binary를 열 방향(axis=1)으로 연결\n",
    "test_predict_df = pd.concat([X_test, y_pred_test_binary_df], axis=1)"
   ]
  },
  {
   "cell_type": "code",
   "execution_count": 65,
   "id": "24077b2b-577b-4b8e-85d4-59563ca680f0",
   "metadata": {},
   "outputs": [
    {
     "name": "stdout",
     "output_type": "stream",
     "text": [
      "Validation Metrics:\n",
      "F1 Score: 0.58\n",
      "Accuracy: 0.95\n",
      "ROC AUC: 0.9\n"
     ]
    }
   ],
   "source": [
    "# 평가 메트릭 계산\n",
    "# f1_val, accuracy_val는 0과 1로 나눈걸로 해야함\n",
    "\n",
    "f1_val = f1_score(y_val, y_pred_val_binary, average='macro')\n",
    "accuracy_val = accuracy_score(y_val, y_pred_val_binary)\n",
    "roc_auc_val = roc_auc_score(y_val, y_pred_val[:, 1])\n",
    "\n",
    "print(\"Validation Metrics:\")\n",
    "print(f\"F1 Score: {round(f1_val, 2)}\")\n",
    "print(f\"Accuracy: {round(accuracy_val, 2)}\")\n",
    "print(f\"ROC AUC: {round(roc_auc_val, 2)}\")"
   ]
  },
  {
   "cell_type": "code",
   "execution_count": 66,
   "id": "c165408a-90a2-4884-a6a6-9c9ffbe8d927",
   "metadata": {},
   "outputs": [
    {
     "name": "stdout",
     "output_type": "stream",
     "text": [
      "Recall: 0.10832789331343841\n"
     ]
    }
   ],
   "source": [
    "# Recall(재현율) 계산\n",
    "\n",
    "y_true = y_val\n",
    "recall = recall_score(y_true, y_pred_val_binary)\n",
    "\n",
    "# 결과 출력\n",
    "print(\"Recall:\", recall)"
   ]
  },
  {
   "cell_type": "code",
   "execution_count": 67,
   "id": "3d04cc2a-a46d-4b3b-ae4a-887b3964838e",
   "metadata": {},
   "outputs": [
    {
     "name": "stdout",
     "output_type": "stream",
     "text": [
      "precision_label_1: 0.58\n",
      "recall_label_1: 0.11\n",
      "precision_label_0: 0.95\n",
      "recall_label_0: 1.0\n"
     ]
    }
   ],
   "source": [
    "# 라벨 1 (신청자)에 대한 정밀도와 재현율 계산\n",
    "precision_label_1 = precision_score(y_true, y_pred_val_binary, pos_label=1)\n",
    "recall_label_1 = recall_score(y_true, y_pred_val_binary, pos_label=1)\n",
    "\n",
    "\n",
    "# 라벨 0 (미신청자)에 대한 정밀도와 재현율 계산\n",
    "precision_label_0 = precision_score(y_true, y_pred_val_binary, pos_label=0)\n",
    "recall_label_0 = recall_score(y_true, y_pred_val_binary, pos_label=0)\n",
    "\n",
    "# 결과 출력\n",
    "print(f\"precision_label_1: {round(precision_label_1, 2)}\")\n",
    "print(f\"recall_label_1: {round(recall_label_1, 2)}\")\n",
    "print(f\"precision_label_0: {round(precision_label_0, 2)}\")\n",
    "print(f\"recall_label_0: {round(recall_label_0, 2)}\")"
   ]
  },
  {
   "cell_type": "code",
   "execution_count": 68,
   "id": "50f109ab-db75-41be-bf19-ea8ea88fd79c",
   "metadata": {},
   "outputs": [
    {
     "data": {
      "image/png": "[encoded data removed]",
      "text/plain": [
       "<Figure size 800x600 with 1 Axes>"
      ]
     },
     "metadata": {},
     "output_type": "display_data"
    }
   ],
   "source": [
    "# ROC 곡선 그리기\n",
    "\n",
    "fpr, tpr, thresholds = roc_curve(y_val, y_pred_val[:, 1])\n",
    "plt.figure(figsize=(8, 6))\n",
    "plt.plot(fpr, tpr, label='ROC curve (area = %0.2f)' % roc_auc_val)\n",
    "plt.plot([0, 1], [0, 1], 'k--')\n",
    "plt.xlim([0.0, 1.0])\n",
    "plt.ylim([0.0, 1.05])\n",
    "plt.xlabel('False Positive Rate')\n",
    "plt.ylabel('True Positive Rate')\n",
    "plt.title('Receiver Operating Characteristic (ROC)')\n",
    "plt.legend(loc=\"lower right\")\n",
    "plt.show()"
   ]
  },
  {
   "cell_type": "code",
   "execution_count": 70,
   "id": "d8c01e38-58a6-404c-a923-12cfb0646dab",
   "metadata": {},
   "outputs": [
    {
     "data": {
      "text/plain": [
       "<Axes: title={'center': 'Feature importance'}, xlabel='Feature importance', ylabel='Features'>"
      ]
     },
     "execution_count": 70,
     "metadata": {},
     "output_type": "execute_result"
    },
    {
     "data": {
      "image/png": "[encoded data removed]",
      "text/plain": [
       "<Figure size 640x480 with 1 Axes>"
      ]
     },
     "metadata": {},
     "output_type": "display_data"
    }
   ],
   "source": [
    "lgb.plot_importance(model)"
   ]
  },
  {
   "cell_type": "code",
   "execution_count": null,
   "id": "ed96e069-87da-430e-8e30-672b169a4aba",
   "metadata": {},
   "outputs": [],
   "source": [
    "# 이진 분류 예측 값을 0 또는 1으로 변환\n",
    "y_pred_val_t = np.where(y_pred_val > 0.95, 1, 0)\n",
    "y_pred_test_t = np.where(y_pred_test > 0.95, 1, 0)"
   ]
  },
  {
   "cell_type": "markdown",
   "id": "32887067-dec2-4106-97f9-ca9aa6b41223",
   "metadata": {},
   "source": [
    "# **Ⅵ 생성형 AI 활용**"
   ]
  },
  {
   "cell_type": "markdown",
   "id": "3398fcc5-9c54-41f6-9642-fe901717cd5b",
   "metadata": {},
   "source": [
    "### 자동화 분석서 작성"
   ]
  },
  {
   "cell_type": "code",
   "execution_count": null,
   "id": "c35537cc-3dc3-4f48-8f8e-cc9b6c8e42d1",
   "metadata": {},
   "outputs": [],
   "source": [
    "feature_query = \"importance features는 loan_rate, product_id, bank_id, credit_score, loan_limit, desired_amount, yearly_income 순서이다.\""
   ]
  },
  {
   "cell_type": "code",
   "execution_count": null,
   "id": "1e901a51-a034-42c1-be4c-99dafcdbb23d",
   "metadata": {},
   "outputs": [],
   "source": [
    "# 프롬프트\n",
    "\n",
    "def generate_prompt(user_id, yearly_income, credit_score, cate_credit, purpose, desired_amount, bank_id, \n",
    "product_id, loan_limit, loan_rate, is_applied, feature_query):\n",
    "    prompt = f\"\"\"\n",
    "Finda앱 사용 고객의 대출 신청 예측 결과에 대한 이유를 분석해서 보고하는 보고서 형식으로 작성해주세요.\n",
    "고객 정보의 금융사명, 상품 번호, 대출 상품 한도, 대출 상품 금리는 고객이 Finda앱으로 대출 조회 결과 중에 선택했을 것으 \n",
    "로 예상되는 정보입니다.\n",
    "예측 모델이 고려한 중요 특징을 이용해서 모델이 예측한 신청 여부에 대한 이유를 고객 정보를 자세히 분석해서 구체적인 내 \n",
    "용을 보고서 형식으로 작성해주세요.\n",
    "---\n",
    "[ 대출 신청 예측 결과 보고서 ] \n",
    "고객명 : {user_id}\n",
    "연소득 : {yearly_income}원 \n",
    "신용 점수 : {credit_score}점 \n",
    "신용 등급 : {cate_credit}등급 \n",
    "대출 목적 : {purpose}\n",
    "대출 희망 금액 : {desired_amount}원 \n",
    "선택 금융사명 : {bank_id}\n",
    "선택 상품 번호 : {product_id} \n",
    "대출 상품 한도 : {loan_limit}원 \n",
    "대출 상품 금리 : {loan_rate}% \n",
    "신청 여부 예측 결과 : {is_applied}\n",
    "--- \n",
    "\"\"\"\n",
    "    return prompt.strip()"
   ]
  },
  {
   "cell_type": "code",
   "execution_count": null,
   "id": "18f08cc0-80a2-4738-87aa-88a8e69d0c51",
   "metadata": {},
   "outputs": [],
   "source": [
    "prompt = generate_prompt(user_id, yearly_income, credit_score, cate_credit, purpose, desired_amount, bank_id, \n",
    "product_id, loan_limit, loan_rate, is_applied, feature_query)"
   ]
  },
  {
   "cell_type": "code",
   "execution_count": null,
   "id": "ddd41180-5098-4974-99d6-cee56d54b47d",
   "metadata": {},
   "outputs": [],
   "source": [
    "def request_chat_completion(prompt, is_stream): \n",
    "    response = openai.ChatCompletion.create( \n",
    "        model=\"gpt-3.5-turbo-0613\",\n",
    "        messages=[\n",
    "            {\"role\": \"system\", \"content\": \"당신은 대출 전문가입니다.\"}, \n",
    "            {\"role\": \"user\", \"content\": prompt}\n",
    "        ],\n",
    "        stream=is_stream \n",
    "    )\n",
    "    return response"
   ]
  },
  {
   "cell_type": "code",
   "execution_count": null,
   "id": "80e1ef70-c444-47cb-9f1a-e02984a032a1",
   "metadata": {},
   "outputs": [],
   "source": [
    "response = request_chat_completion(prompt, is_stream=True)\n",
    "for chunk in response:\n",
    "        delta = chunk.choices[0][\"delta\"]\n",
    "        if \"content\" in delta:\n",
    "            print(delta[\"content\"], end=\"\")\n",
    "        else:\n",
    "            break"
   ]
  },
  {
   "cell_type": "markdown",
   "id": "ce358eb1-59cb-4217-965c-5e84db8b7458",
   "metadata": {},
   "source": [
    "### 메시지 및 보고서 작성"
   ]
  },
  {
   "cell_type": "code",
   "execution_count": null,
   "id": "50415f9a-85eb-4555-8637-c250c657d9d7",
   "metadata": {},
   "outputs": [],
   "source": [
    "def generate_prompt(group_info):\n",
    "    prompt = f\"\"\"\n",
    "    그룹 정보와 이 그룹에게 보낼 메시지에 맞게 그룹에 대해 예시처럼 rpg 게임 속 직업처럼 창의적이지만 부정적이지않은 별명을 지어주세요.\n",
    "    이 그룹에게 보낼 메시지는 큰 대출 금액을 효율적인 대출관리 서비스 사용을 유도할 수 있도록 예시속 메세지와 {group_info}를 참고해서 간결하게 작성해주세요.\n",
    "    메시지의 내용은 사용자가 핀다앱의 서비스에 대해 흥미를 유발할만한 메시지를 예시속 메시지처럼 최대한 간결하게 작성해주세요.\n",
    "    회사에게 보고하기 위해 그룹 정보를 이용하여 그룹에 대한 설명을 자세하게 적고, 이 메시지의 효과도 구체적으로 설명해주세요.\n",
    "\n",
    "---\n",
    "예시)\n",
    "[ 고객에게 제공할 내용 ]\n",
    "당신은 \"무한한 가능성을 탐구하는 탐험가\"입니다.\n",
    "메시지: \"최강의 길잡이, 핀다앱과 함께라면 더 큰 성장을 이룰 수 있어요!\"\n",
    "\n",
    "[ 회사에 보고할 내용 ]\n",
    "그룹 정보 및 메시지 효과 : {group_info} 연소득이 높아 대출 상환 능력이 좋을 것으로 예상되지만 대출받은 경험이 없으며 대출 관리 서비스를 많이 이용해서 대출에 관심이 있다고 예상해서 핀다앱을 통해 대출신청을 유도할 그룹\n",
    "- 이 그룹은 핀다 서비스 자주 사용하지만 대출을 받은 경험이 없는 사용자로 연소득이 높아 대출 상환 능력이 좋을 것으로 예상됩니다. 이들에게 여러 대출을 추천해주고 대출 신청을 유도하는 메세지입니다.\n",
    "- 별명을 \"무한한 가능성을 탐구하는 탐험가\"로 정의하여, 사용자들에게 새로운 도전을 제안하는 메시지입니다. 이를 통해 사용자들의 흥미를 유발하고 핀다앱의 서비스에 참여할 동기를 부여합니다.\n",
    "- 메세지는 간결하고 흥미로운 내용으로 작성되어 있어 사용자들에게 호감을 줄 것으로 예상됩니다.\n",
    "- 이 그룹의 핀다 서비스를 자주 사용하므로 대출에 관심이 많은 것으로 예상되어 핀다앱을 통해 대출 신청할 잠재력이 크기 때문에, 이들의 신청을 유도하는 것이 중요합니다.\n",
    "- 이 메세지를 통해 대출 상품을 추천해서 핀다앱으로 대출 신청을 유도합니다.\n",
    "\n",
    "---\n",
    "\"\"\"\n",
    "    return prompt.strip()"
   ]
  },
  {
   "cell_type": "code",
   "execution_count": null,
   "id": "d9a2f821-6766-4f4c-8426-a77cfd39f9c0",
   "metadata": {},
   "outputs": [],
   "source": [
    "def request_chat_completion(prompt, is_stream):\n",
    "    response = openai.ChatCompletion.create(\n",
    "        model=\"gpt-3.5-turbo-0613\",\n",
    "        messages=[\n",
    "            {\"role\": \"system\", \"content\": \"당신은 핀다앱 마케팅 담당자입니다.\"},\n",
    "            {\"role\": \"user\", \"content\": prompt}\n",
    "        ],\n",
    "        stream=is_stream\n",
    "    )\n",
    "    return response"
   ]
  }
 ],
 "metadata": {
  "kernelspec": {
   "display_name": "Python 3 (ipykernel)",
   "language": "python",
   "name": "python3"
  },
  "language_info": {
   "codemirror_mode": {
    "name": "ipython",
    "version": 3
   },
   "file_extension": ".py",
   "mimetype": "text/x-python",
   "name": "python",
   "nbconvert_exporter": "python",
   "pygments_lexer": "ipython3",
   "version": "3.11.3"
  }
 },
 "nbformat": 4,
 "nbformat_minor": 5
}
